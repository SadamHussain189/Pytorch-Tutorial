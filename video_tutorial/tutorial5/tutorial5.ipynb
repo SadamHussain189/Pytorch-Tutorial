{
 "cells": [
  {
   "cell_type": "markdown",
   "metadata": {},
   "source": [
    "# Using TensorBoard with PyTorch\n",
    "## Before You Start\n",
    "\n",
    "To run this tutorial, you'll need to install PyTorch, TorchVision, Matplotlib, and TensorBoard.\n",
    "\n",
    "With `conda`:\n",
    "\n",
    "`conda install pytorch torchvision -c pytorch`\n",
    "`conda install matplotlib tensorboard`\n",
    "\n",
    "With `pip`:\n",
    "\n",
    "`pip install torch torchvision matplotlib tensorboard`\n",
    "\n",
    "Once the dependencies are installed, restart this notebook in the Python environment where you installed them."
   ]
  },
  {
   "cell_type": "markdown",
   "metadata": {},
   "source": [
    "## Introduction\n",
    "\n",
    "In this notebook, we'll be training a variant of LeNet-5 against the Fashion-MNIST dataset. Fashion-MNIST is a set of image tiles depicting various garments, with ten class labels indicating the type of garment depicted."
   ]
  },
  {
   "cell_type": "code",
   "execution_count": 1,
   "metadata": {},
   "outputs": [],
   "source": [
    "# PyTorch model and training necessities\n",
    "import torch\n",
    "import torch.nn as nn\n",
    "import torch.nn.functional as F\n",
    "import torch.optim as optim\n",
    "\n",
    "# Image datasets and image manipulation\n",
    "import torchvision\n",
    "import torchvision.transforms as transforms\n",
    "\n",
    "# Image display\n",
    "import matplotlib.pyplot as plt\n",
    "import numpy as np\n",
    "\n",
    "# PyTorch TensorBoard support\n",
    "from torch.utils.tensorboard import SummaryWriter"
   ]
  },
  {
   "cell_type": "markdown",
   "metadata": {},
   "source": [
    "## Showing Images in TensorBoard\n",
    "\n",
    "Let's start by adding sample images from our dataset to TensorBoard:"
   ]
  },
  {
   "cell_type": "code",
   "execution_count": null,
   "metadata": {},
   "outputs": [],
   "source": [
    "# Gather datasets and prepare them for consumption\n",
    "transform = transforms.Compose(\n",
    "    [transforms.ToTensor(),\n",
    "    transforms.Normalize((0.5,), (0.5,))])\n",
    "\n",
    "# Store separate training and validations splits in ./data\n",
    "training_set = torchvision.datasets.FashionMNIST('./data',\n",
    "    download=True,\n",
    "    train=True,\n",
    "    transform=transform)\n",
    "validation_set = torchvision.datasets.FashionMNIST('./data',\n",
    "    download=True,\n",
    "    train=False,\n",
    "    transform=transform)\n",
    "\n",
    "training_loader = torch.utils.data.DataLoader(training_set,\n",
    "                                              batch_size=4,\n",
    "                                              shuffle=True,\n",
    "                                              num_workers=2)\n",
    "\n",
    "\n",
    "validation_loader = torch.utils.data.DataLoader(validation_set,\n",
    "                                                batch_size=4,\n",
    "                                                shuffle=False,\n",
    "                                                num_workers=2)\n",
    "\n",
    "# Class labels\n",
    "classes = ('T-shirt/top', 'Trouser', 'Pullover', 'Dress', 'Coat',\n",
    "        'Sandal', 'Shirt', 'Sneaker', 'Bag', 'Ankle Boot')\n",
    "\n",
    "\n",
    "\n",
    "\n",
    "# Gather dataset and prepare them for consumption\n",
    "transform = transforms.Compose(\n",
    "    [transforms.ToTensor(),\n",
    "    transforms.Normalize((0.5), (0.5))])\n",
    "\n",
    "# Store seperate training and validation splits in ./data\n",
    "training_set = torchvision.datasets.FashionMNIST('./data',\n",
    "                download=True,\n",
    "                train=True,\n",
    "                transform=transform)\n",
    "validation_set = torchvision.datasets.FashionMNIST('./data',\n",
    "                download=True,\n",
    "                train=False,\n",
    "                transform=transform)                \n",
    "\n",
    "training_loader = torch.utils.data.DataLoader(training_set,\n",
    "                                                batch_size=4,\n",
    "                                                shuffle=False,\n",
    "                                                num_worker=2)\n",
    "\n",
    "validation_loader = torch.utils.data.DataLoader(validation_loader,\n",
    "                                                batch_size=4,\n",
    "                                                shuffle=True,\n",
    "                                                num_worker=2)\n",
    "\n",
    "# class labels\n",
    "classes = ('T-shirts/top', 'Trouser', 'Pullover', 'Dress', 'Coat', \n",
    "        'Sandal', 'Shirt', 'Sneaker', 'Bag', 'Ankle Boot')                                                "
   ]
  }
 ],
 "metadata": {
  "kernelspec": {
   "display_name": "Python 3.10.12 64-bit",
   "language": "python",
   "name": "python3"
  },
  "language_info": {
   "codemirror_mode": {
    "name": "ipython",
    "version": 3
   },
   "file_extension": ".py",
   "mimetype": "text/x-python",
   "name": "python",
   "nbconvert_exporter": "python",
   "pygments_lexer": "ipython3",
   "version": "3.10.12"
  },
  "orig_nbformat": 4,
  "vscode": {
   "interpreter": {
    "hash": "916dbcbb3f70747c44a77c7bcd40155683ae19c65e1c03b4aa3499c5328201f1"
   }
  }
 },
 "nbformat": 4,
 "nbformat_minor": 2
}
