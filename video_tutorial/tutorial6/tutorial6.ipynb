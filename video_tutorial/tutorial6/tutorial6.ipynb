{
 "cells": [
  {
   "cell_type": "markdown",
   "metadata": {},
   "source": [
    "# Train your model in PyTorch\n",
    "## Introduction\n",
    "In past videos, we've discussed and demonstrated:\n",
    "* Building models with the neural network layers and functions of the torch.nn module\n",
    "* The mechanics of automated gradient computation, which is central to gradient-based model training\n",
    "* Using TensorBoard to visualize training progress and other activities\n",
    "\n",
    "In this video, we'll be adding some new tools to your inventory:\n",
    "* We'll get familiar with the dataset and dataloader abstractions, and how they ease the process of feeding data to your model during a training loop\n",
    "* We'll discuss specific loss functions and when to use them\n",
    "* We'll look at PyTorch optimizers, which implement algorithms to adjust model weights based on the outcome of a loss function\n",
    "\n",
    "Finally, we'll pull all of these together and see a full PyTorch training loop in action."
   ]
  },
  {
   "cell_type": "markdown",
   "metadata": {},
   "source": [
    "## Dataset and DataLoader\n",
    "The `Dataset` and `DataLoader` classes encapsulate the process of pulling your data from storage and exposing it to your training loop in batches.\n",
    "\n",
    "The `Dataset` is responsible for accessing and processing single instances of data.\n",
    "\n",
    "The `DataLoader` pulls instances of data from the `Dataset` (either automatically or with a sampler that you define), collects them in batches, and returns them for consumption by your training loop. The `DataLoader` works with all kinds of datasets, regardless of the type of data they contain.\n",
    "\n",
    "For this tutorial, we'll be using the Fashion-MNIST dataset provided by TorchVision. We use `torchvision.transforms.Normalize()` to zero-center and normalize the distribution of the image tile content, and download both training and validation data splits.\n"
   ]
  },
  {
   "cell_type": "code",
   "execution_count": null,
   "metadata": {},
   "outputs": [],
   "source": []
  }
 ],
 "metadata": {
  "kernelspec": {
   "display_name": "Python 3.10.12 64-bit",
   "language": "python",
   "name": "python3"
  },
  "language_info": {
   "name": "python",
   "version": "3.10.12"
  },
  "orig_nbformat": 4,
  "vscode": {
   "interpreter": {
    "hash": "916dbcbb3f70747c44a77c7bcd40155683ae19c65e1c03b4aa3499c5328201f1"
   }
  }
 },
 "nbformat": 4,
 "nbformat_minor": 2
}
