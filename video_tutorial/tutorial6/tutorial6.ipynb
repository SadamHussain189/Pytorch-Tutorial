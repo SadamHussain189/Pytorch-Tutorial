{
 "cells": [
  {
   "cell_type": "markdown",
   "metadata": {},
   "source": [
    "# Train your model in PyTorch\n",
    "## Introduction\n",
    "In past videos, we've discussed and demonstrated:\n",
    "* Building models with the neural network layers and functions of the torch.nn module\n",
    "* The mechanics of automated gradient computation, which is central to gradient-based model training\n",
    "* Using TensorBoard to visualize training progress and other activities\n",
    "\n",
    "In this video, we'll be adding some new tools to your inventory:\n",
    "* We'll get familiar with the dataset and dataloader abstractions, and how they ease the process of feeding data to your model during a training loop\n",
    "* We'll discuss specific loss functions and when to use them\n",
    "* We'll look at PyTorch optimizers, which implement algorithms to adjust model weights based on the outcome of a loss function\n",
    "\n",
    "Finally, we'll pull all of these together and see a full PyTorch training loop in action."
   ]
  },
  {
   "cell_type": "markdown",
   "metadata": {},
   "source": [
    "## Dataset and DataLoader\n",
    "The `Dataset` and `DataLoader` classes encapsulate the process of pulling your data from storage and exposing it to your training loop in batches.\n",
    "\n",
    "The `Dataset` is responsible for accessing and processing single instances of data.\n",
    "\n",
    "The `DataLoader` pulls instances of data from the `Dataset` (either automatically or with a sampler that you define), collects them in batches, and returns them for consumption by your training loop. The `DataLoader` works with all kinds of datasets, regardless of the type of data they contain.\n",
    "\n",
    "For this tutorial, we'll be using the Fashion-MNIST dataset provided by TorchVision. We use `torchvision.transforms.Normalize()` to zero-center and normalize the distribution of the image tile content, and download both training and validation data splits.\n"
   ]
  },
  {
   "cell_type": "code",
   "execution_count": 1,
   "metadata": {},
   "outputs": [
    {
     "name": "stdout",
     "output_type": "stream",
     "text": [
      "Training set has 60000 instances\n",
      "Validation set has 10000 instances\n"
     ]
    }
   ],
   "source": [
    "import torch\n",
    "import torchvision\n",
    "import torchvision.transforms as transforms \n",
    "\n",
    "# PyTorch TensorBoard support\n",
    "from torch.utils.tensorboard import SummaryWriter\n",
    "from datetime import  datetime\n",
    "\n",
    "transform = transforms.Compose([\n",
    "    transforms.ToTensor(),\n",
    "    transforms.Normalize((0.5,), (0.5,))\n",
    "])\n",
    "\n",
    "# Create datasets for training & validation, download if necessary\n",
    "training_set = torchvision.datasets.FashionMNIST('./data', train=True, transform=transform, download=True)\n",
    "validation_set = torchvision.datasets.FashionMNIST('./data', train=False, transform=transform, download=True)\n",
    "\n",
    "# Create data loaders for our datasets; shuffle for training, not for validation\n",
    "training_loader = torch.utils.data.DataLoader(training_set, batch_size=4, shuffle=True, num_workers=2)\n",
    "validation_loader = torch.utils.data.DataLoader(validation_set, batch_size=4, shuffle=False, num_workers=2)\n",
    "\n",
    "\n",
    "# Class Labels\n",
    "classes = ('T-shirt/top', 'Trouser', 'Pullover', 'Dress', 'Coat',\n",
    "           'Sandal', 'Shirt', 'Sneaker', 'Bag', 'Ankle Boot')\n",
    "\n",
    "# Report split sizes\n",
    "print('Training set has {} instances'.format(len(training_set)))\n",
    "print('Validation set has {} instances'.format(len(validation_set)))"
   ]
  },
  {
   "cell_type": "markdown",
   "metadata": {},
   "source": [
    "As always, let's visuilize the data as a sanity check:"
   ]
  },
  {
   "cell_type": "code",
   "execution_count": 2,
   "metadata": {},
   "outputs": [
    {
     "name": "stdout",
     "output_type": "stream",
     "text": [
      "Dress Sneaker Trouser T-shirt/top\n"
     ]
    },
    {
     "data": {
      "image/png": "[encoded data removed]",
      "text/plain": [
       "<Figure size 640x480 with 1 Axes>"
      ]
     },
     "metadata": {},
     "output_type": "display_data"
    }
   ],
   "source": [
    "import matplotlib.pyplot as plt\n",
    "import numpy as np\n",
    "\n",
    "# Helper function for inline image display\n",
    "def matplotlib_imshow(img, one_channel=False):\n",
    "    if one_channel:\n",
    "        img = img.mean(dim=0)\n",
    "    img = img / 2 + 0.5 # unnormalize\n",
    "    npimg = img.numpy()\n",
    "    if one_channel:\n",
    "        plt.imshow(npimg, cmap='Greys')\n",
    "    else:\n",
    "        plt.imshow(np.transpose(npimg, (1, 2, 0)))\n",
    "        \n",
    "dataiter = iter(training_loader)\n",
    "images, labels = next(dataiter)\n",
    "\n",
    "# Create a grid from image and show them\n",
    "img_grid = torchvision.utils.make_grid(images)\n",
    "matplotlib_imshow(img_grid, one_channel=True)\n",
    "print(' '.join(classes[labels[j]] for j in range(4)))\n"
   ]
  },
  {
   "cell_type": "markdown",
   "metadata": {},
   "source": [
    "## The Model\n",
    "\n",
    "The model we'll use in this example is a variant of LeNet-5 - it should be familiar if you've watched the previous videos in this series."
   ]
  },
  {
   "cell_type": "code",
   "execution_count": 3,
   "metadata": {},
   "outputs": [],
   "source": [
    "import torch.nn as nn\n",
    "import torch.nn.functional as F\n",
    "\n",
    "class GarmetsClassifier(torch.nn.Module):\n",
    "    def __init__(self):\n",
    "        super(GarmetsClassifier, self).__init__()\n",
    "        self.conv1 = nn.Conv2d(1, 6, 5)\n",
    "        self.pool = nn.MaxPool2d(2, 2)\n",
    "        self.conv2 = nn.Conv2d(6, 16, 5)\n",
    "        self.fc1 = nn.Linear(16 * 4 * 4, 120)\n",
    "        self.fc2 = nn.Linear(120, 84)\n",
    "        self.fc3 = nn.Linear(84, 10)\n",
    "        \n",
    "    def forward(self, x):\n",
    "        x = self.pool(F.relu(self.conv1(x)))\n",
    "        x = self.pool(F.relu(self.conv2(x)))\n",
    "        x = x.view(-1, 16 * 4 * 4)\n",
    "        x = F.relu(self.fc1(x))\n",
    "        x = F.relu(self.fc2(x))\n",
    "        x = self.fc3(x)\n",
    "        return x\n",
    "    \n",
    "model = GarmetsClassifier()\n"
   ]
  },
  {
   "cell_type": "markdown",
   "metadata": {},
   "source": [
    "## Loss Function\n",
    "\n",
    "For this example, we'll be using a cross-entropy loss. For demonstration purposes, we'll create batches of dummy output and label values, run them through the loss function, and examine the result."
   ]
  },
  {
   "cell_type": "code",
   "execution_count": 4,
   "metadata": {},
   "outputs": [
    {
     "name": "stdout",
     "output_type": "stream",
     "text": [
      "tensor([[0.6532, 0.3535, 0.6790, 0.4930, 0.5316, 0.5781, 0.0907, 0.5483, 0.1334,\n",
      "         0.4964],\n",
      "        [0.9715, 0.7418, 0.4849, 0.0075, 0.0036, 0.1761, 0.9221, 0.2233, 0.9075,\n",
      "         0.5154],\n",
      "        [0.7263, 0.2081, 0.7150, 0.9918, 0.7852, 0.6988, 0.4564, 0.3839, 0.8068,\n",
      "         0.9435],\n",
      "        [0.0131, 0.9174, 0.7032, 0.7496, 0.8634, 0.0635, 0.9842, 0.9518, 0.6386,\n",
      "         0.7944]])\n",
      "tensor([1, 5, 3, 7])\n",
      "Total loss for this batch: 2.2957921028137207\n"
     ]
    }
   ],
   "source": [
    "loss_fn = torch.nn.CrossEntropyLoss()\n",
    "\n",
    "# NB: Loss functions expect data in batches, so we're creating batches of 4\n",
    "# Represents the model's confidence in each of the 10 classes for a given input\n",
    "dummy_outputs = torch.rand(4, 10)\n",
    "# Represents the correct class among the 10 being tested\n",
    "dummy_labels = torch.tensor([1, 5, 3, 7])\n",
    "    \n",
    "print(dummy_outputs)\n",
    "print(dummy_labels)\n",
    "\n",
    "loss = loss_fn(dummy_outputs, dummy_labels)\n",
    "print('Total loss for this batch: {}'.format(loss.item()))"
   ]
  },
  {
   "cell_type": "markdown",
   "metadata": {},
   "source": [
    "## Optimizer\n",
    "\n",
    "For this example, we'll be using simple [stochastic gradient descent](https://pytorch.org/docs/stable/optim.html) with momentum.\n",
    "\n",
    "It can be instructive to try some variations on this optimization scheme:\n",
    "* Learning rate determines the size of the steps the optimizer takes. What does a different learning rate do to the your training results, in terms of accuracy and convergence time?\n",
    "* Momentum nudges the optimizer in the direction of strongest gradient over multiple steps. What does changing this value do to your results?\n",
    "* Try some different optimization algorithms, such as averaged SGD, Adagrad, or Adam. How do your results differ?"
   ]
  },
  {
   "cell_type": "code",
   "execution_count": 5,
   "metadata": {},
   "outputs": [],
   "source": [
    "# optimizers specified in the torch.optim package\n",
    "optimizer = torch.optim.SGD(model.parameters(), lr=0.001, momentum=0.9)"
   ]
  },
  {
   "cell_type": "markdown",
   "metadata": {},
   "source": [
    "## The Training Loop\n",
    "\n",
    "Below, we have a function that performs one training epoch. It enumerates data from the DataLoader, and on each pass of the loop does the following:\n",
    "* Gets a batch of training data from the DataLoader\n",
    "* Zeros the optimizer's gradients\n",
    "* Performs an inference - that is, gets predictions from the model for an input batch\n",
    "* Calculates the loss for that set of predictions vs. the labels on the dataset\n",
    "* Calculates the backward gradients over the learning weights\n",
    "* Tells the optimizer to perform one learning step - that is, adjust the model's learning weights based on the observed gradients for this batch, according to the optimization algorithm we chose\n",
    "* It reports on the loss for every 1000 batches.\n",
    "* Finally, it reports the average per-batch loss for the last 1000 batches, for comparison with a validation run"
   ]
  },
  {
   "cell_type": "code",
   "execution_count": 6,
   "metadata": {},
   "outputs": [],
   "source": [
    "def train_one_epoch(epoch_index, tb_writer):\n",
    "    running_loss = 0.\n",
    "    last_loss = 0.\n",
    "\n",
    "    # Here, we use enumerate(training_loader) instead of\n",
    "    # iter(training_loader) so that we can track the batch\n",
    "    # index and do some intra-epoch reporting\n",
    "    for i, data in enumerate(training_loader):\n",
    "        # Every data instance is an input + label pair\n",
    "        inputs, labels = data\n",
    "\n",
    "        # Zero your gradient for every batch\n",
    "        optimizer.zero_grad()\n",
    "\n",
    "        # Make predictions for this batch\n",
    "        outputs = model(inputs)\n",
    "\n",
    "        # Compute the loss and its gradients\n",
    "        loss = loss_fn(outputs, labels)\n",
    "        loss.backward()\n",
    "\n",
    "        # Adjust learning weights\n",
    "        optimizer.step()\n",
    "\n",
    "        # Gather data and report\n",
    "        running_loss += loss.item()\n",
    "        if i % 1000 == 999:\n",
    "            last_loss = running_loss / 1000 # loss per batch\n",
    "            print(' batch {} loss: {}'.format(i + 1, last_loss))\n",
    "            tb_x = epoch_index * len(training_loader) + i + 1\n",
    "            tb_writer.add_scalar('Loss/train', last_loss, tb_x)\n",
    "            running_loss = 0.\n",
    "    return last_loss"
   ]
  },
  {
   "cell_type": "markdown",
   "metadata": {},
   "source": [
    "### Per-Epoch Activity\n",
    "\n",
    "There are a couple of things we'll want to do once per epoch:\n",
    "* Perform validation by checking our relative loss on a set of data that was not used for training, and report this\n",
    "* Save a copy of the model\n",
    "\n",
    "Here, we'll do our reporting in TensorBoard. This will require going to the command line to start TensorBoard, and opening it in another browser tab."
   ]
  },
  {
   "cell_type": "code",
   "execution_count": 7,
   "metadata": {},
   "outputs": [],
   "source": [
    "# Initializing in a separate cell so we can easily add more epochs to same run\n",
    "timestamp = datetime.now().strftime('%Y%m%d_%H%M%S')\n",
    "writer = SummaryWriter('runs/fashion_trainer_{}'.format(timestamp))\n",
    "epoch_number = 0"
   ]
  },
  {
   "cell_type": "code",
   "execution_count": 8,
   "metadata": {},
   "outputs": [
    {
     "name": "stdout",
     "output_type": "stream",
     "text": [
      "EPOCHS 1:\n",
      " batch 1000 loss: 1.6213202792480588\n",
      " batch 2000 loss: 0.82588090063259\n",
      " batch 3000 loss: 0.6899174088081345\n",
      " batch 4000 loss: 0.6181228419826366\n",
      " batch 5000 loss: 0.5891468827069039\n",
      " batch 6000 loss: 0.5453642097925767\n",
      " batch 7000 loss: 0.524869933717593\n",
      " batch 8000 loss: 0.5085897152360994\n",
      " batch 9000 loss: 0.4700479573342018\n",
      " batch 10000 loss: 0.464596116553992\n",
      " batch 11000 loss: 0.450093017866835\n",
      " batch 12000 loss: 0.4527033041989198\n",
      " batch 13000 loss: 0.408170610345318\n",
      " batch 14000 loss: 0.42742812292231247\n",
      " batch 15000 loss: 0.4264623018307611\n",
      "LOSS train 0.4264623018307611 vaalid 0.4044179618358612\n",
      "EPOCHS 2:\n",
      " batch 1000 loss: 0.3948491215397371\n",
      " batch 2000 loss: 0.3827849175129377\n",
      " batch 3000 loss: 0.37315975381142924\n",
      " batch 4000 loss: 0.39350819890515415\n",
      " batch 5000 loss: 0.37940177129040237\n",
      " batch 6000 loss: 0.37018991596699924\n",
      " batch 7000 loss: 0.3695065317990957\n",
      " batch 8000 loss: 0.3712505794709723\n",
      " batch 9000 loss: 0.36790837720721903\n",
      " batch 10000 loss: 0.35280052788811733\n",
      " batch 11000 loss: 0.3494457707577385\n",
      " batch 12000 loss: 0.3535275610651297\n",
      " batch 13000 loss: 0.35948957731205156\n",
      " batch 14000 loss: 0.3538049807283387\n",
      " batch 15000 loss: 0.3435751441556786\n",
      "LOSS train 0.3435751441556786 vaalid 0.3578978180885315\n",
      "EPOCHS 3:\n",
      " batch 1000 loss: 0.31212068745098076\n",
      " batch 2000 loss: 0.32753732942067293\n",
      " batch 3000 loss: 0.3234539331342385\n",
      " batch 4000 loss: 0.3224081205927505\n",
      " batch 5000 loss: 0.3070170381833304\n",
      " batch 6000 loss: 0.34404334867356373\n",
      " batch 7000 loss: 0.3339012962784909\n",
      " batch 8000 loss: 0.3381805831089732\n",
      " batch 9000 loss: 0.3217406644372968\n",
      " batch 10000 loss: 0.3322663121906444\n",
      " batch 11000 loss: 0.31197283657934166\n",
      " batch 12000 loss: 0.3041658003228949\n",
      " batch 13000 loss: 0.3212691189070538\n",
      " batch 14000 loss: 0.296856401812438\n",
      " batch 15000 loss: 0.30568223287059665\n",
      "LOSS train 0.30568223287059665 vaalid 0.32850533723831177\n",
      "EPOCHS 4:\n",
      " batch 1000 loss: 0.29958253197829615\n",
      " batch 2000 loss: 0.28686718836887304\n",
      " batch 3000 loss: 0.272337760278926\n",
      " batch 4000 loss: 0.29444279017922237\n",
      " batch 5000 loss: 0.29004014377137355\n",
      " batch 6000 loss: 0.2916930003777161\n",
      " batch 7000 loss: 0.2895220955772638\n",
      " batch 8000 loss: 0.3022577543046446\n",
      " batch 9000 loss: 0.3171351575016306\n",
      " batch 10000 loss: 0.3098498074786512\n",
      " batch 11000 loss: 0.30062145185342526\n",
      " batch 12000 loss: 0.308414421214009\n",
      " batch 13000 loss: 0.2872381343341112\n",
      " batch 14000 loss: 0.30264971542198327\n",
      " batch 15000 loss: 0.26474847288136516\n",
      "LOSS train 0.26474847288136516 vaalid 0.3309621810913086\n",
      "EPOCHS 5:\n",
      " batch 1000 loss: 0.2779140826148796\n",
      " batch 2000 loss: 0.2881547709417937\n",
      " batch 3000 loss: 0.2611252280548424\n",
      " batch 4000 loss: 0.2753525550670802\n",
      " batch 5000 loss: 0.2670778163388659\n",
      " batch 6000 loss: 0.28961128682418896\n",
      " batch 7000 loss: 0.2907051299605701\n",
      " batch 8000 loss: 0.2770432817165638\n",
      " batch 9000 loss: 0.2646655466169723\n",
      " batch 10000 loss: 0.270783879705501\n",
      " batch 11000 loss: 0.27393110855019404\n",
      " batch 12000 loss: 0.27722085704027266\n",
      " batch 13000 loss: 0.2697880681898823\n",
      " batch 14000 loss: 0.2438381678583937\n",
      " batch 15000 loss: 0.28201759097463946\n",
      "LOSS train 0.28201759097463946 vaalid 0.300309419631958\n",
      "EPOCHS 6:\n",
      " batch 1000 loss: 0.26672012242429743\n",
      " batch 2000 loss: 0.26865687763274765\n",
      " batch 3000 loss: 0.24971748920506798\n",
      " batch 4000 loss: 0.2622791708193636\n",
      " batch 5000 loss: 0.24662548409256987\n",
      " batch 6000 loss: 0.2580927872747535\n",
      " batch 7000 loss: 0.25554014124232616\n",
      " batch 8000 loss: 0.2585307054154291\n",
      " batch 9000 loss: 0.25915408451870825\n",
      " batch 10000 loss: 0.2616316324200743\n",
      " batch 11000 loss: 0.2680519485445093\n",
      " batch 12000 loss: 0.24204681656028765\n",
      " batch 13000 loss: 0.25505450409225616\n",
      " batch 14000 loss: 0.2514469377152436\n",
      " batch 15000 loss: 0.257906444518926\n",
      "LOSS train 0.257906444518926 vaalid 0.3167978525161743\n",
      "EPOCHS 7:\n",
      " batch 1000 loss: 0.24931310224876416\n",
      " batch 2000 loss: 0.23959282832780446\n",
      " batch 3000 loss: 0.2404287120707372\n",
      " batch 4000 loss: 0.2237213408700918\n",
      " batch 5000 loss: 0.24201551226369702\n",
      " batch 6000 loss: 0.25372041043561333\n",
      " batch 7000 loss: 0.2537715466230693\n",
      " batch 8000 loss: 0.2390184981121056\n",
      " batch 9000 loss: 0.2700171064789811\n",
      " batch 10000 loss: 0.24700404600503498\n",
      " batch 11000 loss: 0.2617529969041707\n",
      " batch 12000 loss: 0.2539560501391984\n",
      " batch 13000 loss: 0.24154574874989884\n",
      " batch 14000 loss: 0.23369521279167976\n",
      " batch 15000 loss: 0.24716796654104656\n",
      "LOSS train 0.24716796654104656 vaalid 0.33008742332458496\n",
      "EPOCHS 8:\n",
      " batch 1000 loss: 0.22534671891091237\n",
      " batch 2000 loss: 0.2293485846601302\n",
      " batch 3000 loss: 0.2387220370861703\n",
      " batch 4000 loss: 0.2282795952791157\n",
      " batch 5000 loss: 0.23961188468570255\n",
      " batch 6000 loss: 0.2394112864797271\n",
      " batch 7000 loss: 0.232591026901295\n",
      " batch 8000 loss: 0.23594337434037244\n",
      " batch 9000 loss: 0.22909233076250213\n",
      " batch 10000 loss: 0.2461347021397787\n",
      " batch 11000 loss: 0.23838898999555044\n",
      " batch 12000 loss: 0.23673147062738736\n",
      " batch 13000 loss: 0.25193973729383734\n",
      " batch 14000 loss: 0.22579296510475616\n",
      " batch 15000 loss: 0.22346197363608575\n",
      "LOSS train 0.22346197363608575 vaalid 0.3184879422187805\n",
      "EPOCHS 9:\n",
      " batch 1000 loss: 0.2093741360864862\n",
      " batch 2000 loss: 0.2193759040006205\n",
      " batch 3000 loss: 0.21381061424182554\n",
      " batch 4000 loss: 0.20961865281261452\n",
      " batch 5000 loss: 0.2296997439280458\n",
      " batch 6000 loss: 0.24203946774342483\n",
      " batch 7000 loss: 0.22665896490354157\n",
      " batch 8000 loss: 0.22105460933850588\n",
      " batch 9000 loss: 0.22423035641679961\n",
      " batch 10000 loss: 0.2290554786106004\n",
      " batch 11000 loss: 0.24672507453246773\n",
      " batch 12000 loss: 0.21687569567632364\n",
      " batch 13000 loss: 0.21648334690602675\n",
      " batch 14000 loss: 0.23358389605244065\n",
      " batch 15000 loss: 0.23382737408209414\n",
      "LOSS train 0.23382737408209414 vaalid 0.28291448950767517\n",
      "EPOCHS 10:\n",
      " batch 1000 loss: 0.1962416763514075\n",
      " batch 2000 loss: 0.20896101870190795\n",
      " batch 3000 loss: 0.2141092746832801\n",
      " batch 4000 loss: 0.21624272971476785\n",
      " batch 5000 loss: 0.20762601942490586\n",
      " batch 6000 loss: 0.21591371169822154\n",
      " batch 7000 loss: 0.22055354359274998\n",
      " batch 8000 loss: 0.21513605281100262\n",
      " batch 9000 loss: 0.21918145097442626\n",
      " batch 10000 loss: 0.2110218041203697\n",
      " batch 11000 loss: 0.21875584695889894\n",
      " batch 12000 loss: 0.21066032553981337\n",
      " batch 13000 loss: 0.21910526783659134\n",
      " batch 14000 loss: 0.2308784526535399\n",
      " batch 15000 loss: 0.21674287622759447\n",
      "LOSS train 0.21674287622759447 vaalid 0.29936981201171875\n"
     ]
    }
   ],
   "source": [
    "EPOCHS = 10\n",
    "best_vloss = 1_000_000.\n",
    "\n",
    "for epoch in range(EPOCHS):\n",
    "    print('EPOCHS {}:'.format(epoch_number + 1))\n",
    "\n",
    "    # Make sure gradient tracking is on, and do a pass over the data\n",
    "    model.train(True)\n",
    "    avg_loss = train_one_epoch(epoch_number, writer)\n",
    "\n",
    "    # we don't need gradient on to do reporting\n",
    "    model.train(False)\n",
    "\n",
    "    running_vloss = 0.0\n",
    "    for i, vdata in enumerate(validation_loader):\n",
    "        vinputs, vlabels = vdata\n",
    "        voutputs = model(vinputs)\n",
    "        vloss = loss_fn(voutputs, vlabels)\n",
    "        running_vloss += vloss\n",
    "\n",
    "    avg_vloss = running_vloss / (i + 1)\n",
    "    print('LOSS train {} vaalid {}'.format(avg_loss, avg_vloss))\n",
    "\n",
    "    # Log the running loss averaged per batch\n",
    "    # for both training and validation\n",
    "    writer.add_scalars('Training vs. Validation Loss',\n",
    "                        {'Training' : avg_loss, \"Validation\" : avg_vloss},\n",
    "                        epoch_number + 1)\n",
    "    writer.flush()\n",
    "\n",
    "    # Track best performance, and save the model's state\n",
    "    if avg_vloss < best_vloss:\n",
    "        best_vloss = avg_loss\n",
    "        model_path = 'model_{}_{}'.format(timestamp, epoch_number)\n",
    "        torch.save(model.state_dict(), model_path)\n",
    "\n",
    "    epoch_number += 1"
   ]
  },
  {
   "cell_type": "markdown",
   "metadata": {},
   "source": [
    "To load a saved version of the model:\n",
    "\n",
    "```\n",
    "saved_model = GarmentClassifier()\n",
    "saved_model.load_state_dict(torch.load(PATH))\n",
    "```\n",
    "\n",
    "Once you've loaded the model, it's ready for whatever you need it for - more training, inference, or analysis.\n",
    "\n",
    "Note that if your model has constructor parameters that affect model structure, you'll need to provide them and configure the model identically to the state in which it was saved.\n",
    "\n",
    "## Other Resources\n",
    "\n",
    "* Docs on the [data utilities](https://pytorch.org/docs/stable/data.html), including Dataset and DataLoader, at pytorch.org\n",
    "* A [note on the use of pinned memory](https://pytorch.org/docs/stable/notes/cuda.html#cuda-memory-pinning) for GPU training\n",
    "* Documentation on the datasets available in [TorchVision](https://pytorch.org/docs/stable/torchvision/datasets.html), [TorchText](https://pytorch.org/text/datasets.html), and [TorchAudio](https://pytorch.org/audio/datasets.html)\n",
    "* Documentation on the [loss functions](https://pytorch.org/docs/stable/nn.html#loss-functions) available in PyTorch\n",
    "* Documentation on the [torch.optim package](https://pytorch.org/docs/stable/optim.html), which includes optimizers and related tools, such as learning rate scheduling\n",
    "* A detailed [tutorial on saving and loading models](https://pytorch.org/tutorials/beginner/saving_loading_models.html)\n",
    "* The [Tutorials section of pytorch.org](https://pytorch.org/tutorials/) contains tutorials on a broad variety of training tasks, including classification in different domains, generative adversarial networks, reinforcement learning, and more"
   ]
  },
  {
   "cell_type": "code",
   "execution_count": 9,
   "metadata": {},
   "outputs": [
    {
     "data": {
      "image/png": "[encoded data removed]",
      "text/plain": [
       "<Figure size 640x480 with 1 Axes>"
      ]
     },
     "metadata": {},
     "output_type": "display_data"
    }
   ],
   "source": [
    "img_grid = torchvision.utils.make_grid(images)\n",
    "matplotlib_imshow(img_grid, one_channel=True)"
   ]
  },
  {
   "cell_type": "markdown",
   "metadata": {},
   "source": []
  },
  {
   "cell_type": "code",
   "execution_count": 11,
   "metadata": {},
   "outputs": [],
   "source": [
    "# Write image data to TensorBoard log dir\n",
    "writer.add_image('Four Fashion-MNIST Images', img_grid)\n",
    "writer.add_graph(model, images)\n",
    "writer.flush()"
   ]
  },
  {
   "cell_type": "code",
   "execution_count": 12,
   "metadata": {},
   "outputs": [],
   "source": [
    "# Select a random subset of data and corresponding labels\n",
    "def select_n_random(data, labels, n=100):\n",
    "    assert len(data) == len(labels)\n",
    "\n",
    "    perm = torch.randperm(len(data))\n",
    "    return data[perm][:n], labels[perm][:n]\n",
    "\n",
    "# Extract a random subset of data\n",
    "images, labels = select_n_random(training_set.data, training_set.targets)\n",
    "\n",
    "# get the class labels for each image\n",
    "class_labels = [classes[label] for label in labels]\n",
    "\n",
    "# log embeddings\n",
    "features = images.view(-1, 28 * 28)\n",
    "writer.add_embedding(features,\n",
    "                    metadata=class_labels,\n",
    "                    label_img=images.unsqueeze(1))\n",
    "writer.flush()\n",
    "writer.close()\n"
   ]
  },
  {
   "cell_type": "code",
   "execution_count": null,
   "metadata": {},
   "outputs": [],
   "source": []
  }
 ],
 "metadata": {
  "kernelspec": {
   "display_name": "Python 3.10.12 64-bit",
   "language": "python",
   "name": "python3"
  },
  "language_info": {
   "codemirror_mode": {
    "name": "ipython",
    "version": 3
   },
   "file_extension": ".py",
   "mimetype": "text/x-python",
   "name": "python",
   "nbconvert_exporter": "python",
   "pygments_lexer": "ipython3",
   "version": "3.10.12"
  },
  "orig_nbformat": 4,
  "vscode": {
   "interpreter": {
    "hash": "916dbcbb3f70747c44a77c7bcd40155683ae19c65e1c03b4aa3499c5328201f1"
   }
  }
 },
 "nbformat": 4,
 "nbformat_minor": 2
}
