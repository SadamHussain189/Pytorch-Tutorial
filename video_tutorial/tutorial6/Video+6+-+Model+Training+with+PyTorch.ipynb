{
 "cells": [
  {
   "cell_type": "markdown",
   "metadata": {},
   "source": [
    "# Training Your Model in PyTorch\n",
    "## Introduction\n",
    "In past videos, we've discussed and demonstrated:\n",
    "* Building models with the neural network layers and functions of the torch.nn module\n",
    "* The mechanics of automated gradient computation, which is central to gradient-based model training\n",
    "* Using TensorBoard to visualize training progress and other activities\n",
    "\n",
    "In this video, we'll be adding some new tools to your inventory:\n",
    "* We'll get familiar with the dataset and dataloader abstractions, and how they ease the process of feeding data to your model during a training loop\n",
    "* We'll discuss specific loss functions and when to use them\n",
    "* We'll look at PyTorch optimizers, which implement algorithms to adjust model weights based on the outcome of a loss function\n",
    "\n",
    "Finally, we'll pull all of these together and see a full PyTorch training loop in action."
   ]
  },
  {
   "cell_type": "markdown",
   "metadata": {},
   "source": [
    "## Dataset and DataLoader\n",
    "\n",
    "The `Dataset` and `DataLoader` classes encapsulate the process of pulling your data from storage and exposing it to your training loop in batches.\n",
    "\n",
    "The `Dataset` is responsible for accessing and processing single instances of data.\n",
    "\n",
    "The `DataLoader` pulls instances of data from the `Dataset` (either automatically or with a sampler that you define), collects them in batches, and returns them for consumption by your training loop. The `DataLoader` works with all kinds of datasets, regardless of the type of data they contain.\n",
    "\n",
    "For this tutorial, we'll be using the Fashion-MNIST dataset provided by TorchVision. We use `torchvision.transforms.Normalize()` to zero-center and normalize the distribution of the image tile content, and download both training and validation data splits."
   ]
  },
  {
   "cell_type": "code",
   "execution_count": 1,
   "metadata": {},
   "outputs": [
    {
     "name": "stdout",
     "output_type": "stream",
     "text": [
      "Training set has 60000 instances\n",
      "Validation set has 10000 instances\n"
     ]
    }
   ],
   "source": [
    "import torch\n",
    "import torchvision\n",
    "import torchvision.transforms as transforms\n",
    "\n",
    "# PyTorch TensorBoard support\n",
    "from torch.utils.tensorboard import SummaryWriter\n",
    "from datetime import datetime\n",
    "\n",
    "\n",
    "transform = transforms.Compose(\n",
    "    [transforms.ToTensor(),\n",
    "    transforms.Normalize((0.5,), (0.5,))])\n",
    "\n",
    "# Create datasets for training & validation, download if necessary\n",
    "training_set = torchvision.datasets.FashionMNIST('./data', train=True, transform=transform, download=True)\n",
    "validation_set = torchvision.datasets.FashionMNIST('./data', train=False, transform=transform, download=True)\n",
    "\n",
    "# Create data loaders for our datasets; shuffle for training, not for validation\n",
    "training_loader = torch.utils.data.DataLoader(training_set, batch_size=4, shuffle=True, num_workers=2)\n",
    "validation_loader = torch.utils.data.DataLoader(validation_set, batch_size=4, shuffle=False, num_workers=2)\n",
    "\n",
    "# Class labels\n",
    "classes = ('T-shirt/top', 'Trouser', 'Pullover', 'Dress', 'Coat',\n",
    "        'Sandal', 'Shirt', 'Sneaker', 'Bag', 'Ankle Boot')\n",
    "\n",
    "# Report split sizes\n",
    "print('Training set has {} instances'.format(len(training_set)))\n",
    "print('Validation set has {} instances'.format(len(validation_set)))"
   ]
  },
  {
   "cell_type": "markdown",
   "metadata": {},
   "source": [
    "As always, let's visualize the data as a sanity check:"
   ]
  },
  {
   "cell_type": "code",
   "execution_count": 2,
   "metadata": {},
   "outputs": [
    {
     "name": "stdout",
     "output_type": "stream",
     "text": [
      "Dress  Bag  T-shirt/top  Bag\n"
     ]
    },
    {
     "data": {
      "image/png": "[encoded data removed]",
      "text/plain": [
       "<Figure size 640x480 with 1 Axes>"
      ]
     },
     "metadata": {},
     "output_type": "display_data"
    }
   ],
   "source": [
    "import matplotlib.pyplot as plt\n",
    "import numpy as np\n",
    "\n",
    "# Helper function for inline image display\n",
    "def matplotlib_imshow(img, one_channel=False):\n",
    "    if one_channel:\n",
    "        img = img.mean(dim=0)\n",
    "    img = img / 2 + 0.5     # unnormalize\n",
    "    npimg = img.numpy()\n",
    "    if one_channel:\n",
    "        plt.imshow(npimg, cmap=\"Greys\")\n",
    "    else:\n",
    "        plt.imshow(np.transpose(npimg, (1, 2, 0)))\n",
    "\n",
    "dataiter = iter(training_loader)\n",
    "images, labels = next(dataiter)\n",
    "\n",
    "# Create a grid from the images and show them\n",
    "img_grid = torchvision.utils.make_grid(images)\n",
    "matplotlib_imshow(img_grid, one_channel=True)\n",
    "print('  '.join(classes[labels[j]] for j in range(4)))"
   ]
  },
  {
   "cell_type": "markdown",
   "metadata": {},
   "source": [
    "## The Model\n",
    "\n",
    "The model we'll use in this example is a variant of LeNet-5 - it should be familiar if you've watched the previous videos in this series."
   ]
  },
  {
   "cell_type": "code",
   "execution_count": 3,
   "metadata": {},
   "outputs": [],
   "source": [
    "import torch.nn as nn\n",
    "import torch.nn.functional as F\n",
    "\n",
    "# PyTorch models inherit from torch.nn.Module\n",
    "class GarmentClassifier(nn.Module):\n",
    "    def __init__(self):\n",
    "        super(GarmentClassifier, self).__init__()\n",
    "        self.conv1 = nn.Conv2d(1, 6, 5)\n",
    "        self.pool = nn.MaxPool2d(2, 2)\n",
    "        self.conv2 = nn.Conv2d(6, 16, 5)\n",
    "        self.fc1 = nn.Linear(16 * 4 * 4, 120)\n",
    "        self.fc2 = nn.Linear(120, 84)\n",
    "        self.fc3 = nn.Linear(84, 10)\n",
    "\n",
    "    def forward(self, x):\n",
    "        x = self.pool(F.relu(self.conv1(x)))\n",
    "        x = self.pool(F.relu(self.conv2(x)))\n",
    "        x = x.view(-1, 16 * 4 * 4)\n",
    "        x = F.relu(self.fc1(x))\n",
    "        x = F.relu(self.fc2(x))\n",
    "        x = self.fc3(x)\n",
    "        return x\n",
    "    \n",
    "\n",
    "model = GarmentClassifier()"
   ]
  },
  {
   "cell_type": "markdown",
   "metadata": {},
   "source": [
    "## Loss Function\n",
    "\n",
    "For this example, we'll be using a cross-entropy loss. For demonstration purposes, we'll create batches of dummy output and label values, run them through the loss function, and examine the result."
   ]
  },
  {
   "cell_type": "code",
   "execution_count": 4,
   "metadata": {},
   "outputs": [
    {
     "name": "stdout",
     "output_type": "stream",
     "text": [
      "tensor([[0.9292, 0.6640, 0.7398, 0.6653, 0.4075, 0.4664, 0.2875, 0.6390, 0.5384,\n",
      "         0.8628],\n",
      "        [0.7988, 0.7656, 0.1027, 0.9798, 0.6624, 0.3678, 0.1998, 0.3117, 0.4587,\n",
      "         0.2950],\n",
      "        [0.4390, 0.7201, 0.7829, 0.1439, 0.1045, 0.7958, 0.7030, 0.1168, 0.1021,\n",
      "         0.9921],\n",
      "        [0.8696, 0.5337, 0.1006, 0.7231, 0.6201, 0.2532, 0.1214, 0.5823, 0.2885,\n",
      "         0.7294]])\n",
      "tensor([1, 5, 3, 7])\n",
      "Total loss for this batch: 2.4204177856445312\n"
     ]
    }
   ],
   "source": [
    "loss_fn = torch.nn.CrossEntropyLoss()\n",
    "\n",
    "# NB: Loss functions expect data in batches, so we're creating batches of 4\n",
    "# Represents the model's confidence in each of the 10 classes for a given input\n",
    "dummy_outputs = torch.rand(4, 10)\n",
    "# Represents the correct class among the 10 being tested\n",
    "dummy_labels = torch.tensor([1, 5, 3, 7])\n",
    "    \n",
    "print(dummy_outputs)\n",
    "print(dummy_labels)\n",
    "\n",
    "loss = loss_fn(dummy_outputs, dummy_labels)\n",
    "print('Total loss for this batch: {}'.format(loss.item()))"
   ]
  },
  {
   "cell_type": "markdown",
   "metadata": {},
   "source": [
    "## Optimizer\n",
    "\n",
    "For this example, we'll be using simple [stochastic gradient descent](https://pytorch.org/docs/stable/optim.html) with momentum.\n",
    "\n",
    "It can be instructive to try some variations on this optimization scheme:\n",
    "* Learning rate determines the size of the steps the optimizer takes. What does a different learning rate do to the your training results, in terms of accuracy and convergence time?\n",
    "* Momentum nudges the optimizer in the direction of strongest gradient over multiple steps. What does changing this value do to your results?\n",
    "* Try some different optimization algorithms, such as averaged SGD, Adagrad, or Adam. How do your results differ?"
   ]
  },
  {
   "cell_type": "code",
   "execution_count": 5,
   "metadata": {},
   "outputs": [],
   "source": [
    "# Optimizers specified in the torch.optim package\n",
    "optimizer = torch.optim.SGD(model.parameters(), lr=0.001, momentum=0.9)"
   ]
  },
  {
   "cell_type": "markdown",
   "metadata": {},
   "source": [
    "## The Training Loop\n",
    "\n",
    "Below, we have a function that performs one training epoch. It enumerates data from the DataLoader, and on each pass of the loop does the following:\n",
    "* Gets a batch of training data from the DataLoader\n",
    "* Zeros the optimizer's gradients\n",
    "* Performs an inference - that is, gets predictions from the model for an input batch\n",
    "* Calculates the loss for that set of predictions vs. the labels on the dataset\n",
    "* Calculates the backward gradients over the learning weights\n",
    "* Tells the optimizer to perform one learning step - that is, adjust the model's learning weights based on the observed gradients for this batch, according to the optimization algorithm we chose\n",
    "* It reports on the loss for every 1000 batches.\n",
    "* Finally, it reports the average per-batch loss for the last 1000 batches, for comparison with a validation run"
   ]
  },
  {
   "cell_type": "code",
   "execution_count": 6,
   "metadata": {},
   "outputs": [],
   "source": [
    "def train_one_epoch(epoch_index, tb_writer):\n",
    "    running_loss = 0.\n",
    "    last_loss = 0.\n",
    "    \n",
    "    # Here, we use enumerate(training_loader) instead of\n",
    "    # iter(training_loader) so that we can track the batch\n",
    "    # index and do some intra-epoch reporting\n",
    "    for i, data in enumerate(training_loader):\n",
    "        # Every data instance is an input + label pair\n",
    "        inputs, labels = data\n",
    "        \n",
    "        # Zero your gradients for every batch!\n",
    "        optimizer.zero_grad()\n",
    "        \n",
    "        # Make predictions for this batch\n",
    "        outputs = model(inputs)\n",
    "        \n",
    "        # Compute the loss and its gradients\n",
    "        loss = loss_fn(outputs, labels)\n",
    "        loss.backward()\n",
    "        \n",
    "        # Adjust learning weights\n",
    "        optimizer.step()\n",
    "        \n",
    "        # Gather data and report\n",
    "        running_loss += loss.item()\n",
    "        if i % 1000 == 999:\n",
    "            last_loss = running_loss / 1000 # loss per batch\n",
    "            print('  batch {} loss: {}'.format(i + 1, last_loss))\n",
    "            tb_x = epoch_index * len(training_loader) + i + 1\n",
    "            tb_writer.add_scalar('Loss/train', last_loss, tb_x)\n",
    "            running_loss = 0.\n",
    "            \n",
    "    return last_loss"
   ]
  },
  {
   "cell_type": "markdown",
   "metadata": {},
   "source": [
    "### Per-Epoch Activity\n",
    "\n",
    "There are a couple of things we'll want to do once per epoch:\n",
    "* Perform validation by checking our relative loss on a set of data that was not used for training, and report this\n",
    "* Save a copy of the model\n",
    "\n",
    "Here, we'll do our reporting in TensorBoard. This will require going to the command line to start TensorBoard, and opening it in another browser tab."
   ]
  },
  {
   "cell_type": "code",
   "execution_count": 7,
   "metadata": {},
   "outputs": [],
   "source": [
    "# Initializing in a separate cell so we can easily add more epochs to the same run\n",
    "timestamp = datetime.now().strftime('%Y%m%d_%H%M%S')\n",
    "writer = SummaryWriter('runs/fashion_trainer_{}'.format(timestamp))\n",
    "epoch_number = 0"
   ]
  },
  {
   "cell_type": "code",
   "execution_count": 8,
   "metadata": {},
   "outputs": [
    {
     "name": "stdout",
     "output_type": "stream",
     "text": [
      "EPOCH 1:\n",
      "  batch 1000 loss: 1.6856972796916962\n",
      "  batch 2000 loss: 0.8287865334637463\n",
      "  batch 3000 loss: 0.697598454062827\n",
      "  batch 4000 loss: 0.6496650955709629\n",
      "  batch 5000 loss: 0.5991655139983632\n",
      "  batch 6000 loss: 0.5533208191967569\n",
      "  batch 7000 loss: 0.531980867518112\n",
      "  batch 8000 loss: 0.526826919276733\n",
      "  batch 9000 loss: 0.4807763905718093\n",
      "  batch 10000 loss: 0.47519486775173575\n",
      "  batch 11000 loss: 0.47432864229241384\n",
      "  batch 12000 loss: 0.46607664888352157\n",
      "  batch 13000 loss: 0.4631955323374132\n",
      "  batch 14000 loss: 0.4265512238298252\n",
      "  batch 15000 loss: 0.43454573371820154\n",
      "LOSS train 0.43454573371820154 valid 0.4353659152984619\n",
      "EPOCH 2:\n",
      "  batch 1000 loss: 0.3979038820452988\n",
      "  batch 2000 loss: 0.40899222082912456\n",
      "  batch 3000 loss: 0.3963657457201043\n",
      "  batch 4000 loss: 0.4019812221520406\n",
      "  batch 5000 loss: 0.4089966570551333\n",
      "  batch 6000 loss: 0.3796874032750493\n",
      "  batch 7000 loss: 0.3720634465388866\n",
      "  batch 8000 loss: 0.3874498612930474\n",
      "  batch 9000 loss: 0.373009351325396\n",
      "  batch 10000 loss: 0.37149242936453086\n",
      "  batch 11000 loss: 0.3728158780466183\n",
      "  batch 12000 loss: 0.3447441707955732\n",
      "  batch 13000 loss: 0.3454874837700336\n",
      "  batch 14000 loss: 0.3430297777678643\n",
      "  batch 15000 loss: 0.3561772722900496\n",
      "LOSS train 0.3561772722900496 valid 0.37972214818000793\n",
      "EPOCH 3:\n",
      "  batch 1000 loss: 0.3352954016512376\n",
      "  batch 2000 loss: 0.34008297309617047\n",
      "  batch 3000 loss: 0.33938380858116945\n",
      "  batch 4000 loss: 0.3416109825746389\n",
      "  batch 5000 loss: 0.31632424135436304\n",
      "  batch 6000 loss: 0.32010701380691897\n",
      "  batch 7000 loss: 0.3235524994926527\n",
      "  batch 8000 loss: 0.31009579903889245\n",
      "  batch 9000 loss: 0.34854459660414433\n",
      "  batch 10000 loss: 0.32522909235482805\n",
      "  batch 11000 loss: 0.3144369374194357\n",
      "  batch 12000 loss: 0.33395526637102013\n",
      "  batch 13000 loss: 0.32430452896537465\n",
      "  batch 14000 loss: 0.30860265959021854\n",
      "  batch 15000 loss: 0.30637740546118586\n",
      "LOSS train 0.30637740546118586 valid 0.3682648837566376\n",
      "EPOCH 4:\n",
      "  batch 1000 loss: 0.3135481868310162\n",
      "  batch 2000 loss: 0.2914049518040556\n",
      "  batch 3000 loss: 0.29476401203665226\n",
      "  batch 4000 loss: 0.2913846144133131\n",
      "  batch 5000 loss: 0.3069207923999929\n",
      "  batch 6000 loss: 0.2918295143701762\n",
      "  batch 7000 loss: 0.2882913163885096\n",
      "  batch 8000 loss: 0.30637453054713115\n",
      "  batch 9000 loss: 0.30127625593010454\n",
      "  batch 10000 loss: 0.29640582168241963\n",
      "  batch 11000 loss: 0.29597603072878703\n",
      "  batch 12000 loss: 0.30462305917875165\n",
      "  batch 13000 loss: 0.27828148905420674\n",
      "  batch 14000 loss: 0.28648142009034927\n",
      "  batch 15000 loss: 0.3051433412940769\n",
      "LOSS train 0.3051433412940769 valid 0.3231924772262573\n",
      "EPOCH 5:\n",
      "  batch 1000 loss: 0.25474335049409275\n",
      "  batch 2000 loss: 0.2906198731748791\n",
      "  batch 3000 loss: 0.2831336232610538\n",
      "  batch 4000 loss: 0.2772925074188279\n",
      "  batch 5000 loss: 0.2713570383249753\n",
      "  batch 6000 loss: 0.2797579186023868\n",
      "  batch 7000 loss: 0.2718490573972576\n",
      "  batch 8000 loss: 0.2678610924274835\n",
      "  batch 9000 loss: 0.2746898524049975\n",
      "  batch 10000 loss: 0.2728378221838539\n",
      "  batch 11000 loss: 0.29253601751169844\n",
      "  batch 12000 loss: 0.28229574662025514\n",
      "  batch 13000 loss: 0.2956571700567001\n",
      "  batch 14000 loss: 0.27227674228452453\n",
      "  batch 15000 loss: 0.26626615978810153\n",
      "LOSS train 0.26626615978810153 valid 0.30782562494277954\n"
     ]
    }
   ],
   "source": [
    "EPOCHS = 5\n",
    "\n",
    "best_vloss = 1_000_000.\n",
    "\n",
    "for epoch in range(EPOCHS):\n",
    "    print('EPOCH {}:'.format(epoch_number + 1))\n",
    "    \n",
    "    # Make sure gradient tracking is on, and do a pass over the data\n",
    "    model.train(True)\n",
    "    avg_loss = train_one_epoch(epoch_number, writer)\n",
    "    \n",
    "    # We don't need gradients on to do reporting\n",
    "    model.train(False)\n",
    "    \n",
    "    running_vloss = 0.0\n",
    "    for i, vdata in enumerate(validation_loader):\n",
    "        vinputs, vlabels = vdata\n",
    "        voutputs = model(vinputs)\n",
    "        vloss = loss_fn(voutputs, vlabels)\n",
    "        running_vloss += vloss\n",
    "    \n",
    "    avg_vloss = running_vloss / (i + 1)\n",
    "    print('LOSS train {} valid {}'.format(avg_loss, avg_vloss))\n",
    "    \n",
    "    # Log the running loss averaged per batch\n",
    "    # for both training and validation\n",
    "    writer.add_scalars('Training vs. Validation Loss',\n",
    "                    { 'Training' : avg_loss, 'Validation' : avg_vloss },\n",
    "                    epoch_number + 1)\n",
    "    writer.flush()\n",
    "    \n",
    "    # Track best performance, and save the model's state\n",
    "    if avg_vloss < best_vloss:\n",
    "        best_vloss = avg_vloss\n",
    "        model_path = 'model_{}_{}'.format(timestamp, epoch_number)\n",
    "        torch.save(model.state_dict(), model_path)\n",
    "    \n",
    "    epoch_number += 1"
   ]
  },
  {
   "cell_type": "markdown",
   "metadata": {},
   "source": [
    "To load a saved version of the model:\n",
    "\n",
    "```\n",
    "saved_model = GarmentClassifier()\n",
    "saved_model.load_state_dict(torch.load(PATH))\n",
    "```\n",
    "\n",
    "Once you've loaded the model, it's ready for whatever you need it for - more training, inference, or analysis.\n",
    "\n",
    "Note that if your model has constructor parameters that affect model structure, you'll need to provide them and configure the model identically to the state in which it was saved.\n",
    "\n",
    "## Other Resources\n",
    "\n",
    "* Docs on the [data utilities](https://pytorch.org/docs/stable/data.html), including Dataset and DataLoader, at pytorch.org\n",
    "* A [note on the use of pinned memory](https://pytorch.org/docs/stable/notes/cuda.html#cuda-memory-pinning) for GPU training\n",
    "* Documentation on the datasets available in [TorchVision](https://pytorch.org/docs/stable/torchvision/datasets.html), [TorchText](https://pytorch.org/text/datasets.html), and [TorchAudio](https://pytorch.org/audio/datasets.html)\n",
    "* Documentation on the [loss functions](https://pytorch.org/docs/stable/nn.html#loss-functions) available in PyTorch\n",
    "* Documentation on the [torch.optim package](https://pytorch.org/docs/stable/optim.html), which includes optimizers and related tools, such as learning rate scheduling\n",
    "* A detailed [tutorial on saving and loading models](https://pytorch.org/tutorials/beginner/saving_loading_models.html)\n",
    "* The [Tutorials section of pytorch.org](https://pytorch.org/tutorials/) contains tutorials on a broad variety of training tasks, including classification in different domains, generative adversarial networks, reinforcement learning, and more"
   ]
  },
  {
   "cell_type": "markdown",
   "metadata": {},
   "source": []
  }
 ],
 "metadata": {
  "kernelspec": {
   "display_name": "Python 3.10.12 64-bit",
   "language": "python",
   "name": "python3"
  },
  "language_info": {
   "codemirror_mode": {
    "name": "ipython",
    "version": 3
   },
   "file_extension": ".py",
   "mimetype": "text/x-python",
   "name": "python",
   "nbconvert_exporter": "python",
   "pygments_lexer": "ipython3",
   "version": "3.10.12"
  },
  "vscode": {
   "interpreter": {
    "hash": "916dbcbb3f70747c44a77c7bcd40155683ae19c65e1c03b4aa3499c5328201f1"
   }
  }
 },
 "nbformat": 4,
 "nbformat_minor": 4
}
