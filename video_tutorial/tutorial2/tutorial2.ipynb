{
 "cells": [
  {
   "cell_type": "markdown",
   "metadata": {},
   "source": [
    "# PyTorch Tensors\n",
    "\n",
    "Tensors are the central data abstraction in PyTorch. This interactive notebook provides an in-depth introduction to the `torch.Tensor` class. You can run this notebook locally, on [Colab](https://colab.research.google.com/), or on your preferred cloud service.\n",
    "\n",
    "First things first, let's import the PyTorch module. We'll also add Python's math module to facilitate some of the examples."
   ]
  },
  {
   "cell_type": "code",
   "execution_count": 2,
   "metadata": {},
   "outputs": [],
   "source": [
    "import torch\n",
    "import math"
   ]
  },
  {
   "cell_type": "markdown",
   "metadata": {},
   "source": [
    "## Creating Tensors\n",
    "The simplest way to create a tensor is with the `torch.empty()` call:"
   ]
  },
  {
   "cell_type": "code",
   "execution_count": 3,
   "metadata": {},
   "outputs": [
    {
     "name": "stdout",
     "output_type": "stream",
     "text": [
      "<class 'torch.Tensor'>\n",
      "tensor([[6.7875e-07, 4.1996e-08, 3.3262e-06, 1.4580e-19],\n",
      "        [1.1495e+24, 3.0881e+29, 1.5766e-19, 7.3313e+22],\n",
      "        [7.2151e+22, 2.8404e+29, 2.3089e-12, 1.9421e+31]])\n"
     ]
    }
   ],
   "source": [
    "x = torch.empty(3, 4)\n",
    "print(type(x))\n",
    "print(x)"
   ]
  },
  {
   "cell_type": "markdown",
   "metadata": {},
   "source": [
    "Let's unpack what we just did:\n",
    "\n",
    "* We created a tensor using one of the numerous factory methods attached to the `torch` module.\n",
    "* The tensor itself is 2-dimensional, having 3 rows and 4 columns.\n",
    "* The type of the object returned is `torch.Tensor`, which is an alias for `torch.FloatTensor`; by default, PyTorch tensors are populated with 32-bit floating point numbers. (More on data types below.)\n",
    "* You will probably see some random-looking values when printing your tensor. The `torch.empty()` call allocates memory for the tensor, but does not initialize it with any values - so what you're seeing is whatever was in memory at the time of allocation.\n",
    "\n",
    "A brief note about tensors and their number of dimensions, and terminology:\n",
    "* You will sometimes see a 1-dimensional tensor called a *vector.*\n",
    "* Likewise, a 2-dimensional tensor is often referred to as a *matrix.*\n",
    "* Anything with more than two dimensions is generally just called a tensor.\n",
    "\n",
    "More often than not, you'll want to initialize your tensor with some value. Common cases are all zeros, all ones, or random values, and the `torch` module provides factory methods for all of these:"
   ]
  },
  {
   "cell_type": "code",
   "execution_count": 4,
   "metadata": {},
   "outputs": [
    {
     "name": "stdout",
     "output_type": "stream",
     "text": [
      "tensor([[0., 0., 0.],\n",
      "        [0., 0., 0.]])\n",
      "tensor([[1., 1., 1.],\n",
      "        [1., 1., 1.]])\n",
      "tensor([[0.3126, 0.3791, 0.3087],\n",
      "        [0.0736, 0.4216, 0.0691]])\n"
     ]
    }
   ],
   "source": [
    "zero = torch.zeros(2, 3)\n",
    "print(zero)\n",
    "\n",
    "\n",
    "ones = torch.ones(2, 3)\n",
    "print(ones)\n",
    "\n",
    "torch.manual_seed(1729)\n",
    "random = torch.rand(2, 3)\n",
    "print(random)"
   ]
  },
  {
   "cell_type": "markdown",
   "metadata": {},
   "source": [
    "The factory methods all do just what you'd expect - we have a tensor full of zeros, another full of ones, and another with random values between 0 and 1.\n",
    "\n",
    "### Random Tensors and Seeding\n",
    "\n",
    "Speaking of the random tensor, did you notice the call to `torch.manual_seed()` immediately preceding it? Initializing tensors, such as a model's learning weights, with random values is common but there are times - especially in research settings - where you'll want some assurance of the reproducibility of your results. Manually setting your random number generator's seed is the way to do this. Let's look more closely:"
   ]
  },
  {
   "cell_type": "code",
   "execution_count": 5,
   "metadata": {},
   "outputs": [
    {
     "name": "stdout",
     "output_type": "stream",
     "text": [
      "tensor([[0.3126, 0.3791, 0.3087, 0.0736],\n",
      "        [0.4216, 0.0691, 0.2332, 0.4047],\n",
      "        [0.2162, 0.9927, 0.4128, 0.5938]])\n",
      "tensor([[0.6128, 0.1519, 0.0453, 0.5035],\n",
      "        [0.9978, 0.3884, 0.6929, 0.1703],\n",
      "        [0.1384, 0.4759, 0.7481, 0.0361]])\n",
      "tensor([[0.3126, 0.3791, 0.3087, 0.0736],\n",
      "        [0.4216, 0.0691, 0.2332, 0.4047],\n",
      "        [0.2162, 0.9927, 0.4128, 0.5938]])\n",
      "tensor([[0.6128, 0.1519, 0.0453, 0.5035],\n",
      "        [0.9978, 0.3884, 0.6929, 0.1703],\n",
      "        [0.1384, 0.4759, 0.7481, 0.0361]])\n"
     ]
    }
   ],
   "source": [
    "torch.manual_seed(1729)\n",
    "random1 = torch.rand(3, 4)\n",
    "print(random1)\n",
    "\n",
    "random2 = torch.rand(3, 4)\n",
    "print(random2)\n",
    "\n",
    "torch.manual_seed(1729)\n",
    "random3 = torch.rand(3, 4)\n",
    "print(random3)\n",
    "\n",
    "random4 = torch.rand(3, 4)\n",
    "print(random4)"
   ]
  },
  {
   "cell_type": "markdown",
   "metadata": {},
   "source": [
    "What you should see above is that `random1` and `random3` carry identical values, as do `random2` and `random4`. Manually setting the RNG's seed resets it, so that identical computations depending on random number should, in most settings, provide identical results.\n",
    "\n",
    "For more information, see the [PyTorch documentation on reproducibility](https://pytorch.org/docs/stable/notes/randomness.html).\n",
    "\n",
    "### Tensor Shapes\n",
    "Often, when you're performing operations on two or more tensors, they will need to be of the same *shape* - that is, having the same number of dimensions and the same number of cells in each dimension. For that, we have the `torch.*_like()` methods:"
   ]
  },
  {
   "cell_type": "code",
   "execution_count": 6,
   "metadata": {},
   "outputs": [
    {
     "name": "stdout",
     "output_type": "stream",
     "text": [
      "torch.Size([2, 2, 3])\n",
      "tensor([[[-4.0141e+00,  3.0882e-41,  0.0000e+00],\n",
      "         [ 0.0000e+00, -4.0008e+00,  3.0882e-41]],\n",
      "\n",
      "        [[-4.0533e-01,  3.0882e-41,  3.8579e+03],\n",
      "         [ 4.5643e-41,  0.0000e+00,  0.0000e+00]]])\n",
      "torch.Size([2, 2, 3])\n",
      "tensor([[[ 0.0000e+00,  0.0000e+00,  0.0000e+00],\n",
      "         [ 0.0000e+00, -4.0008e+00,  3.0882e-41]],\n",
      "\n",
      "        [[-4.0533e-01,  3.0882e-41, -8.8024e-33],\n",
      "         [ 4.5643e-41,  1.4013e-45,  0.0000e+00]]])\n",
      "torch.Size([2, 2, 3])\n",
      "tensor([[[1., 1., 1.],\n",
      "         [1., 1., 1.]],\n",
      "\n",
      "        [[1., 1., 1.],\n",
      "         [1., 1., 1.]]])\n",
      "torch.Size([2, 2, 3])\n",
      "tensor([[[0., 0., 0.],\n",
      "         [0., 0., 0.]],\n",
      "\n",
      "        [[0., 0., 0.],\n",
      "         [0., 0., 0.]]])\n",
      "torch.Size([2, 2, 3])\n",
      "tensor([[[0.5062, 0.8469, 0.2588],\n",
      "         [0.2707, 0.4115, 0.6839]],\n",
      "\n",
      "        [[0.0703, 0.5105, 0.9451],\n",
      "         [0.2359, 0.1979, 0.3327]]])\n"
     ]
    }
   ],
   "source": [
    "x = torch.empty(2, 2, 3)\n",
    "print(x.shape)\n",
    "print(x)\n",
    "\n",
    "empty_like_x = torch.empty_like(x)\n",
    "print(empty_like_x.shape)\n",
    "print(empty_like_x)\n",
    "\n",
    "ones_like_x = torch.ones_like(x)\n",
    "print(ones_like_x.shape)\n",
    "print(ones_like_x)\n",
    "\n",
    "zeros_like_x = torch.zeros_like(x)\n",
    "print(zeros_like_x.shape)\n",
    "print(zeros_like_x)\n",
    "\n",
    "random_like_x = torch.rand_like(x)\n",
    "print(random_like_x.shape)\n",
    "print(random_like_x)\n",
    "\n"
   ]
  },
  {
   "cell_type": "markdown",
   "metadata": {},
   "source": [
    "The first new thing in the code cell above is the use of the `.shape` property on a tensor. This property contains a list of the extent of each dimension of a tensor - in our case, `x` is a three-dimensional tensor with shape 2 x 2 x 3.\n",
    "\n",
    "Below that, we call the `.empty_like()`, `.zeros_like()`, `.ones_like()`, and `.rand_like()` methods. Using the `.shape` property, we can verify that each of these methods returns a tensor of identical dimensionality and extent.\n",
    "\n",
    "The last way to create a tensor that will cover is to specify its data directly from a PyTorch collection:"
   ]
  },
  {
   "cell_type": "code",
   "execution_count": 7,
   "metadata": {},
   "outputs": [
    {
     "name": "stdout",
     "output_type": "stream",
     "text": [
      "torch.Size([2, 2])\n",
      "<class 'torch.Tensor'>\n",
      "tensor([[1.0103, 0.1278],\n",
      "        [3.1452, 0.2346]])\n",
      "torch.Size([9])\n",
      "<class 'torch.Tensor'>\n",
      "tensor([ 1,  3,  2,  7,  8,  9, 10, 45, 55])\n",
      "torch.Size([2, 5])\n",
      "<class 'torch.Tensor'>\n",
      "tensor([[ 1.,  5.,  7.,  2., 10.],\n",
      "        [ 2.,  6., 99., 65., 78.]])\n"
     ]
    }
   ],
   "source": [
    "some_constant = torch.tensor([[1.01034, 0.12783], [3.14523, 0.23456]])\n",
    "print(some_constant.shape)\n",
    "print(type(some_constant))\n",
    "print(some_constant)\n",
    "\n",
    "some_integer = torch.tensor((1, 3, 2, 7, 8, 9, 10, 45, 55))\n",
    "print(some_integer.shape)\n",
    "print(type(some_integer))\n",
    "print(some_integer)\n",
    "\n",
    "more_integer = torch.Tensor(((1, 5, 7, 2, 10), [2, 6, 99, 65, 78]))\n",
    "print(more_integer.shape)\n",
    "print(type(more_integer))\n",
    "print(more_integer)\n",
    "\n",
    "\n"
   ]
  },
  {
   "cell_type": "markdown",
   "metadata": {},
   "source": [
    "Using `torch.tensor()` is the most straightforward way to create a tensor if you already have data in a Python tuple or list. As shown above, nesting the collections will result in a multi-dimensional tensor.\n",
    "\n",
    "*Note: `torch.tensor()` creates a copy of the data.*\n",
    "\n",
    "### Tensor Data Types\n",
    "Setting the datatype of a tensor is possible a couple of ways:"
   ]
  },
  {
   "cell_type": "code",
   "execution_count": 8,
   "metadata": {},
   "outputs": [
    {
     "name": "stdout",
     "output_type": "stream",
     "text": [
      "tensor([[1, 1, 1],\n",
      "        [1, 1, 1]], dtype=torch.int16)\n",
      "tensor([[0., 0., 0., 0.],\n",
      "        [0., 0., 0., 0.],\n",
      "        [0., 0., 0., 0.]])\n",
      "tensor([[0, 0, 0, 0],\n",
      "        [0, 0, 0, 0],\n",
      "        [0, 0, 0, 0]], dtype=torch.int32)\n"
     ]
    }
   ],
   "source": [
    "a = torch.ones((2, 3), dtype=torch.int16)\n",
    "print(a)\n",
    "\n",
    "b = torch.zeros((3, 4), dtype=torch.int64) * 20.\n",
    "print(b)\n",
    "\n",
    "c = b.to( torch.int32)\n",
    "print(c)\n"
   ]
  },
  {
   "cell_type": "markdown",
   "metadata": {},
   "source": [
    "The simplest way to set the underlying data type of a tensor is with an optional argument at creation time. In the first line of the cell above, we set `dtype=torch.int16` for the tensor `a`. When we print `a`, we can see that it's full of `1` rather than `1.` - Python's subtle cue that this is an integer type rather than floating point.\n",
    "\n",
    "Another thing to notice about printing `a` is that, unlike when we left `dtype` as the default (32-bit floating point), printing the tensor also specifies its `dtype`.\n",
    "\n",
    "You may have also spotted that we went from specifying the tensor's shape as a series of integer arguments, to grouping those arguments in a tuple. This is not strictly necessary - PyTorch will take a series of initial, unlabeled integer arguments as a tensor shape - but when adding the optional arguments, it can make your intent more readable.\n",
    "\n",
    "The other way to set the datatype is with the `.to()` method. In the cell above, we create a random floating point tensor `b` in the usual way. Following that, we create `c` by converting `b` to a 32-bit integer with the `.to()` method. Note that `c` contains all the same values as `b`, but truncated to integers.\n",
    "\n",
    "Available data types include:\n",
    "\n",
    "* `torch.bool`\n",
    "* `torch.int8`\n",
    "* `torch.uint8`\n",
    "* `torch.int16`\n",
    "* `torch.int32`\n",
    "* `torch.int64`\n",
    "* `torch.half`\n",
    "* `torch.float`\n",
    "* `torch.double`\n",
    "* `torch.bfloat`\n",
    "\n",
    "## Math & Logic with PyTorch Tensors\n",
    "\n",
    "Now that you know some of the ways to create a tensor... what can you do with them?\n",
    "\n",
    "Let's look at basic arithmetic first, and how tensors interact with simple scalars:"
   ]
  },
  {
   "cell_type": "code",
   "execution_count": 9,
   "metadata": {},
   "outputs": [
    {
     "name": "stdout",
     "output_type": "stream",
     "text": [
      "tensor([[1., 1.],\n",
      "        [1., 1.]])\n",
      "tensor([[2., 2.],\n",
      "        [2., 2.]])\n",
      "tensor([[3., 3.],\n",
      "        [3., 3.]])\n",
      "tensor([[4., 4.],\n",
      "        [4., 4.]])\n",
      "tensor([[1.4142, 1.4142],\n",
      "        [1.4142, 1.4142]])\n"
     ]
    }
   ],
   "source": [
    "ones = torch.zeros(2, 2) + 1\n",
    "twos = torch.ones(2, 2) * 2\n",
    "threes = (torch.ones(2, 2) * 7 -1) / 2\n",
    "fours = twos ** 2\n",
    "sqrt2s = twos ** 0.5\n",
    "\n",
    "print(ones)\n",
    "print(twos)\n",
    "print(threes)\n",
    "print(fours)\n",
    "print(sqrt2s)\n"
   ]
  },
  {
   "cell_type": "markdown",
   "metadata": {},
   "source": [
    "As you can see above, arithmetic operations between tensors and scalars, such as addition, subtraction, multiplication, division, and exponentiation are distributed over every element of the tensor. Because the output of such an operation will be a tensor, you can chain them together with the usual operator precedence rules, as in the line where we create `threes`.\n",
    "\n",
    "Similar operations between two tensors also behave like you'd intuitively expect:"
   ]
  },
  {
   "cell_type": "code",
   "execution_count": 10,
   "metadata": {},
   "outputs": [
    {
     "name": "stdout",
     "output_type": "stream",
     "text": [
      "tensor([[ 2.,  4.],\n",
      "        [ 8., 16.]])\n",
      "tensor([[5., 5.],\n",
      "        [5., 5.]])\n",
      "tensor([[12., 12.],\n",
      "        [12., 12.]])\n"
     ]
    }
   ],
   "source": [
    "powers2s = twos ** torch.tensor([[1, 2], [3, 4]])\n",
    "print(powers2s)\n",
    "fives = fours + ones\n",
    "print(fives)\n",
    "dozens = fours * threes\n",
    "print(dozens)"
   ]
  },
  {
   "cell_type": "markdown",
   "metadata": {},
   "source": [
    "It's important to note here that all of the tensors in the previous code cell were of identical shape. What happens when we try to perform a binary operation on tensors if dissimilar shape?\n",
    "\n",
    "**Note: The following cell throws a run-time error. This is intentional.**"
   ]
  },
  {
   "cell_type": "code",
   "execution_count": 11,
   "metadata": {},
   "outputs": [
    {
     "ename": "RuntimeError",
     "evalue": "The size of tensor a (3) must match the size of tensor b (2) at non-singleton dimension 1",
     "output_type": "error",
     "traceback": [
      "\u001b[0;31m---------------------------------------------------------------------------\u001b[0m",
      "\u001b[0;31mRuntimeError\u001b[0m                              Traceback (most recent call last)",
      "Cell \u001b[0;32mIn[11], line 4\u001b[0m\n\u001b[1;32m      1\u001b[0m a \u001b[39m=\u001b[39m torch\u001b[39m.\u001b[39mrand(\u001b[39m2\u001b[39m, \u001b[39m3\u001b[39m)\n\u001b[1;32m      2\u001b[0m b \u001b[39m=\u001b[39m torch\u001b[39m.\u001b[39mrand(\u001b[39m3\u001b[39m, \u001b[39m2\u001b[39m)\n\u001b[0;32m----> 4\u001b[0m \u001b[39mprint\u001b[39m(a \u001b[39m*\u001b[39;49m b)\n",
      "\u001b[0;31mRuntimeError\u001b[0m: The size of tensor a (3) must match the size of tensor b (2) at non-singleton dimension 1"
     ]
    }
   ],
   "source": [
    "a = torch.rand(2, 3)\n",
    "b = torch.rand(3, 2)\n",
    "\n",
    "print(a * b)"
   ]
  },
  {
   "cell_type": "markdown",
   "metadata": {},
   "source": [
    "In the general case, you cannot operate on tensors of different shape this way, even in a case like the cell above, where the tensors have an identical number of elements.\n",
    "\n",
    "### In Brief: Tensor Broadcasting\n",
    "\n",
    "*(Note: If you are familiar with broadcasting semantics in NumPy ndarrays, you'll find the same rules apply here.)*\n",
    "\n",
    "The exception to the same-shapes rule is *tensor broadcasting.* Here's an example:"
   ]
  },
  {
   "cell_type": "code",
   "execution_count": 12,
   "metadata": {},
   "outputs": [
    {
     "name": "stdout",
     "output_type": "stream",
     "text": [
      "tensor([[0.2024, 0.5731, 0.7191, 0.4067],\n",
      "        [0.7301, 0.6276, 0.7357, 0.0381]])\n",
      "tensor([[0.4049, 1.1461, 1.4382, 0.8134],\n",
      "        [1.4602, 1.2551, 1.4715, 0.0762]])\n"
     ]
    }
   ],
   "source": [
    "rand = torch.rand(2, 4)\n",
    "double = rand * (torch.ones(1, 4) * 2)\n",
    "\n",
    "print(rand)\n",
    "print(double)"
   ]
  },
  {
   "cell_type": "markdown",
   "metadata": {},
   "source": [
    "What's the trick here? How is it we got to multiply a 2x4 tensor by a 1x4 tensor?\n",
    "\n",
    "Broadcasting is a way to perform an operation between tensors that have similarities in their shapes. In the example above, the one-row, four-column tensor is multiplied by *both rows* of the two-row, four-column tensor.\n",
    "\n",
    "This is an important operation in Deep Learning. The common example is multiplying a tensor of learning weights by a *batch* of input tensors, applying the operation to each instance in the batch separately, and returning a tensor of identical shape - just like our (2, 4) * (1, 4) example above returned a tensor of shape (2, 4).\n",
    "\n",
    "The rules for broadcasting are:\n",
    "\n",
    "* Each tensor must have at least one dimension - no empty tensors.\n",
    "* Comparing the dimension sizes of the two tensors, *going from last to first:*\n",
    "* * Each dimension must be equal, *or*\n",
    "* * One of the dimensions must be of size 1, *or*\n",
    "* * The dimension does not exist in one of the tensors\n",
    "\n",
    "Tensors of identical shape, of course, are trivially \"broadcastable\", as you saw earlier.\n",
    "\n",
    "Here are some examples of situations that honor the above rules and allow broadcasting:"
   ]
  },
  {
   "cell_type": "code",
   "execution_count": 13,
   "metadata": {},
   "outputs": [
    {
     "name": "stdout",
     "output_type": "stream",
     "text": [
      "tensor([[[1., 1.],\n",
      "         [1., 1.],\n",
      "         [1., 1.]],\n",
      "\n",
      "        [[1., 1.],\n",
      "         [1., 1.],\n",
      "         [1., 1.]],\n",
      "\n",
      "        [[1., 1.],\n",
      "         [1., 1.],\n",
      "         [1., 1.]],\n",
      "\n",
      "        [[1., 1.],\n",
      "         [1., 1.],\n",
      "         [1., 1.]]])\n",
      "tensor([[[0.2138, 0.5395],\n",
      "         [0.3686, 0.4007],\n",
      "         [0.7220, 0.8217]],\n",
      "\n",
      "        [[0.2138, 0.5395],\n",
      "         [0.3686, 0.4007],\n",
      "         [0.7220, 0.8217]],\n",
      "\n",
      "        [[0.2138, 0.5395],\n",
      "         [0.3686, 0.4007],\n",
      "         [0.7220, 0.8217]],\n",
      "\n",
      "        [[0.2138, 0.5395],\n",
      "         [0.3686, 0.4007],\n",
      "         [0.7220, 0.8217]]])\n",
      "tensor([[[0.2612, 0.2612],\n",
      "         [0.7375, 0.7375],\n",
      "         [0.8328, 0.8328]],\n",
      "\n",
      "        [[0.2612, 0.2612],\n",
      "         [0.7375, 0.7375],\n",
      "         [0.8328, 0.8328]],\n",
      "\n",
      "        [[0.2612, 0.2612],\n",
      "         [0.7375, 0.7375],\n",
      "         [0.8328, 0.8328]],\n",
      "\n",
      "        [[0.2612, 0.2612],\n",
      "         [0.7375, 0.7375],\n",
      "         [0.8328, 0.8328]]])\n",
      "tensor([[[0.8444, 0.2941],\n",
      "         [0.8444, 0.2941],\n",
      "         [0.8444, 0.2941]],\n",
      "\n",
      "        [[0.8444, 0.2941],\n",
      "         [0.8444, 0.2941],\n",
      "         [0.8444, 0.2941]],\n",
      "\n",
      "        [[0.8444, 0.2941],\n",
      "         [0.8444, 0.2941],\n",
      "         [0.8444, 0.2941]],\n",
      "\n",
      "        [[0.8444, 0.2941],\n",
      "         [0.8444, 0.2941],\n",
      "         [0.8444, 0.2941]]])\n"
     ]
    }
   ],
   "source": [
    "a = torch.ones(4, 3, 2)\n",
    "print(a)\n",
    "\n",
    "b = a * torch.rand(  3, 2) # 2nd & 3rd dim is identical\n",
    "print(b)\n",
    "\n",
    "c = a * torch.rand(  3, 1) # 2nd is idetical but 3rd is different\n",
    "print(c)\n",
    "\n",
    "d = a * torch.rand(  1, 2) #3rd dim is identical & 2nd is different\n",
    "print(d)"
   ]
  },
  {
   "cell_type": "markdown",
   "metadata": {},
   "source": [
    "Look closely at the values of each tensor above:\n",
    "* The multiplication operation that created `b` was broadcast over every \"layer\" of `a`.\n",
    "* For `c`, the operation was broadcast over ever layer and row of `a` - every 3-element column is identical.\n",
    "* For `d`, we switched it around - now every *row* is identical, across layers and columns.\n",
    "\n",
    "For more information on broadcasting, see the [PyTorch documentation](https://pytorch.org/docs/stable/notes/broadcasting.html) on the topic.\n",
    "\n",
    "Here are some examples of attempts at broadcasting that will fail:\n",
    "\n",
    "**Note: The following cell throws a run-time error. This is intentional.**"
   ]
  },
  {
   "cell_type": "code",
   "execution_count": 14,
   "metadata": {},
   "outputs": [
    {
     "ename": "RuntimeError",
     "evalue": "The size of tensor a (2) must match the size of tensor b (3) at non-singleton dimension 2",
     "output_type": "error",
     "traceback": [
      "\u001b[0;31m---------------------------------------------------------------------------\u001b[0m",
      "\u001b[0;31mRuntimeError\u001b[0m                              Traceback (most recent call last)",
      "Cell \u001b[0;32mIn[14], line 3\u001b[0m\n\u001b[1;32m      1\u001b[0m a \u001b[39m=\u001b[39m torch\u001b[39m.\u001b[39mones(\u001b[39m4\u001b[39m, \u001b[39m3\u001b[39m, \u001b[39m2\u001b[39m)\n\u001b[0;32m----> 3\u001b[0m b \u001b[39m=\u001b[39m a \u001b[39m*\u001b[39;49m torch\u001b[39m.\u001b[39;49mrand(\u001b[39m4\u001b[39;49m, \u001b[39m3\u001b[39;49m) \u001b[39m# dimention must match last to first\u001b[39;00m\n\u001b[1;32m      4\u001b[0m \u001b[39mprint\u001b[39m(b)\n\u001b[1;32m      6\u001b[0m c \u001b[39m=\u001b[39m a \u001b[39m*\u001b[39m torch\u001b[39m.\u001b[39mrand(  \u001b[39m2\u001b[39m, \u001b[39m3\u001b[39m) \u001b[39m# 2nd & 3rd dimention are same\u001b[39;00m\n",
      "\u001b[0;31mRuntimeError\u001b[0m: The size of tensor a (2) must match the size of tensor b (3) at non-singleton dimension 2"
     ]
    }
   ],
   "source": [
    "a = torch.ones(4, 3, 2)\n",
    "\n",
    "b = a * torch.rand(4, 3) # dimention must match last to first\n",
    "print(b)\n",
    "\n",
    "c = a * torch.rand(  2, 3) # 2nd & 3rd dimention are same\n",
    "print(c)\n",
    "\n",
    "d = a * torch.rand((0, )) # can't broadcast with zeros\n",
    "print(d)"
   ]
  },
  {
   "cell_type": "markdown",
   "metadata": {},
   "source": [
    "### More Math with Tensors\n",
    "\n",
    "PyTorch tensors have over three hundred operations that can be performed on them.\n",
    "\n",
    "Here is a small sample from some of the major categories of operations:"
   ]
  },
  {
   "cell_type": "code",
   "execution_count": 15,
   "metadata": {},
   "outputs": [
    {
     "name": "stdout",
     "output_type": "stream",
     "text": [
      "Absolute function tensor([[0.8447, 0.1992, 0.9755, 0.9295, 0.8190, 0.1029, 0.7480, 0.4949],\n",
      "        [0.3846, 0.5091, 0.5491, 0.5340, 0.6881, 0.8008, 0.2010, 0.2648],\n",
      "        [0.8928, 0.9773, 0.0365, 0.9614, 0.3090, 0.1713, 0.8608, 0.0704],\n",
      "        [0.1018, 0.2531, 0.8823, 0.0156, 0.0921, 0.0792, 0.3893, 0.6054],\n",
      "        [0.3429, 0.1310, 0.9869, 0.5530, 0.2932, 0.4032, 0.3653, 0.8827]])\n",
      "ceil function  tensor([[-0., -0., 1., -0., -0., -0., 1., -0.],\n",
      "        [1., 1., 1., -0., 1., 1., -0., 1.],\n",
      "        [1., -0., 1., 1., 1., -0., -0., -0.],\n",
      "        [-0., 1., 1., -0., 1., 1., -0., -0.],\n",
      "        [-0., 1., -0., 1., -0., 1., 1., 1.]])\n",
      "floor function tensor([[-1., -1.,  0., -1., -1., -1.,  0., -1.],\n",
      "        [ 0.,  0.,  0., -1.,  0.,  0., -1.,  0.],\n",
      "        [ 0., -1.,  0.,  0.,  0., -1., -1., -1.],\n",
      "        [-1.,  0.,  0., -1.,  0.,  0., -1., -1.],\n",
      "        [-1.,  0., -1.,  0., -1.,  0.,  0.,  0.]])\n",
      "clamp function tensor([[-0.5000, -0.1992,  0.5000, -0.5000, -0.5000, -0.1029,  0.5000, -0.4949],\n",
      "        [ 0.3846,  0.5000,  0.5000, -0.5000,  0.5000,  0.5000, -0.2010,  0.2648],\n",
      "        [ 0.5000, -0.5000,  0.0365,  0.5000,  0.3090, -0.1713, -0.5000, -0.0704],\n",
      "        [-0.1018,  0.2531,  0.5000, -0.0156,  0.0921,  0.0792, -0.3893, -0.5000],\n",
      "        [-0.3429,  0.1310, -0.5000,  0.5000, -0.2932,  0.4032,  0.3653,  0.5000]])\n",
      "tensor([0.0000, 0.7854, 1.5708, 2.3562])\n",
      "tensor([0.0000, 0.7071, 1.0000, 0.7071])\n",
      "tensor([0.0000, 0.7854, 1.5708, 0.7854])\n",
      "\n",
      "Bitwise operation XOR:\n",
      "tensor([ 4, 13,  7])\n",
      "\n",
      " Broadcasted, element_wise equality comparison: \n",
      "tensor([[ True, False],\n",
      "        [False, False]])\n",
      "\n",
      "Reductions ops\n",
      "tensor(4.)\n",
      "4.0\n",
      "tensor(2.5000)\n",
      "tensor(1.2910)\n",
      "tensor(24.)\n",
      "tensor([1, 2])\n",
      "\n",
      " Vector and Metrices \n",
      "tensor([0., 0., 1.])\n",
      "print m1 tensor([[0.4460, 0.9289],\n",
      "        [0.6293, 0.6264]])\n",
      "print m3 tensor([[1.3380, 2.7866],\n",
      "        [1.8878, 1.8791]])\n",
      "print svd torch.return_types.svd(\n",
      "U=tensor([[-0.7604, -0.6494],\n",
      "        [-0.6494,  0.7604]]),\n",
      "S=tensor([4.0230, 0.6826]),\n",
      "V=tensor([[-0.5577,  0.8301],\n",
      "        [-0.8301, -0.5577]]))\n"
     ]
    }
   ],
   "source": [
    "# Comman Function\n",
    "a = torch.rand(5, 8) * 2 -1\n",
    "\n",
    "print(\"Absolute function\",torch.abs(a))\n",
    "print('ceil function ',torch.ceil(a))\n",
    "print('floor function',torch.floor(a))\n",
    "print('clamp function',torch.clamp(a, -0.5, 0.5))\n",
    "\n",
    "# Trignometric function and their inverse\n",
    "\n",
    "angles = torch.tensor([0, math.pi / 4, math.pi / 2, 3 * math.pi / 4])\n",
    "print(angles)\n",
    "sines = torch.sin(angles)\n",
    "print(sines)\n",
    "inverse = torch.asin(sines) # sin inverse\n",
    "print(inverse)\n",
    "\n",
    "# bitwise operation\n",
    "print('\\nBitwise operation XOR:')\n",
    "b = torch.tensor([1, 5, 11])\n",
    "c = torch.tensor([5, 8, 12])\n",
    "print(torch.bitwise_xor(b, c))\n",
    "\n",
    "# comparisons:\n",
    "print('\\n Broadcasted, element_wise equality comparison: ')\n",
    "d = torch.tensor([[1. ,2.],[3., 4.]])\n",
    "e = torch.ones(1, 2)  #many comparison ops support Broadcasting\n",
    "print(torch.eq(d, e))  # return a tensor of type bool\n",
    "\n",
    "# reduction\n",
    "print('\\nReductions ops')\n",
    "print(torch.max(d))          # returns a single-element tensor\n",
    "print(torch.max(d).item())   # extracts the value from the returned tensor\n",
    "print(torch.mean(d))         # average\n",
    "print(torch.std(d))          # standard deviation\n",
    "print(torch.prod(d))         # product of all numbers\n",
    "print(torch.unique(torch.tensor([1, 2, 1, 2, 1, 2]))) # filter unique elements\n",
    "\n",
    "# vector and linear algebra operation\n",
    "v1 = torch.tensor([1., 0., 0.])         # x unit vector\n",
    "v2 = torch.tensor([0., 1., 0.])         # y unit vector\n",
    "m1 = torch.rand(2, 2)                   # random matrix\n",
    "m2 = torch.tensor([[3., 0.],[0., 3.]])  # three times identity matrix\n",
    "\n",
    "print('\\n Vector and Metrices ')\n",
    "print(torch.cross(v1, v2)) # negative of z unit vector (v1 x v2 == -v2 x v1)\n",
    "print('print m1',m1)\n",
    "m3 = torch.matmul(m1, m2)\n",
    "print('print m3',m3)               # 3 times m1\n",
    "print('print svd',torch.svd(m3))    # singular value decomposition"
   ]
  },
  {
   "cell_type": "markdown",
   "metadata": {},
   "source": [
    "This is a small sample of For more details and the full inventory of math functions, have a look at the [documentation](https://pytorch.org/docs/stable/torch.html#math-operations).\n",
    "\n",
    "### Altering Tensors in Place\n",
    "\n",
    "Most binary operations on tensors will return a third, new tensor. When we say `c = a * b` (where `a` and `b` are tensors), the new tensor `c` will occupy a region of memory distinct from the other tensors.\n",
    "\n",
    "There are times, though, that you may wish to alter a tensor in place - for example, if you're doing an element-wise computation where you can discard intermediate values. For this, most of the math functions have a version with an appended underscore (`_`) that will alter a tensor in place.\n",
    "\n",
    "For example:"
   ]
  },
  {
   "cell_type": "code",
   "execution_count": 20,
   "metadata": {},
   "outputs": [
    {
     "name": "stdout",
     "output_type": "stream",
     "text": [
      "\n",
      "a: \n",
      "tensor([0.0000, 0.7854, 1.5708, 2.3562])\n",
      "tensor([0.0000, 0.7071, 1.0000, 0.7071])\n",
      "tensor([0.0000, 0.7854, 1.5708, 2.3562])\n",
      "\n",
      "b: \n",
      "tensor([0.0000, 0.7854, 1.5708, 2.3562])\n",
      "tensor([0.0000, 0.7071, 1.0000, 0.7071])\n",
      "tensor([0.0000, 0.7071, 1.0000, 0.7071])\n"
     ]
    }
   ],
   "source": [
    "a = torch.tensor([0, math.pi / 4, math.pi / 2, 3 * math.pi / 4])\n",
    "print('\\na: ')\n",
    "print(a)\n",
    "print(torch.sin(a)) # this operation create new tensor in memory\n",
    "print(a)            # a has not changed\n",
    "\n",
    "b = torch.tensor([0, math.pi / 4, math.pi / 2, 3 * math.pi / 4])\n",
    "print('\\nb: ')\n",
    "print(b)\n",
    "print(torch.sin_(b))    # note the underscore\n",
    "print(b)                # b has changed"
   ]
  },
  {
   "cell_type": "markdown",
   "metadata": {},
   "source": [
    "For arithmetic operations, there are functions that behave similarly:"
   ]
  },
  {
   "cell_type": "code",
   "execution_count": 23,
   "metadata": {},
   "outputs": [
    {
     "name": "stdout",
     "output_type": "stream",
     "text": [
      "Before\n",
      "tensor([[1., 1.],\n",
      "        [1., 1.]])\n",
      "tensor([[0.1811, 0.6962],\n",
      "        [0.8073, 0.2125]])\n",
      "\n",
      "After adding:\n",
      "tensor([[1.1811, 1.6962],\n",
      "        [1.8073, 1.2125]])\n",
      "tensor([[1.1811, 1.6962],\n",
      "        [1.8073, 1.2125]])\n",
      "tensor([[0.1811, 0.6962],\n",
      "        [0.8073, 0.2125]])\n",
      "After multiplying\n",
      "tensor([[0.0328, 0.4846],\n",
      "        [0.6518, 0.0452]])\n",
      "tensor([[0.0328, 0.4846],\n",
      "        [0.6518, 0.0452]])\n"
     ]
    }
   ],
   "source": [
    "a = torch.ones(2, 2)\n",
    "b = torch.rand(2, 2)\n",
    "\n",
    "print('Before')\n",
    "print(a)\n",
    "print(b)\n",
    "print('\\nAfter adding:')\n",
    "print(a.add_(b))\n",
    "print(a)\n",
    "print(b)\n",
    "print('After multiplying')\n",
    "print(b.mul_(b))\n",
    "print(b)"
   ]
  },
  {
   "cell_type": "markdown",
   "metadata": {},
   "source": [
    "Note that these in-place arithmetic functions are methods on the `torch.Tensor` object, not attached to the `torch` module like many other functions (e.g., `torch.sin()`). As you can see from `a.add_(b)`, *the calling tensor is the one that gets changed in place.*\n",
    "\n",
    "There is another option for placing the result of a computation in an existing, allocated tensor. Many of the methods and functions we've seen so far - including creation methods! - have an `out` argument that lets you specify a tensor to receive the output. If the `out` tensor is the correct shape and `dtype`, this can happen without a new memory allocation:"
   ]
  },
  {
   "cell_type": "code",
   "execution_count": 7,
   "metadata": {},
   "outputs": [
    {
     "name": "stdout",
     "output_type": "stream",
     "text": [
      "tensor([[0., 0.],\n",
      "        [0., 0.]])\n",
      "tensor([[1.0899, 0.6995],\n",
      "        [0.2350, 0.1245]])\n",
      "tensor([[0.7504, 0.2196],\n",
      "        [0.8974, 0.6383]])\n"
     ]
    }
   ],
   "source": [
    "import torch\n",
    "import math\n",
    "a = torch.rand(2, 2)\n",
    "b = torch.rand(2, 2)\n",
    "c = torch.zeros(2, 2)\n",
    "old_id = id(c)\n",
    "print(c)\n",
    "\n",
    "d = torch.matmul(a, b, out=c)\n",
    "print(c)        #contents have c is changrd\n",
    "\n",
    "assert c is d   # test c & d are same object, not just containing equal values\n",
    "assert id(c), old_id    # make sure that our new c is the same object as the old one\n",
    "\n",
    "torch.rand(2, 2, out=c)     # works for creation too!\n",
    "print(c)                    # c has changed again\n",
    "assert id(c), old_id        # still the same object!"
   ]
  },
  {
   "cell_type": "markdown",
   "metadata": {},
   "source": [
    "## Copying Tensors\n",
    "\n",
    "As with any object in Python, assigning a tensor to a variable makes the variable a *label* of the tensor, and does not copy it. For example:"
   ]
  },
  {
   "cell_type": "code",
   "execution_count": 11,
   "metadata": {},
   "outputs": [
    {
     "name": "stdout",
     "output_type": "stream",
     "text": [
      "tensor([[  1., 561.],\n",
      "        [  1.,   1.]])\n"
     ]
    }
   ],
   "source": [
    "a = torch.ones(2, 2)\n",
    "b = a\n",
    "\n",
    "a[0][1] = 561\n",
    "print(a)"
   ]
  },
  {
   "cell_type": "markdown",
   "metadata": {},
   "source": [
    "But what if you want a separate copy of the data to work on? The `clone()` method is there for you:"
   ]
  },
  {
   "cell_type": "code",
   "execution_count": 16,
   "metadata": {},
   "outputs": [
    {
     "name": "stdout",
     "output_type": "stream",
     "text": [
      "tensor([[True, True],\n",
      "        [True, True]])\n",
      "tensor([[  1., 561.],\n",
      "        [  1.,   1.]])\n",
      "tensor([[1., 1.],\n",
      "        [1., 1.]])\n"
     ]
    }
   ],
   "source": [
    "a = torch.ones(2, 2)\n",
    "b = torch.clone(a)\n",
    "\n",
    "assert b is not a\n",
    "print(torch.eq(a, b))\n",
    "\n",
    "a[0][1] = 561\n",
    "print(a)\n",
    "print(b)"
   ]
  },
  {
   "cell_type": "markdown",
   "metadata": {},
   "source": [
    "**There is an important thing to be aware of when using `clone()`.** If your source tensor has autograd, enabled then so will the clone. **This will be covered more deeply in the video on autograd,** but if you want the light version of the details, continue on.\n",
    "\n",
    "*In many cases, this will be what you want.* For example, if your model has multiple computation paths in its `forward()` method, and *both* the original tensor and its clone contribute to the model's output, then to enable model learning you want autograd turned on for both tensors. If your source tensor has autograd enabled (which it generally will if it's a set of learning weights or derived from a computation involving the weights), then you'll get the result you want.\n",
    "\n",
    "On the other hand, if you're doing a computation where *neither* the original tensor nor its clone need to track gradients, then as long as the source tensor has autograd turned off, you're good to go.\n",
    "\n",
    "*There is a third case,* though: Imagine you're performing a computation in your model's `forward()` function, where gradients are turned on for everything by default, but you want to pull out some values mid-stream to generate some metrics. In this case, you *don't* want the cloned copy of your source tensor to track gradients - performance is improved with autograd's history tracking turned off. For this, you can use the `.detach()` method on the source tensor:"
   ]
  },
  {
   "cell_type": "code",
   "execution_count": 21,
   "metadata": {},
   "outputs": [
    {
     "name": "stdout",
     "output_type": "stream",
     "text": [
      "tensor([[0.1184, 0.2983],\n",
      "        [0.2414, 0.0534]], requires_grad=True)\n",
      "tensor([[0.1184, 0.2983],\n",
      "        [0.2414, 0.0534]], grad_fn=<CloneBackward0>)\n",
      "tensor([[0.1184, 0.2983],\n",
      "        [0.2414, 0.0534]])\n",
      "tensor([[0.1184, 0.2983],\n",
      "        [0.2414, 0.0534]], requires_grad=True)\n"
     ]
    }
   ],
   "source": [
    "a = torch.rand(2, 2, requires_grad=True)\n",
    "print(a)\n",
    "\n",
    "b = a.clone()\n",
    "print(b)\n",
    "\n",
    "c = a.detach().clone()\n",
    "print(c)\n",
    "print(a)"
   ]
  },
  {
   "cell_type": "markdown",
   "metadata": {},
   "source": [
    "What's happening here?\n",
    "\n",
    "* We create `a` with `requires_grad=True` turned on. **We haven't covered this optional argument yet, but will during the unit on autograd.**\n",
    "* When we print `a`, it informs us that the property `requires_grad=True` - this means that autograd and computation history tracking are turned on.\n",
    "* We clone `a` and label it `b`. When we print `b`, we can see that it's tracking its computation history - it has inherited `a`'s autograd settings, and added to the computation history.\n",
    "* We clone `a` into `c`, but we call `detach()` first.\n",
    "* Printing `c`, we see no computation history, and no `requires_grad=True`.\n",
    "\n",
    "The `detach()` method *detaches the tensor from its computation history.* It says, \"do whatever comes next as if autograd was off.\" It does this *without* changing `a` - you can see that when we print `a` again at the end, it retains its `requires_grad=True` property.\n",
    "\n",
    "## Moving to GPU\n",
    "\n",
    "One of the major advantages of PyTorch is its robust acceleration on CUDA-compatible Nvidia GPUs. (\"CUDA\" stands for *Compute Unified Device Architecture*, which is Nvidia's platform for parallel computing.) So far, everything we've done has been on CPU. How do we move to the faster hardware?\n",
    "\n",
    "First, we should check whether a GPU is available, with the `is_available()` method.\n",
    "\n",
    "**Note: If you do not have a CUDA-compatible GPU and CUDA drivers installed, the executable cells in this section will not execute any GPU-related code.**"
   ]
  },
  {
   "cell_type": "code",
   "execution_count": null,
   "metadata": {},
   "outputs": [],
   "source": []
  }
 ],
 "metadata": {
  "kernelspec": {
   "display_name": "Python 3.10.12 64-bit",
   "language": "python",
   "name": "python3"
  },
  "language_info": {
   "codemirror_mode": {
    "name": "ipython",
    "version": 3
   },
   "file_extension": ".py",
   "mimetype": "text/x-python",
   "name": "python",
   "nbconvert_exporter": "python",
   "pygments_lexer": "ipython3",
   "version": "3.10.12"
  },
  "orig_nbformat": 4,
  "vscode": {
   "interpreter": {
    "hash": "916dbcbb3f70747c44a77c7bcd40155683ae19c65e1c03b4aa3499c5328201f1"
   }
  }
 },
 "nbformat": 4,
 "nbformat_minor": 2
}
