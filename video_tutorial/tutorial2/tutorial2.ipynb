{
 "cells": [
  {
   "cell_type": "markdown",
   "metadata": {},
   "source": [
    "# PyTorch Tensors\n",
    "\n",
    "Tensors are the central data abstraction in PyTorch. This interactive notebook provides an in-depth introduction to the `torch.Tensor` class. You can run this notebook locally, on [Colab](https://colab.research.google.com/), or on your preferred cloud service.\n",
    "\n",
    "First things first, let's import the PyTorch module. We'll also add Python's math module to facilitate some of the examples."
   ]
  },
  {
   "cell_type": "code",
   "execution_count": 1,
   "metadata": {},
   "outputs": [],
   "source": [
    "import torch\n",
    "import math"
   ]
  },
  {
   "cell_type": "markdown",
   "metadata": {},
   "source": [
    "## Creating Tensors\n",
    "The simplest way to create a tensor is with the `torch.empty()` call:"
   ]
  },
  {
   "cell_type": "code",
   "execution_count": 2,
   "metadata": {},
   "outputs": [
    {
     "name": "stdout",
     "output_type": "stream",
     "text": [
      "<class 'torch.Tensor'>\n",
      "tensor([[0., 0., 0., 0.],\n",
      "        [0., 0., 0., 0.],\n",
      "        [0., 0., 0., 0.]])\n"
     ]
    }
   ],
   "source": [
    "x = torch.empty(3, 4)\n",
    "print(type(x))\n",
    "print(x)"
   ]
  },
  {
   "cell_type": "markdown",
   "metadata": {},
   "source": [
    "Let's unpack what we just did:\n",
    "\n",
    "* We created a tensor using one of the numerous factory methods attached to the `torch` module.\n",
    "* The tensor itself is 2-dimensional, having 3 rows and 4 columns.\n",
    "* The type of the object returned is `torch.Tensor`, which is an alias for `torch.FloatTensor`; by default, PyTorch tensors are populated with 32-bit floating point numbers. (More on data types below.)\n",
    "* You will probably see some random-looking values when printing your tensor. The `torch.empty()` call allocates memory for the tensor, but does not initialize it with any values - so what you're seeing is whatever was in memory at the time of allocation.\n",
    "\n",
    "A brief note about tensors and their number of dimensions, and terminology:\n",
    "* You will sometimes see a 1-dimensional tensor called a *vector.*\n",
    "* Likewise, a 2-dimensional tensor is often referred to as a *matrix.*\n",
    "* Anything with more than two dimensions is generally just called a tensor.\n",
    "\n",
    "More often than not, you'll want to initialize your tensor with some value. Common cases are all zeros, all ones, or random values, and the `torch` module provides factory methods for all of these:"
   ]
  },
  {
   "cell_type": "code",
   "execution_count": 3,
   "metadata": {},
   "outputs": [
    {
     "name": "stdout",
     "output_type": "stream",
     "text": [
      "tensor([[0., 0., 0.],\n",
      "        [0., 0., 0.]])\n",
      "tensor([[1., 1., 1.],\n",
      "        [1., 1., 1.]])\n",
      "tensor([[0.3126, 0.3791, 0.3087],\n",
      "        [0.0736, 0.4216, 0.0691]])\n"
     ]
    }
   ],
   "source": [
    "zero = torch.zeros(2, 3)\n",
    "print(zero)\n",
    "\n",
    "\n",
    "ones = torch.ones(2, 3)\n",
    "print(ones)\n",
    "\n",
    "torch.manual_seed(1729)\n",
    "random = torch.rand(2, 3)\n",
    "print(random)"
   ]
  },
  {
   "cell_type": "markdown",
   "metadata": {},
   "source": [
    "The factory methods all do just what you'd expect - we have a tensor full of zeros, another full of ones, and another with random values between 0 and 1.\n",
    "\n",
    "### Random Tensors and Seeding\n",
    "\n",
    "Speaking of the random tensor, did you notice the call to `torch.manual_seed()` immediately preceding it? Initializing tensors, such as a model's learning weights, with random values is common but there are times - especially in research settings - where you'll want some assurance of the reproducibility of your results. Manually setting your random number generator's seed is the way to do this. Let's look more closely:"
   ]
  },
  {
   "cell_type": "code",
   "execution_count": 4,
   "metadata": {},
   "outputs": [
    {
     "name": "stdout",
     "output_type": "stream",
     "text": [
      "tensor([[0.3126, 0.3791, 0.3087, 0.0736],\n",
      "        [0.4216, 0.0691, 0.2332, 0.4047],\n",
      "        [0.2162, 0.9927, 0.4128, 0.5938]])\n",
      "tensor([[0.6128, 0.1519, 0.0453, 0.5035],\n",
      "        [0.9978, 0.3884, 0.6929, 0.1703],\n",
      "        [0.1384, 0.4759, 0.7481, 0.0361]])\n",
      "tensor([[0.3126, 0.3791, 0.3087, 0.0736],\n",
      "        [0.4216, 0.0691, 0.2332, 0.4047],\n",
      "        [0.2162, 0.9927, 0.4128, 0.5938]])\n",
      "tensor([[0.6128, 0.1519, 0.0453, 0.5035],\n",
      "        [0.9978, 0.3884, 0.6929, 0.1703],\n",
      "        [0.1384, 0.4759, 0.7481, 0.0361]])\n"
     ]
    }
   ],
   "source": [
    "torch.manual_seed(1729)\n",
    "random1 = torch.rand(3, 4)\n",
    "print(random1)\n",
    "\n",
    "random2 = torch.rand(3, 4)\n",
    "print(random2)\n",
    "\n",
    "torch.manual_seed(1729)\n",
    "random3 = torch.rand(3, 4)\n",
    "print(random3)\n",
    "\n",
    "random4 = torch.rand(3, 4)\n",
    "print(random4)"
   ]
  },
  {
   "cell_type": "markdown",
   "metadata": {},
   "source": [
    "What you should see above is that `random1` and `random3` carry identical values, as do `random2` and `random4`. Manually setting the RNG's seed resets it, so that identical computations depending on random number should, in most settings, provide identical results.\n",
    "\n",
    "For more information, see the [PyTorch documentation on reproducibility](https://pytorch.org/docs/stable/notes/randomness.html).\n",
    "\n",
    "### Tensor Shapes\n",
    "Often, when you're performing operations on two or more tensors, they will need to be of the same *shape* - that is, having the same number of dimensions and the same number of cells in each dimension. For that, we have the `torch.*_like()` methods:"
   ]
  },
  {
   "cell_type": "code",
   "execution_count": 5,
   "metadata": {},
   "outputs": [
    {
     "name": "stdout",
     "output_type": "stream",
     "text": [
      "torch.Size([2, 2, 3])\n",
      "tensor([[[ 1.1703e+26,  4.5722e-41, -1.3057e+01],\n",
      "         [ 3.0718e-41,  1.4013e-45,  0.0000e+00]],\n",
      "\n",
      "        [[-1.3037e+01,  3.0718e-41, -1.3074e+01],\n",
      "         [ 3.0718e-41,  0.0000e+00,  0.0000e+00]]])\n",
      "torch.Size([2, 2, 3])\n",
      "tensor([[[ 1.1703e+26,  4.5722e-41, -1.2905e+01],\n",
      "         [ 3.0718e-41,  1.4013e-45,  0.0000e+00]],\n",
      "\n",
      "        [[-1.3037e+01,  3.0718e-41, -1.3074e+01],\n",
      "         [ 3.0718e-41,  0.0000e+00,  0.0000e+00]]])\n",
      "torch.Size([2, 2, 3])\n",
      "tensor([[[1., 1., 1.],\n",
      "         [1., 1., 1.]],\n",
      "\n",
      "        [[1., 1., 1.],\n",
      "         [1., 1., 1.]]])\n",
      "torch.Size([2, 2, 3])\n",
      "tensor([[[0., 0., 0.],\n",
      "         [0., 0., 0.]],\n",
      "\n",
      "        [[0., 0., 0.],\n",
      "         [0., 0., 0.]]])\n",
      "torch.Size([2, 2, 3])\n",
      "tensor([[[0.5062, 0.8469, 0.2588],\n",
      "         [0.2707, 0.4115, 0.6839]],\n",
      "\n",
      "        [[0.0703, 0.5105, 0.9451],\n",
      "         [0.2359, 0.1979, 0.3327]]])\n"
     ]
    }
   ],
   "source": [
    "x = torch.empty(2, 2, 3)\n",
    "print(x.shape)\n",
    "print(x)\n",
    "\n",
    "empty_like_x = torch.empty_like(x)\n",
    "print(empty_like_x.shape)\n",
    "print(empty_like_x)\n",
    "\n",
    "ones_like_x = torch.ones_like(x)\n",
    "print(ones_like_x.shape)\n",
    "print(ones_like_x)\n",
    "\n",
    "zeros_like_x = torch.zeros_like(x)\n",
    "print(zeros_like_x.shape)\n",
    "print(zeros_like_x)\n",
    "\n",
    "random_like_x = torch.rand_like(x)\n",
    "print(random_like_x.shape)\n",
    "print(random_like_x)\n",
    "\n"
   ]
  },
  {
   "cell_type": "markdown",
   "metadata": {},
   "source": [
    "The first new thing in the code cell above is the use of the `.shape` property on a tensor. This property contains a list of the extent of each dimension of a tensor - in our case, `x` is a three-dimensional tensor with shape 2 x 2 x 3.\n",
    "\n",
    "Below that, we call the `.empty_like()`, `.zeros_like()`, `.ones_like()`, and `.rand_like()` methods. Using the `.shape` property, we can verify that each of these methods returns a tensor of identical dimensionality and extent.\n",
    "\n",
    "The last way to create a tensor that will cover is to specify its data directly from a PyTorch collection:"
   ]
  },
  {
   "cell_type": "code",
   "execution_count": 6,
   "metadata": {},
   "outputs": [
    {
     "name": "stdout",
     "output_type": "stream",
     "text": [
      "torch.Size([2, 2])\n",
      "<class 'torch.Tensor'>\n",
      "tensor([[1.0103, 0.1278],\n",
      "        [3.1452, 0.2346]])\n",
      "torch.Size([9])\n",
      "<class 'torch.Tensor'>\n",
      "tensor([ 1,  3,  2,  7,  8,  9, 10, 45, 55])\n",
      "torch.Size([2, 5])\n",
      "<class 'torch.Tensor'>\n",
      "tensor([[ 1.,  5.,  7.,  2., 10.],\n",
      "        [ 2.,  6., 99., 65., 78.]])\n"
     ]
    }
   ],
   "source": [
    "some_constant = torch.tensor([[1.01034, 0.12783], [3.14523, 0.23456]])\n",
    "print(some_constant.shape)\n",
    "print(type(some_constant))\n",
    "print(some_constant)\n",
    "\n",
    "some_integer = torch.tensor((1, 3, 2, 7, 8, 9, 10, 45, 55))\n",
    "print(some_integer.shape)\n",
    "print(type(some_integer))\n",
    "print(some_integer)\n",
    "\n",
    "more_integer = torch.Tensor(((1, 5, 7, 2, 10), [2, 6, 99, 65, 78]))\n",
    "print(more_integer.shape)\n",
    "print(type(more_integer))\n",
    "print(more_integer)\n",
    "\n",
    "\n"
   ]
  },
  {
   "cell_type": "markdown",
   "metadata": {},
   "source": [
    "Using `torch.tensor()` is the most straightforward way to create a tensor if you already have data in a Python tuple or list. As shown above, nesting the collections will result in a multi-dimensional tensor.\n",
    "\n",
    "*Note: `torch.tensor()` creates a copy of the data.*\n",
    "\n",
    "### Tensor Data Types\n",
    "Setting the datatype of a tensor is possible a couple of ways:"
   ]
  },
  {
   "cell_type": "code",
   "execution_count": 7,
   "metadata": {},
   "outputs": [
    {
     "name": "stdout",
     "output_type": "stream",
     "text": [
      "tensor([[1, 1, 1],\n",
      "        [1, 1, 1]], dtype=torch.int16)\n",
      "tensor([[0., 0., 0., 0.],\n",
      "        [0., 0., 0., 0.],\n",
      "        [0., 0., 0., 0.]])\n",
      "tensor([[0, 0, 0, 0],\n",
      "        [0, 0, 0, 0],\n",
      "        [0, 0, 0, 0]], dtype=torch.int32)\n"
     ]
    }
   ],
   "source": [
    "a = torch.ones((2, 3), dtype=torch.int16)\n",
    "print(a)\n",
    "\n",
    "b = torch.zeros((3, 4), dtype=torch.int64) * 20.\n",
    "print(b)\n",
    "\n",
    "c = b.to( torch.int32)\n",
    "print(c)\n"
   ]
  },
  {
   "cell_type": "markdown",
   "metadata": {},
   "source": [
    "The simplest way to set the underlying data type of a tensor is with an optional argument at creation time. In the first line of the cell above, we set `dtype=torch.int16` for the tensor `a`. When we print `a`, we can see that it's full of `1` rather than `1.` - Python's subtle cue that this is an integer type rather than floating point.\n",
    "\n",
    "Another thing to notice about printing `a` is that, unlike when we left `dtype` as the default (32-bit floating point), printing the tensor also specifies its `dtype`.\n",
    "\n",
    "You may have also spotted that we went from specifying the tensor's shape as a series of integer arguments, to grouping those arguments in a tuple. This is not strictly necessary - PyTorch will take a series of initial, unlabeled integer arguments as a tensor shape - but when adding the optional arguments, it can make your intent more readable.\n",
    "\n",
    "The other way to set the datatype is with the `.to()` method. In the cell above, we create a random floating point tensor `b` in the usual way. Following that, we create `c` by converting `b` to a 32-bit integer with the `.to()` method. Note that `c` contains all the same values as `b`, but truncated to integers.\n",
    "\n",
    "Available data types include:\n",
    "\n",
    "* `torch.bool`\n",
    "* `torch.int8`\n",
    "* `torch.uint8`\n",
    "* `torch.int16`\n",
    "* `torch.int32`\n",
    "* `torch.int64`\n",
    "* `torch.half`\n",
    "* `torch.float`\n",
    "* `torch.double`\n",
    "* `torch.bfloat`\n",
    "\n",
    "## Math & Logic with PyTorch Tensors\n",
    "\n",
    "Now that you know some of the ways to create a tensor... what can you do with them?\n",
    "\n",
    "Let's look at basic arithmetic first, and how tensors interact with simple scalars:"
   ]
  },
  {
   "cell_type": "code",
   "execution_count": 8,
   "metadata": {},
   "outputs": [
    {
     "name": "stdout",
     "output_type": "stream",
     "text": [
      "tensor([[1., 1.],\n",
      "        [1., 1.]])\n",
      "tensor([[2., 2.],\n",
      "        [2., 2.]])\n",
      "tensor([[3., 3.],\n",
      "        [3., 3.]])\n",
      "tensor([[4., 4.],\n",
      "        [4., 4.]])\n",
      "tensor([[1.4142, 1.4142],\n",
      "        [1.4142, 1.4142]])\n"
     ]
    }
   ],
   "source": [
    "ones = torch.zeros(2, 2) + 1\n",
    "twos = torch.ones(2, 2) * 2\n",
    "threes = (torch.ones(2, 2) * 7 -1) / 2\n",
    "fours = twos ** 2\n",
    "sqrt2s = twos ** 0.5\n",
    "\n",
    "print(ones)\n",
    "print(twos)\n",
    "print(threes)\n",
    "print(fours)\n",
    "print(sqrt2s)\n"
   ]
  },
  {
   "cell_type": "markdown",
   "metadata": {},
   "source": [
    "As you can see above, arithmetic operations between tensors and scalars, such as addition, subtraction, multiplication, division, and exponentiation are distributed over every element of the tensor. Because the output of such an operation will be a tensor, you can chain them together with the usual operator precedence rules, as in the line where we create `threes`.\n",
    "\n",
    "Similar operations between two tensors also behave like you'd intuitively expect:"
   ]
  },
  {
   "cell_type": "code",
   "execution_count": 9,
   "metadata": {},
   "outputs": [
    {
     "name": "stdout",
     "output_type": "stream",
     "text": [
      "tensor([[ 2.,  4.],\n",
      "        [ 8., 16.]])\n",
      "tensor([[5., 5.],\n",
      "        [5., 5.]])\n",
      "tensor([[12., 12.],\n",
      "        [12., 12.]])\n"
     ]
    }
   ],
   "source": [
    "powers2s = twos ** torch.tensor([[1, 2], [3, 4]])\n",
    "print(powers2s)\n",
    "fives = fours + ones\n",
    "print(fives)\n",
    "dozens = fours * threes\n",
    "print(dozens)"
   ]
  },
  {
   "cell_type": "markdown",
   "metadata": {},
   "source": [
    "It's important to note here that all of the tensors in the previous code cell were of identical shape. What happens when we try to perform a binary operation on tensors if dissimilar shape?\n",
    "\n",
    "**Note: The following cell throws a run-time error. This is intentional.**"
   ]
  },
  {
   "cell_type": "code",
   "execution_count": 10,
   "metadata": {},
   "outputs": [
    {
     "ename": "RuntimeError",
     "evalue": "The size of tensor a (3) must match the size of tensor b (2) at non-singleton dimension 1",
     "output_type": "error",
     "traceback": [
      "\u001b[0;31m---------------------------------------------------------------------------\u001b[0m",
      "\u001b[0;31mRuntimeError\u001b[0m                              Traceback (most recent call last)",
      "\u001b[1;32m/home/aletheia-ai/Aletheia-AI_Development/torch_tutorial/video_tutorial/tutorial2/tutorial2.ipynb Cell 20\u001b[0m line \u001b[0;36m4\n\u001b[1;32m      <a href='vscode-notebook-cell:/home/aletheia-ai/Aletheia-AI_Development/torch_tutorial/video_tutorial/tutorial2/tutorial2.ipynb#X25sZmlsZQ%3D%3D?line=0'>1</a>\u001b[0m a \u001b[39m=\u001b[39m torch\u001b[39m.\u001b[39mrand(\u001b[39m2\u001b[39m, \u001b[39m3\u001b[39m)\n\u001b[1;32m      <a href='vscode-notebook-cell:/home/aletheia-ai/Aletheia-AI_Development/torch_tutorial/video_tutorial/tutorial2/tutorial2.ipynb#X25sZmlsZQ%3D%3D?line=1'>2</a>\u001b[0m b \u001b[39m=\u001b[39m torch\u001b[39m.\u001b[39mrand(\u001b[39m3\u001b[39m, \u001b[39m2\u001b[39m)\n\u001b[0;32m----> <a href='vscode-notebook-cell:/home/aletheia-ai/Aletheia-AI_Development/torch_tutorial/video_tutorial/tutorial2/tutorial2.ipynb#X25sZmlsZQ%3D%3D?line=3'>4</a>\u001b[0m \u001b[39mprint\u001b[39m(a \u001b[39m*\u001b[39;49m b)\n",
      "\u001b[0;31mRuntimeError\u001b[0m: The size of tensor a (3) must match the size of tensor b (2) at non-singleton dimension 1"
     ]
    }
   ],
   "source": [
    "a = torch.rand(2, 3)\n",
    "b = torch.rand(3, 2)\n",
    "\n",
    "print(a * b)"
   ]
  },
  {
   "cell_type": "markdown",
   "metadata": {},
   "source": [
    "In the general case, you cannot operate on tensors of different shape this way, even in a case like the cell above, where the tensors have an identical number of elements.\n",
    "\n",
    "### In Brief: Tensor Broadcasting\n",
    "\n",
    "*(Note: If you are familiar with broadcasting semantics in NumPy ndarrays, you'll find the same rules apply here.)*\n",
    "\n",
    "The exception to the same-shapes rule is *tensor broadcasting.* Here's an example:"
   ]
  },
  {
   "cell_type": "code",
   "execution_count": 11,
   "metadata": {},
   "outputs": [
    {
     "name": "stdout",
     "output_type": "stream",
     "text": [
      "tensor([[0.2024, 0.5731, 0.7191, 0.4067],\n",
      "        [0.7301, 0.6276, 0.7357, 0.0381]])\n",
      "tensor([[0.4049, 1.1461, 1.4382, 0.8134],\n",
      "        [1.4602, 1.2551, 1.4715, 0.0762]])\n"
     ]
    }
   ],
   "source": [
    "rand = torch.rand(2, 4)\n",
    "double = rand * (torch.ones(1, 4) * 2)\n",
    "\n",
    "print(rand)\n",
    "print(double)"
   ]
  },
  {
   "cell_type": "markdown",
   "metadata": {},
   "source": [
    "What's the trick here? How is it we got to multiply a 2x4 tensor by a 1x4 tensor?\n",
    "\n",
    "Broadcasting is a way to perform an operation between tensors that have similarities in their shapes. In the example above, the one-row, four-column tensor is multiplied by *both rows* of the two-row, four-column tensor.\n",
    "\n",
    "This is an important operation in Deep Learning. The common example is multiplying a tensor of learning weights by a *batch* of input tensors, applying the operation to each instance in the batch separately, and returning a tensor of identical shape - just like our (2, 4) * (1, 4) example above returned a tensor of shape (2, 4).\n",
    "\n",
    "The rules for broadcasting are:\n",
    "\n",
    "* Each tensor must have at least one dimension - no empty tensors.\n",
    "* Comparing the dimension sizes of the two tensors, *going from last to first:*\n",
    "* * Each dimension must be equal, *or*\n",
    "* * One of the dimensions must be of size 1, *or*\n",
    "* * The dimension does not exist in one of the tensors\n",
    "\n",
    "Tensors of identical shape, of course, are trivially \"broadcastable\", as you saw earlier.\n",
    "\n",
    "Here are some examples of situations that honor the above rules and allow broadcasting:"
   ]
  },
  {
   "cell_type": "code",
   "execution_count": 12,
   "metadata": {},
   "outputs": [
    {
     "name": "stdout",
     "output_type": "stream",
     "text": [
      "tensor([[[1., 1.],\n",
      "         [1., 1.],\n",
      "         [1., 1.]],\n",
      "\n",
      "        [[1., 1.],\n",
      "         [1., 1.],\n",
      "         [1., 1.]],\n",
      "\n",
      "        [[1., 1.],\n",
      "         [1., 1.],\n",
      "         [1., 1.]],\n",
      "\n",
      "        [[1., 1.],\n",
      "         [1., 1.],\n",
      "         [1., 1.]]])\n",
      "tensor([[[0.2138, 0.5395],\n",
      "         [0.3686, 0.4007],\n",
      "         [0.7220, 0.8217]],\n",
      "\n",
      "        [[0.2138, 0.5395],\n",
      "         [0.3686, 0.4007],\n",
      "         [0.7220, 0.8217]],\n",
      "\n",
      "        [[0.2138, 0.5395],\n",
      "         [0.3686, 0.4007],\n",
      "         [0.7220, 0.8217]],\n",
      "\n",
      "        [[0.2138, 0.5395],\n",
      "         [0.3686, 0.4007],\n",
      "         [0.7220, 0.8217]]])\n",
      "tensor([[[0.2612, 0.2612],\n",
      "         [0.7375, 0.7375],\n",
      "         [0.8328, 0.8328]],\n",
      "\n",
      "        [[0.2612, 0.2612],\n",
      "         [0.7375, 0.7375],\n",
      "         [0.8328, 0.8328]],\n",
      "\n",
      "        [[0.2612, 0.2612],\n",
      "         [0.7375, 0.7375],\n",
      "         [0.8328, 0.8328]],\n",
      "\n",
      "        [[0.2612, 0.2612],\n",
      "         [0.7375, 0.7375],\n",
      "         [0.8328, 0.8328]]])\n",
      "tensor([[[0.8444, 0.2941],\n",
      "         [0.8444, 0.2941],\n",
      "         [0.8444, 0.2941]],\n",
      "\n",
      "        [[0.8444, 0.2941],\n",
      "         [0.8444, 0.2941],\n",
      "         [0.8444, 0.2941]],\n",
      "\n",
      "        [[0.8444, 0.2941],\n",
      "         [0.8444, 0.2941],\n",
      "         [0.8444, 0.2941]],\n",
      "\n",
      "        [[0.8444, 0.2941],\n",
      "         [0.8444, 0.2941],\n",
      "         [0.8444, 0.2941]]])\n"
     ]
    }
   ],
   "source": [
    "a = torch.ones(4, 3, 2)\n",
    "print(a)\n",
    "\n",
    "b = a * torch.rand(  3, 2) # 2nd & 3rd dim is identical\n",
    "print(b)\n",
    "\n",
    "c = a * torch.rand(  3, 1) # 2nd is idetical but 3rd is different\n",
    "print(c)\n",
    "\n",
    "d = a * torch.rand(  1, 2) #3rd dim is identical & 2nd is different\n",
    "print(d)"
   ]
  },
  {
   "cell_type": "markdown",
   "metadata": {},
   "source": [
    "Look closely at the values of each tensor above:\n",
    "* The multiplication operation that created `b` was broadcast over every \"layer\" of `a`.\n",
    "* For `c`, the operation was broadcast over ever layer and row of `a` - every 3-element column is identical.\n",
    "* For `d`, we switched it around - now every *row* is identical, across layers and columns.\n",
    "\n",
    "For more information on broadcasting, see the [PyTorch documentation](https://pytorch.org/docs/stable/notes/broadcasting.html) on the topic.\n",
    "\n",
    "Here are some examples of attempts at broadcasting that will fail:\n",
    "\n",
    "**Note: The following cell throws a run-time error. This is intentional.**"
   ]
  },
  {
   "cell_type": "code",
   "execution_count": 13,
   "metadata": {},
   "outputs": [
    {
     "ename": "RuntimeError",
     "evalue": "The size of tensor a (2) must match the size of tensor b (3) at non-singleton dimension 2",
     "output_type": "error",
     "traceback": [
      "\u001b[0;31m---------------------------------------------------------------------------\u001b[0m",
      "\u001b[0;31mRuntimeError\u001b[0m                              Traceback (most recent call last)",
      "\u001b[1;32m/home/aletheia-ai/Aletheia-AI_Development/torch_tutorial/video_tutorial/tutorial2/tutorial2.ipynb Cell 26\u001b[0m line \u001b[0;36m3\n\u001b[1;32m      <a href='vscode-notebook-cell:/home/aletheia-ai/Aletheia-AI_Development/torch_tutorial/video_tutorial/tutorial2/tutorial2.ipynb#X34sZmlsZQ%3D%3D?line=0'>1</a>\u001b[0m a \u001b[39m=\u001b[39m torch\u001b[39m.\u001b[39mones(\u001b[39m4\u001b[39m, \u001b[39m3\u001b[39m, \u001b[39m2\u001b[39m)\n\u001b[0;32m----> <a href='vscode-notebook-cell:/home/aletheia-ai/Aletheia-AI_Development/torch_tutorial/video_tutorial/tutorial2/tutorial2.ipynb#X34sZmlsZQ%3D%3D?line=2'>3</a>\u001b[0m b \u001b[39m=\u001b[39m a \u001b[39m*\u001b[39;49m torch\u001b[39m.\u001b[39;49mrand(\u001b[39m4\u001b[39;49m, \u001b[39m3\u001b[39;49m) \u001b[39m# dimention must match last to first\u001b[39;00m\n\u001b[1;32m      <a href='vscode-notebook-cell:/home/aletheia-ai/Aletheia-AI_Development/torch_tutorial/video_tutorial/tutorial2/tutorial2.ipynb#X34sZmlsZQ%3D%3D?line=3'>4</a>\u001b[0m \u001b[39mprint\u001b[39m(b)\n\u001b[1;32m      <a href='vscode-notebook-cell:/home/aletheia-ai/Aletheia-AI_Development/torch_tutorial/video_tutorial/tutorial2/tutorial2.ipynb#X34sZmlsZQ%3D%3D?line=5'>6</a>\u001b[0m c \u001b[39m=\u001b[39m a \u001b[39m*\u001b[39m torch\u001b[39m.\u001b[39mrand(  \u001b[39m2\u001b[39m, \u001b[39m3\u001b[39m) \u001b[39m# 2nd & 3rd dimention are same\u001b[39;00m\n",
      "\u001b[0;31mRuntimeError\u001b[0m: The size of tensor a (2) must match the size of tensor b (3) at non-singleton dimension 2"
     ]
    }
   ],
   "source": [
    "a = torch.ones(4, 3, 2)\n",
    "\n",
    "b = a * torch.rand(4, 3) # dimention must match last to first\n",
    "print(b)\n",
    "\n",
    "c = a * torch.rand(  2, 3) # 2nd & 3rd dimention are same\n",
    "print(c)\n",
    "\n",
    "d = a * torch.rand((0, )) # can't broadcast with zeros\n",
    "print(d)"
   ]
  },
  {
   "cell_type": "markdown",
   "metadata": {},
   "source": [
    "### More Math with Tensors\n",
    "\n",
    "PyTorch tensors have over three hundred operations that can be performed on them.\n",
    "\n",
    "Here is a small sample from some of the major categories of operations:"
   ]
  },
  {
   "cell_type": "code",
   "execution_count": 54,
   "metadata": {},
   "outputs": [
    {
     "name": "stdout",
     "output_type": "stream",
     "text": [
      "Absolute function tensor([[0.4948, 0.7943, 0.2600, 0.8975, 0.0576, 0.9441, 0.0567, 0.3615],\n",
      "        [0.5941, 0.2787, 0.9871, 0.9055, 0.2031, 0.3874, 0.3988, 0.7187],\n",
      "        [0.8166, 0.6246, 0.3942, 0.0696, 0.9207, 0.7248, 0.3910, 0.5289],\n",
      "        [0.1493, 0.0166, 0.2272, 0.3383, 0.5263, 0.7173, 0.0353, 0.0388],\n",
      "        [0.0714, 0.5624, 0.0722, 0.2601, 0.1423, 0.6060, 0.8075, 0.4949]])\n",
      "ceil function  tensor([[-0., -0., -0., 1., 1., -0., 1., -0.],\n",
      "        [-0., 1., -0., -0., -0., 1., 1., 1.],\n",
      "        [-0., -0., -0., 1., 1., 1., 1., -0.],\n",
      "        [-0., -0., -0., -0., 1., -0., -0., -0.],\n",
      "        [-0., -0., -0., -0., -0., -0., -0., -0.]])\n",
      "floor function tensor([[-1., -1., -1.,  0.,  0., -1.,  0., -1.],\n",
      "        [-1.,  0., -1., -1., -1.,  0.,  0.,  0.],\n",
      "        [-1., -1., -1.,  0.,  0.,  0.,  0., -1.],\n",
      "        [-1., -1., -1., -1.,  0., -1., -1., -1.],\n",
      "        [-1., -1., -1., -1., -1., -1., -1., -1.]])\n",
      "clamp function tensor([[-0.4948, -0.5000, -0.2600,  0.5000,  0.0576, -0.5000,  0.0567, -0.3615],\n",
      "        [-0.5000,  0.2787, -0.5000, -0.5000, -0.2031,  0.3874,  0.3988,  0.5000],\n",
      "        [-0.5000, -0.5000, -0.3942,  0.0696,  0.5000,  0.5000,  0.3910, -0.5000],\n",
      "        [-0.1493, -0.0166, -0.2272, -0.3383,  0.5000, -0.5000, -0.0353, -0.0388],\n",
      "        [-0.0714, -0.5000, -0.0722, -0.2601, -0.1423, -0.5000, -0.5000, -0.4949]])\n",
      "tensor([0.0000, 0.7854, 1.5708, 2.3562])\n",
      "tensor([0.0000, 0.7071, 1.0000, 0.7071])\n",
      "tensor([0.0000, 0.7854, 1.5708, 0.7854])\n",
      "\n",
      "Bitwise operation XOR:\n",
      "tensor([ 4, 13,  7])\n",
      "\n",
      " Broadcasted, element_wise equality comparison: \n",
      "tensor([[ True, False],\n",
      "        [False, False]])\n",
      "\n",
      "Reductions ops\n",
      "tensor(4.)\n",
      "4.0\n",
      "tensor(2.5000)\n",
      "tensor(1.2910)\n",
      "tensor(24.)\n",
      "tensor([1, 2])\n",
      "\n",
      " Vector and Metrices \n",
      "tensor([0., 0., 1.])\n",
      "print m1 tensor([[0.2541, 0.5026],\n",
      "        [0.9441, 0.7188]])\n",
      "print m3 tensor([[0.7622, 1.5079],\n",
      "        [2.8324, 2.1565]])\n",
      "print svd torch.return_types.svd(\n",
      "U=tensor([[-0.4050, -0.9143],\n",
      "        [-0.9143,  0.4050]]),\n",
      "S=tensor([3.8820, 0.6768]),\n",
      "V=tensor([[-0.7466,  0.6652],\n",
      "        [-0.6652, -0.7466]]))\n"
     ]
    }
   ],
   "source": [
    "# Comman Function\n",
    "a = torch.rand(5, 8) * 2 -1\n",
    "\n",
    "print(\"Absolute function\",torch.abs(a))\n",
    "print('ceil function ',torch.ceil(a))\n",
    "print('floor function',torch.floor(a))\n",
    "print('clamp function',torch.clamp(a, -0.5, 0.5))\n",
    "\n",
    "# Trignometric function and their inverse\n",
    "\n",
    "angles = torch.tensor([0, math.pi / 4, math.pi / 2, 3 * math.pi / 4])\n",
    "print(angles)\n",
    "sines = torch.sin(angles)\n",
    "print(sines)\n",
    "inverse = torch.asin(sines) # sin inverse\n",
    "print(inverse)\n",
    "\n",
    "# bitwise operation\n",
    "print('\\nBitwise operation XOR:')\n",
    "b = torch.tensor([1, 5, 11])\n",
    "c = torch.tensor([5, 8, 12])\n",
    "print(torch.bitwise_xor(b, c))\n",
    "\n",
    "# comparisons:\n",
    "print('\\n Broadcasted, element_wise equality comparison: ')\n",
    "d = torch.tensor([[1. ,2.],[3., 4.]])\n",
    "e = torch.ones(1, 2)  #many comparison ops support Broadcasting\n",
    "print(torch.eq(d, e))  # return a tensor of type bool\n",
    "\n",
    "# reduction\n",
    "print('\\nReductions ops')\n",
    "print(torch.max(d))          # returns a single-element tensor\n",
    "print(torch.max(d).item())   # extracts the value from the returned tensor\n",
    "print(torch.mean(d))         # average\n",
    "print(torch.std(d))          # standard deviation\n",
    "print(torch.prod(d))         # product of all numbers\n",
    "print(torch.unique(torch.tensor([1, 2, 1, 2, 1, 2]))) # filter unique elements\n",
    "\n",
    "# vector and linear algebra operation\n",
    "v1 = torch.tensor([1., 0., 0.])         # x unit vector\n",
    "v2 = torch.tensor([0., 1., 0.])         # y unit vector\n",
    "m1 = torch.rand(2, 2)                   # random matrix\n",
    "m2 = torch.tensor([[3., 0.],[0., 3.]])  # three times identity matrix\n",
    "\n",
    "print('\\n Vector and Metrices ')\n",
    "print(torch.cross(v1, v2)) # negative of z unit vector (v1 x v2 == -v2 x v1)\n",
    "print('print m1',m1)\n",
    "m3 = torch.matmul(m1, m2)\n",
    "print('print m3',m3)               # 3 times m1\n",
    "print('print svd',torch.svd(m3))    # singular value decomposition"
   ]
  },
  {
   "cell_type": "code",
   "execution_count": null,
   "metadata": {},
   "outputs": [],
   "source": []
  }
 ],
 "metadata": {
  "kernelspec": {
   "display_name": "Python 3.10.12 64-bit",
   "language": "python",
   "name": "python3"
  },
  "language_info": {
   "codemirror_mode": {
    "name": "ipython",
    "version": 3
   },
   "file_extension": ".py",
   "mimetype": "text/x-python",
   "name": "python",
   "nbconvert_exporter": "python",
   "pygments_lexer": "ipython3",
   "version": "3.10.12"
  },
  "orig_nbformat": 4,
  "vscode": {
   "interpreter": {
    "hash": "916dbcbb3f70747c44a77c7bcd40155683ae19c65e1c03b4aa3499c5328201f1"
   }
  }
 },
 "nbformat": 4,
 "nbformat_minor": 2
}
