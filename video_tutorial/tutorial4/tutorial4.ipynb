{
 "cells": [
  {
   "cell_type": "markdown",
   "metadata": {},
   "source": [
    "# Building Models in PyTorch\n",
    "\n",
    "\n",
    "## `torch.nn.Module` and `torch.nn.Parameter`\n",
    "\n",
    "In this video, we'll be discussing some of the tools PyTorch makes available for building deep learning networks.\n",
    "\n",
    "Except for `Parameter`, the classes we discuss in this video are all subclasses of `torch.nn.Module`. This is the PyTorch base class meant to encapsulate behaviors specific to PyTorch Models and their components.\n",
    "\n",
    "One important behavior of `torch.nn.Module` is registering parameters. If a particular `Module` subclass has learning weights, these weights are expressed as instances of `torch.nn.Parameter`. The `Parameter` class is a subclass of `torch.Tensor`, with the special behavior that when they are assigned as attributes of a `Module`, they are added to the list of that modules parameters. These parameters may be accessed through the `parameters()` method on the `Module` class.\n",
    "\n",
    "As a simple example, here's a very simple model with two linear layers and an activation function. We'll create an instance of it and ask it to report on its parameters:"
   ]
  },
  {
   "cell_type": "code",
   "execution_count": 1,
   "metadata": {},
   "outputs": [
    {
     "name": "stdout",
     "output_type": "stream",
     "text": [
      "The model:\n",
      "TinayModel(\n",
      "  (linear1): Linear(in_features=100, out_features=200, bias=True)\n",
      "  (activation): ReLU()\n",
      "  (linear2): Linear(in_features=200, out_features=10, bias=True)\n",
      "  (softmax): Softmax(dim=None)\n",
      ")\n",
      "\n",
      "\n",
      " just one layer\n",
      "Linear(in_features=100, out_features=200, bias=True)\n",
      "\n",
      "\n",
      "param layer1\n",
      "Parameter containing:\n",
      "tensor([[ 0.0330, -0.0653, -0.0307,  ..., -0.0869,  0.0858,  0.0932],\n",
      "        [ 0.0688,  0.0782,  0.0752,  ..., -0.0833, -0.0129,  0.0675],\n",
      "        [ 0.0019,  0.0571,  0.0670,  ..., -0.0657,  0.0453, -0.0811],\n",
      "        ...,\n",
      "        [ 0.0315, -0.0390, -0.0627,  ...,  0.0772, -0.0558, -0.0573],\n",
      "        [-0.0167, -0.0776,  0.0870,  ...,  0.0265, -0.0550, -0.0333],\n",
      "        [-0.0076,  0.0914, -0.0444,  ...,  0.0359,  0.0180,  0.0515]],\n",
      "       requires_grad=True)\n",
      "Parameter containing:\n",
      "tensor([-0.0839,  0.0670,  0.0159,  0.0303,  0.0903, -0.0767,  0.0698, -0.0770,\n",
      "         0.0574,  0.0557,  0.0582, -0.0171, -0.0658,  0.0402, -0.0763,  0.0722,\n",
      "        -0.0051, -0.0822,  0.0200, -0.0384, -0.0506, -0.0081, -0.0113,  0.0530,\n",
      "         0.0317,  0.0367, -0.0755, -0.0684, -0.0003, -0.0088,  0.0569, -0.0707,\n",
      "         0.0362, -0.0420, -0.0065, -0.0642,  0.0914,  0.0404,  0.0757,  0.0296,\n",
      "         0.0973, -0.0840,  0.0264,  0.0234, -0.0732,  0.0274, -0.0016,  0.0146,\n",
      "         0.0590, -0.0586,  0.0543, -0.0278, -0.0344, -0.0352,  0.0062, -0.0227,\n",
      "        -0.0609,  0.0632, -0.0896,  0.0671, -0.0086, -0.0867,  0.0680, -0.0354,\n",
      "        -0.0589,  0.0500, -0.0800, -0.0742,  0.0875,  0.0399, -0.0204, -0.0013,\n",
      "        -0.0624,  0.0841, -0.0458, -0.0474,  0.0320,  0.0379,  0.0944,  0.0135,\n",
      "         0.0638,  0.0403, -0.0420,  0.0204, -0.0480, -0.0983,  0.0610, -0.0642,\n",
      "         0.0811, -0.0112, -0.0958, -0.0862,  0.0129, -0.0672,  0.0639, -0.0435,\n",
      "         0.0584,  0.0342, -0.0440, -0.0345,  0.0509,  0.0837,  0.0404, -0.0724,\n",
      "        -0.0055,  0.0535, -0.0536, -0.0940,  0.0936,  0.0175,  0.0335, -0.0715,\n",
      "        -0.0217,  0.0026,  0.0269, -0.0381,  0.0704,  0.0736, -0.0910,  0.0743,\n",
      "        -0.0648,  0.0614, -0.0460,  0.0119, -0.0945, -0.0153, -0.0149, -0.0735,\n",
      "        -0.0803,  0.0954, -0.0885,  0.0628, -0.0312, -0.0106, -0.0779, -0.0347,\n",
      "        -0.0021,  0.0308, -0.0982,  0.0967, -0.0307,  0.0996, -0.0978,  0.0718,\n",
      "         0.0571,  0.0707,  0.0460,  0.0876, -0.0330, -0.0449, -0.0591,  0.0162,\n",
      "        -0.0502,  0.0481, -0.0797,  0.0448, -0.0598,  0.0288,  0.0321, -0.0099,\n",
      "        -0.0411, -0.0962, -0.0244,  0.0206,  0.0076, -0.0039,  0.0106, -0.0178,\n",
      "         0.0967, -0.0863,  0.0546, -0.0485, -0.0648,  0.0567, -0.0298, -0.0905,\n",
      "         0.0797,  0.0423,  0.0193,  0.0534, -0.0585,  0.0245,  0.0329, -0.0704,\n",
      "         0.0765,  0.0067,  0.0425, -0.0101, -0.0923,  0.0618,  0.0184, -0.0623,\n",
      "        -0.0033,  0.0136, -0.0022, -0.0260,  0.0354, -0.0425,  0.0478,  0.0244],\n",
      "       requires_grad=True)\n",
      "\n",
      "\n",
      "parm layer 2\n",
      "Parameter containing:\n",
      "tensor([[ 0.0369,  0.0618,  0.0200,  ...,  0.0344, -0.0652,  0.0194],\n",
      "        [ 0.0005,  0.0414,  0.0071,  ...,  0.0447,  0.0078,  0.0462],\n",
      "        [ 0.0022,  0.0226,  0.0407,  ..., -0.0085, -0.0020, -0.0002],\n",
      "        ...,\n",
      "        [ 0.0662,  0.0171, -0.0205,  ...,  0.0116, -0.0271,  0.0460],\n",
      "        [ 0.0700, -0.0008, -0.0457,  ...,  0.0437, -0.0402, -0.0505],\n",
      "        [-0.0244, -0.0572,  0.0156,  ...,  0.0064,  0.0538,  0.0535]],\n",
      "       requires_grad=True)\n",
      "Parameter containing:\n",
      "tensor([ 0.0242, -0.0541, -0.0298, -0.0653, -0.0272,  0.0670,  0.0076, -0.0681,\n",
      "        -0.0681, -0.0628], requires_grad=True)\n",
      "\n",
      "\n",
      " model params\n",
      "Parameter containing:\n",
      "tensor([[ 0.0330, -0.0653, -0.0307,  ..., -0.0869,  0.0858,  0.0932],\n",
      "        [ 0.0688,  0.0782,  0.0752,  ..., -0.0833, -0.0129,  0.0675],\n",
      "        [ 0.0019,  0.0571,  0.0670,  ..., -0.0657,  0.0453, -0.0811],\n",
      "        ...,\n",
      "        [ 0.0315, -0.0390, -0.0627,  ...,  0.0772, -0.0558, -0.0573],\n",
      "        [-0.0167, -0.0776,  0.0870,  ...,  0.0265, -0.0550, -0.0333],\n",
      "        [-0.0076,  0.0914, -0.0444,  ...,  0.0359,  0.0180,  0.0515]],\n",
      "       requires_grad=True)\n",
      "Parameter containing:\n",
      "tensor([-0.0839,  0.0670,  0.0159,  0.0303,  0.0903, -0.0767,  0.0698, -0.0770,\n",
      "         0.0574,  0.0557,  0.0582, -0.0171, -0.0658,  0.0402, -0.0763,  0.0722,\n",
      "        -0.0051, -0.0822,  0.0200, -0.0384, -0.0506, -0.0081, -0.0113,  0.0530,\n",
      "         0.0317,  0.0367, -0.0755, -0.0684, -0.0003, -0.0088,  0.0569, -0.0707,\n",
      "         0.0362, -0.0420, -0.0065, -0.0642,  0.0914,  0.0404,  0.0757,  0.0296,\n",
      "         0.0973, -0.0840,  0.0264,  0.0234, -0.0732,  0.0274, -0.0016,  0.0146,\n",
      "         0.0590, -0.0586,  0.0543, -0.0278, -0.0344, -0.0352,  0.0062, -0.0227,\n",
      "        -0.0609,  0.0632, -0.0896,  0.0671, -0.0086, -0.0867,  0.0680, -0.0354,\n",
      "        -0.0589,  0.0500, -0.0800, -0.0742,  0.0875,  0.0399, -0.0204, -0.0013,\n",
      "        -0.0624,  0.0841, -0.0458, -0.0474,  0.0320,  0.0379,  0.0944,  0.0135,\n",
      "         0.0638,  0.0403, -0.0420,  0.0204, -0.0480, -0.0983,  0.0610, -0.0642,\n",
      "         0.0811, -0.0112, -0.0958, -0.0862,  0.0129, -0.0672,  0.0639, -0.0435,\n",
      "         0.0584,  0.0342, -0.0440, -0.0345,  0.0509,  0.0837,  0.0404, -0.0724,\n",
      "        -0.0055,  0.0535, -0.0536, -0.0940,  0.0936,  0.0175,  0.0335, -0.0715,\n",
      "        -0.0217,  0.0026,  0.0269, -0.0381,  0.0704,  0.0736, -0.0910,  0.0743,\n",
      "        -0.0648,  0.0614, -0.0460,  0.0119, -0.0945, -0.0153, -0.0149, -0.0735,\n",
      "        -0.0803,  0.0954, -0.0885,  0.0628, -0.0312, -0.0106, -0.0779, -0.0347,\n",
      "        -0.0021,  0.0308, -0.0982,  0.0967, -0.0307,  0.0996, -0.0978,  0.0718,\n",
      "         0.0571,  0.0707,  0.0460,  0.0876, -0.0330, -0.0449, -0.0591,  0.0162,\n",
      "        -0.0502,  0.0481, -0.0797,  0.0448, -0.0598,  0.0288,  0.0321, -0.0099,\n",
      "        -0.0411, -0.0962, -0.0244,  0.0206,  0.0076, -0.0039,  0.0106, -0.0178,\n",
      "         0.0967, -0.0863,  0.0546, -0.0485, -0.0648,  0.0567, -0.0298, -0.0905,\n",
      "         0.0797,  0.0423,  0.0193,  0.0534, -0.0585,  0.0245,  0.0329, -0.0704,\n",
      "         0.0765,  0.0067,  0.0425, -0.0101, -0.0923,  0.0618,  0.0184, -0.0623,\n",
      "        -0.0033,  0.0136, -0.0022, -0.0260,  0.0354, -0.0425,  0.0478,  0.0244],\n",
      "       requires_grad=True)\n",
      "Parameter containing:\n",
      "tensor([[ 0.0369,  0.0618,  0.0200,  ...,  0.0344, -0.0652,  0.0194],\n",
      "        [ 0.0005,  0.0414,  0.0071,  ...,  0.0447,  0.0078,  0.0462],\n",
      "        [ 0.0022,  0.0226,  0.0407,  ..., -0.0085, -0.0020, -0.0002],\n",
      "        ...,\n",
      "        [ 0.0662,  0.0171, -0.0205,  ...,  0.0116, -0.0271,  0.0460],\n",
      "        [ 0.0700, -0.0008, -0.0457,  ...,  0.0437, -0.0402, -0.0505],\n",
      "        [-0.0244, -0.0572,  0.0156,  ...,  0.0064,  0.0538,  0.0535]],\n",
      "       requires_grad=True)\n",
      "Parameter containing:\n",
      "tensor([ 0.0242, -0.0541, -0.0298, -0.0653, -0.0272,  0.0670,  0.0076, -0.0681,\n",
      "        -0.0681, -0.0628], requires_grad=True)\n"
     ]
    }
   ],
   "source": [
    "import torch\n",
    "\n",
    "class TinayModel(torch.nn.Module):\n",
    "    def __init__(self):\n",
    "        super(TinayModel, self).__init__()\n",
    "        \n",
    "        self.linear1 = torch.nn.Linear(100,200)\n",
    "        self.activation = torch.nn.ReLU()\n",
    "        self.linear2 = torch.nn.Linear(200, 10)\n",
    "        self.softmax = torch.nn.Softmax()\n",
    "        \n",
    "    def forward(self, x):\n",
    "        x = self.linear1(x)\n",
    "        x = self.activation(x)\n",
    "        x = self.linear2(x)\n",
    "        x = self.softmax(x)\n",
    "        return x\n",
    "        \n",
    "tinaymodel = TinayModel()\n",
    "\n",
    "print(\"The model:\")\n",
    "print(tinaymodel)\n",
    "\n",
    "print('\\n\\n just one layer')\n",
    "print(tinaymodel.linear1)\n",
    "\n",
    "print('\\n\\nparam layer1')\n",
    "for param in tinaymodel.linear1.parameters():\n",
    "    print(param)\n",
    "\n",
    "\n",
    "print('\\n\\nparm layer 2')    \n",
    "for param in tinaymodel.linear2.parameters():\n",
    "    print(param)\n",
    "\n",
    "print('\\n\\n model params')\n",
    "for param in tinaymodel.parameters():\n",
    "    print(param)\n"
   ]
  },
  {
   "cell_type": "markdown",
   "metadata": {},
   "source": [
    "This shows the fundamental structure of a PyTorch model: there is an `__init__()` method that defines the layers and other components of a model, and a `forward()` method where the computation gets done. Note that we can print the model, or any of its submodules, to learn about its structure.\n",
    "\n",
    "## Common Layer Types\n",
    "\n",
    "### Linear Layers\n",
    "\n",
    "The most basic type of neural network layer is a *linear* or *fully connected* layer. This is a layer where every input influences every output of the layer to a degree specified by the layer's weights. If a model has *m* inputs and *n* outputs, the weights will be an *m * n* matrix. For example:"
   ]
  },
  {
   "cell_type": "code",
   "execution_count": 2,
   "metadata": {},
   "outputs": [
    {
     "name": "stdout",
     "output_type": "stream",
     "text": [
      "Input\n",
      "tensor([[0.7498, 0.8188, 0.9328]])\n",
      "Linear(in_features=3, out_features=2, bias=True)\n",
      "\n",
      "\n",
      "Weight & Bias parameters\n",
      "Parameter containing:\n",
      "tensor([[-0.0918, -0.0336,  0.3809],\n",
      "        [-0.4934, -0.1530,  0.1492]], requires_grad=True)\n",
      "Parameter containing:\n",
      "tensor([0.4788, 0.1601], requires_grad=True)\n",
      "\n",
      "\n",
      "No_Output\n",
      "tensor([[ 0.7377, -0.1960]], grad_fn=<AddmmBackward0>)\n"
     ]
    }
   ],
   "source": [
    "lin = torch.nn.Linear(3,2)\n",
    "x = torch.rand(1,3)\n",
    "print('Input')\n",
    "print(x)\n",
    "print(lin)\n",
    "\n",
    "print('\\n\\nWeight & Bias parameters')\n",
    "for param in lin.parameters():\n",
    "    print(param)\n",
    "\n",
    "\n",
    "y = lin(x)\n",
    "print('\\n\\nNo_Output')\n",
    "print(y)"
   ]
  },
  {
   "cell_type": "markdown",
   "metadata": {},
   "source": [
    "If you do the matrix multiplication of `x` by the linear layer's weights, and add the biases, you'll find that you get the output vector `y`.\n",
    "\n",
    "One other important feature to note: When we checked the weights of our layer with `lin.weight`, it reported itself as a `Parameter` (which is a subclass of `Tensor`), and let us know that it's tracking gradients with autograd. This is a default behavior for `Parameter` that differs from `Tensor`.\n",
    "\n",
    "Linear layers are used widely in deep learning models. One of the most common places you'll see them is in classifier models, which will usually have one or more linear layers at the end, where the last layer will have *n* outputs, where *n* is the number of classes the classifier addresses.\n",
    "\n",
    "### Convolutional Layers\n",
    "\n",
    "*Convolutional* layers are built to handle data with a high degree of spatial correlation. They are very commonly used in computer vision, where they detect close groupings of features which the compose into higher-level features. They pop up in other contexts too - for example, in NLP applications, where the a word's immediate context (that is, the other words nearby in the sequence) can affect the meaning of a sentence.\n",
    "\n",
    "We saw convolutional layers in action in LeNet5 in an earlier video:"
   ]
  },
  {
   "cell_type": "code",
   "execution_count": 3,
   "metadata": {},
   "outputs": [],
   "source": [
    "import torch.functional as F\n",
    "class LeNet(torch.nn.Module):\n",
    "    def __init__(self):\n",
    "        super(LeNet).__init__()\n",
    "        # 1 input image channel (black & white), 6 output channels, 3x3 square convolution\n",
    "        # kernel\n",
    "        self.conv1 = torch.nn.Conv2d(1, 6, 5)\n",
    "        self.conv2 = torch.nn.Conv2d(6, 16, 3)\n",
    "        # an affine operation: y = wx + b\n",
    "        self.fc1 = torch.nn.Linear(16, 6, 6, 120)\n",
    "        self.fc2 = torch.nn.Linear(120, 84)\n",
    "        self.fc3 = torch.nn.Linear(84, 10)\n",
    "\n",
    "    def forward(self, x):\n",
    "        # Max poling over (2, 2) window\n",
    "        x = F.max_pool2d(F.relu(self.conv1(x)), (2, 2))\n",
    "        # if the size is square you can only specify a single number only\n",
    "        x = F.max_pool2d(F.relu(self.conv2(x)), 2)\n",
    "        x = x.view(-1, self.num_flat_features(x))\n",
    "        x = F.relu(self.fc1(x))\n",
    "        x = F.relu(self.fc2(x))\n",
    "        x = self.fc3(x)\n",
    "        return x\n",
    "\n",
    "    def num_flat_features(self, x):\n",
    "        size = x.size()[1:] #all dimention except the batch dimention\n",
    "        num_feature = 1\n",
    "        for s in size:\n",
    "            num_feature *= s \n",
    "        return num_feature"
   ]
  },
  {
   "cell_type": "markdown",
   "metadata": {},
   "source": [
    "Let's break down what's happening in the convolutional layers of this model. Starting with `conv1`:\n",
    "\n",
    "* LeNet5 is meant to take in a 1x32x32 black & white image. **The first argument to a convolutional layer's constructor is the number of input channels.** Here, it is 1. If we were building this model to look at 3-color channels, it would be 3.\n",
    "* A convolutional layer is like a window that scans over the image, looking for a pattern it recognizes. These patterns are called *features,* and one of the parameters of a convolutional layer is the number of features we would like it to learn. **This is the second argument to the constructor is the number of output features.** Here, we're asking our layer to learn 6 features.\n",
    "* Just above, I likened the convolutional layer to a window - but how big is the window? **The third argument is the window or *kernel* size.** Here, the \"5\" means we've chosen a 5x5 kernel. (If you want a kernel with height different from width, you can specify a tuple for this argument - e.g., `(3, 5)` to get a 3x5 convolution kernel.)\n",
    "\n",
    "The output of a convolutional layer is an *activation map* - a spatial representation of the presence of features in the input tensor. `conv1` will give us an output tensor of 6x28x28; 6 is the number of features, and 28 is the height and width of our map. (The 28 comes from the fact that when scanning a 5-pixel window over a 32-pixel row, there are only 28 valid positions.)\n",
    "\n",
    "We then pass the output of the convolution through a ReLU activation function (more on activation functions later), then through a max pooling layer. The max pooling layer takes features near each other in the activation map and groups them together. It does this by reducing the tensor, merging every 2x2 group of cells in the output into a single cell, and assigning that cell the maximum value of the 4 cells that went into it. This gives us a lower-resolution version of the activation map, with dimensions 6x14x14.\n",
    "\n",
    "Our next convolutional layer, `conv2`, expects 6 input channels (corresponding to the 6 features sought by the first layer), has 16 output channels, and a 3x3 kernel. It puts out a 16x12x12 activation map, which is again reduced by a max pooling layer to 16x6x6. Prior to passing this output to the linear layers, it is reshaped to a 16 * 6 * 6 = 576-element vector for consumption by the next layer.\n",
    "\n",
    "There are convolutional layers for addressing 1D, 2D, and 3D tensors. There are also many more optional arguments for a conv layer constructor, including stride length(e.g., only scanning every second or every third position) in the input, padding (so you can scan out to the edges of the input), and more. See the [documentation](https://pytorch.org/docs/stable/nn.html#convolution-layers) for more information.\n",
    "\n",
    "### Recurrent Layers\n",
    "\n",
    "*Recurrent neural networks* (or *RNNs)* are used for sequential data - anything from time-series measurements from a scientific instrument to natural language sentences to DNA nucleotides. An RNN does this by maintaining a *hidden state* that acts as a sort of memory for what it has seen in the sequence so far.\n",
    "\n",
    "The internal structure of an RNN layer - or its variants, the LSTM (long short-term memory) and GRU (gated recurrent unit) - is moderately complex and beyond the scope of this video, but we'll show you what one looks like in action with an LSTM-based part-of-speech tagger (a type of classifier that tells you if a word is a noun, verb, etc.):"
   ]
  },
  {
   "cell_type": "code",
   "execution_count": 4,
   "metadata": {},
   "outputs": [],
   "source": [
    "class LSTMTagger(torch.nn.Module):\n",
    "    \n",
    "    def __init__(self, embedding_dim, hidden_dim, vocab_size, tagset_size):\n",
    "        super(self, LSTMTagger).__init__()\n",
    "        self.hidden_dim = hidden_dim\n",
    "        \n",
    "        self.word_embeddings = torch.nn.Embedding(vocab_size, embedding_dim)\n",
    "        \n",
    "        # The LSTM takes word embeddings as inputs, and outputs hidden states\n",
    "        # with dimensionality hidden_dim.\n",
    "        \n",
    "        self.lstm = torch.nn.LSTM(embedding_dim, hidden_dim)\n",
    "        \n",
    "        self.hidden2tag = torch.nn.Linear(hidden_dim, tagset_size)\n",
    "        \n",
    "        \n",
    "    def forward(self, sentence):\n",
    "        embeds = self.word_embeddings(sentence)\n",
    "        lstm_out, _ = self.lstm(embeds.view(len(sentence), 1, -1))\n",
    "        tag_space = self.hidden2tag(lstm_out.view(len(sentence), -1))\n",
    "        tag_scores = F.log_softmax(tag_space, dim=1)\n",
    "        return tag_scores\n",
    "\n"
   ]
  },
  {
   "cell_type": "markdown",
   "metadata": {},
   "source": [
    "The constructor has four arguments:\n",
    "\n",
    "* `vocab_size` is the number of words in the input vocabulary. Each word is a one-hot vector (or unit vector) in a `vocab_size`-dimensional space.\n",
    "* `tagset_size` is the number of tags in the output set.\n",
    "* `embedding_dim` is the size of the *embedding* space for the vocabulary. An embedding maps a vocabulary onto a low-dimensional space, where words with similar meanings are close together in the space.\n",
    "* `hidden_dim` is the size of the LSTM's memory.\n",
    "\n",
    "The input will be a sentence with the words represented as indices of of one-hot vectors. The embedding layer will then map these down to an `embedding_dim`-dimensional space. The LSTM takes this sequence of embeddings and iterates over it, fielding an output vector of length `hidden_dim`. The final linear layer acts as a classifier; applying `log_softmax()` to the output of the final layer converts the output into a normalized set of estimated probabilities that a given word maps to a given tag.\n",
    "\n",
    "If you'd like to see this network in action, check out the [Sequence Models and LSTM Networks](https://pytorch.org/tutorials/beginner/nlp/sequence_models_tutorial.html) tutorial on pytorch.org.\n",
    "\n",
    "### Transformers\n",
    "\n",
    "*Transformers* are multi-purpose networks that have taken over the state of the art in NLP with models like BERT. A discussion of transformer architecture is beyond the scope of this video, but PyTorch has a `Transformer` class that allows you to define the overall parameters of a transformer model - the number of attention heads, the number of encoder & decoder layers, dropout and activation functions, etc. (You can even build the BERT model from this single class, with the right parameters!) The `torch.nn.Transformer` class also has classes to encapsulate the individual components (`TransformerEncoder`, `TransformerDecoder`) and subcomponents (`TransformerEncoderLayer`, `TransformerDecoderLayer`). For details, check out the [documentation](https://pytorch.org/docs/stable/nn.html#transformer) on transformer classes, and the relevant [tutorial](https://pytorch.org/tutorials/beginner/transformer_tutorial.html) on pytorch.org.\n",
    "\n",
    "## Other Layers and Functions\n",
    "\n",
    "### Data Manipulation Layers\n",
    "\n",
    "There are other layer types that perform important functions in models, but don't participate in the learning process themselves.\n",
    "\n",
    "**Max pooling** (and its twin, min pooling) reduce a tensor by combining cells, and assigning the maximum value of the input cells to the output cell. (We saw this ) For example:"
   ]
  },
  {
   "cell_type": "code",
   "execution_count": 5,
   "metadata": {},
   "outputs": [
    {
     "name": "stdout",
     "output_type": "stream",
     "text": [
      "tensor([[[0.6404, 0.4354, 0.2916, 0.8392, 0.5157, 0.6144],\n",
      "         [0.6272, 0.2179, 0.2039, 0.8889, 0.5180, 0.8256],\n",
      "         [0.5870, 0.3062, 0.7736, 0.4529, 0.5456, 0.8644],\n",
      "         [0.6531, 0.7509, 0.4236, 0.5005, 0.7744, 0.3626],\n",
      "         [0.7458, 0.8819, 0.2179, 0.0872, 0.9677, 0.8798],\n",
      "         [0.1131, 0.7206, 0.4768, 0.4120, 0.8949, 0.6477]]])\n",
      "tensor([[[0.7736, 0.8889],\n",
      "         [0.8819, 0.9677]]])\n"
     ]
    }
   ],
   "source": [
    "my_tensor = torch.rand(1, 6, 6)\n",
    "print(my_tensor)\n",
    "\n",
    "maxpool_layer = torch.nn.MaxPool2d(3)\n",
    "print(maxpool_layer(my_tensor))"
   ]
  },
  {
   "cell_type": "markdown",
   "metadata": {},
   "source": [
    "If you look closely at the values above, you'll see that each of the values in the maxpooled output is the maximum value of each quadrant of the 6x6 input.\n",
    "\n",
    "**Normalization layers** re-center and normalize the output of one layer before feeding it to another. Centering the and scaling the intermediate tensors has a number of beneficial effects, such as letting you use higher learning rates without exploding/vanishing gradients."
   ]
  },
  {
   "cell_type": "code",
   "execution_count": 6,
   "metadata": {},
   "outputs": [
    {
     "name": "stdout",
     "output_type": "stream",
     "text": [
      "tensor([[[18.8651,  5.9708,  8.9541,  8.3353],\n",
      "         [10.7175, 20.5047, 14.4266, 11.5680],\n",
      "         [ 5.5616,  9.8781,  9.5372, 22.3252],\n",
      "         [15.2024, 23.1399, 10.0879, 24.8751]]])\n",
      "\n",
      "\n",
      "mean of my_tensor\n",
      " tensor(13.7469)\n",
      "\n",
      "Normalized Layer\n",
      " BatchNorm1d(4, eps=1e-05, momentum=0.1, affine=True, track_running_stats=True)\n",
      "\n",
      "Normalized_Tensor_mean\n",
      " tensor(7.4506e-09, grad_fn=<MeanBackward0>)\n"
     ]
    }
   ],
   "source": [
    "my_tensor = torch.rand(1, 4, 4) *20 +5 \n",
    "print(my_tensor)\n",
    "\n",
    "print(\"\\n\\nmean of my_tensor\\n\",my_tensor.mean())\n",
    "\n",
    "norm_layer = torch.nn.BatchNorm1d(4)\n",
    "print(\"\\nNormalized Layer\\n\",norm_layer)\n",
    "normed_tensor = norm_layer(my_tensor)\n",
    "print(\"\\nNormalized_Tensor_mean\\n\", normed_tensor.mean())"
   ]
  },
  {
   "cell_type": "markdown",
   "metadata": {},
   "source": [
    "Running the cell above, we've added a large scaling factor and offset to an input tensor; you should see the input tensor's `mean()` somewhere in the neighborhood of 15. After running it through the normalization layer, you can see that the values are smaller, and grouped around zero - in fact, the mean should be very small (> 1e-8).\n",
    "\n",
    "This is beneficial because many activation functions (discussed below) have their strongest gradients near 0, but sometimes suffer from vanishing or exploding gradients for inputs that drive them far away from zero. Keeping the data centered around the area of steepest gradient will tend to mean faster, better learning and higher feasible learning rates.\n",
    "\n",
    "**Dropout layers** are a tool for encouraging *sparse representations* in your model - that is, pushing it to do inference with less data.\n",
    "\n",
    "Dropout layers work by randomly setting parts of the input tensor *during training* - dropout layers are always turned off for inference. This forces the model to learn against this masked or reduced dataset. For example:"
   ]
  },
  {
   "cell_type": "markdown",
   "metadata": {},
   "source": [
    "In simple word dropout layer is a regularization technique used in neural networks to prevent or reduce overfitting. During training, it randomly sets a fraction of input units to zero. This helps prevent neurons from becoming overly reliant on each other and improves the generalization capability of the model by encouraging the network to learn more robust features.(when training goes down and down and learn more from too much layer its creat overfitting in model then use DropOut layer to reduce them)."
   ]
  },
  {
   "cell_type": "code",
   "execution_count": 7,
   "metadata": {},
   "outputs": [
    {
     "name": "stdout",
     "output_type": "stream",
     "text": [
      "tensor([[[0.0000, 0.0000, 1.6501, 0.0000],\n",
      "         [0.6219, 1.3555, 0.0000, 0.0000],\n",
      "         [0.0000, 0.0000, 1.1191, 0.3354],\n",
      "         [1.3145, 0.8171, 0.9180, 0.0000]]])\n",
      "tensor([[[0.1338, 0.0000, 0.0000, 0.7366],\n",
      "         [0.6219, 1.3555, 0.0178, 0.0000],\n",
      "         [1.3602, 1.0022, 1.1191, 0.3354],\n",
      "         [1.3145, 0.0000, 0.9180, 0.9405]]])\n"
     ]
    }
   ],
   "source": [
    "my_tensor = torch.rand(1, 4, 4)\n",
    "\n",
    "dropout = torch.nn.Dropout(p=0.4)\n",
    "\n",
    "print(dropout(my_tensor))\n",
    "print(dropout(my_tensor))"
   ]
  },
  {
   "cell_type": "markdown",
   "metadata": {},
   "source": [
    "Above, you can see the effect of dropout on a sample tensor. You can use the optional `p` argument to set the probability of an individual weight dropping out; if you don't it defaults to 0.5.\n",
    "\n",
    "### Activation Functions\n",
    "\n",
    "Activation functions make deep learning possible. A neural network is really a program - with many parameters - that *simulates a mathematical function*. If all we did was multiple tensors by layer weights repeatedly, we could only simulate *linear functions;* further, there would be no point to having many layers, as the whole network would reduce could be reduced to a single matrix multiplication. Inserting *non-linear* activation functions between layers is what allows a deep learning model to simulate any function, rather than just linear ones.\n",
    "\n",
    "`torch.nn.Module` has objects encapsulating all of the major activation functions including ReLU and its many variants, Tanh, Hardtanh, sigmoid, and more. It also includes other functions, such as Softmax, that are most useful at the output stage of a model.\n",
    "\n",
    "### Loss Functions\n",
    "\n",
    "Loss functions tell us how far a model's prediction is from the correct answer. PyTorch contains a variety of loss functions, including common MSE (mean squared error = L2 norm), Cross Entropy Loss and Negative Likelihood Loss (useful for classifiers), and others."
   ]
  },
  {
   "cell_type": "markdown",
   "metadata": {},
   "source": [
    "## Advanced: Replacing Layers"
   ]
  },
  {
   "cell_type": "code",
   "execution_count": null,
   "metadata": {},
   "outputs": [],
   "source": []
  }
 ],
 "metadata": {
  "kernelspec": {
   "display_name": "Python 3.10.12 64-bit",
   "language": "python",
   "name": "python3"
  },
  "language_info": {
   "codemirror_mode": {
    "name": "ipython",
    "version": 3
   },
   "file_extension": ".py",
   "mimetype": "text/x-python",
   "name": "python",
   "nbconvert_exporter": "python",
   "pygments_lexer": "ipython3",
   "version": "3.10.12"
  },
  "orig_nbformat": 4,
  "vscode": {
   "interpreter": {
    "hash": "916dbcbb3f70747c44a77c7bcd40155683ae19c65e1c03b4aa3499c5328201f1"
   }
  }
 },
 "nbformat": 4,
 "nbformat_minor": 2
}
