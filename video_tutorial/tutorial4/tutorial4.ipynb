{
 "cells": [
  {
   "cell_type": "markdown",
   "metadata": {},
   "source": [
    "# Building Models in PyTorch\n",
    "\n",
    "\n",
    "## `torch.nn.Module` and `torch.nn.Parameter`\n",
    "\n",
    "In this video, we'll be discussing some of the tools PyTorch makes available for building deep learning networks.\n",
    "\n",
    "Except for `Parameter`, the classes we discuss in this video are all subclasses of `torch.nn.Module`. This is the PyTorch base class meant to encapsulate behaviors specific to PyTorch Models and their components.\n",
    "\n",
    "One important behavior of `torch.nn.Module` is registering parameters. If a particular `Module` subclass has learning weights, these weights are expressed as instances of `torch.nn.Parameter`. The `Parameter` class is a subclass of `torch.Tensor`, with the special behavior that when they are assigned as attributes of a `Module`, they are added to the list of that modules parameters. These parameters may be accessed through the `parameters()` method on the `Module` class.\n",
    "\n",
    "As a simple example, here's a very simple model with two linear layers and an activation function. We'll create an instance of it and ask it to report on its parameters:"
   ]
  },
  {
   "cell_type": "code",
   "execution_count": 1,
   "metadata": {},
   "outputs": [
    {
     "name": "stdout",
     "output_type": "stream",
     "text": [
      "The model:\n",
      "TinayModel(\n",
      "  (linear1): Linear(in_features=100, out_features=200, bias=True)\n",
      "  (activation): ReLU()\n",
      "  (linear2): Linear(in_features=200, out_features=10, bias=True)\n",
      "  (softmax): Softmax(dim=None)\n",
      ")\n",
      "\n",
      "\n",
      " just one layer\n",
      "Linear(in_features=100, out_features=200, bias=True)\n",
      "\n",
      "\n",
      "param layer1\n",
      "Parameter containing:\n",
      "tensor([[-0.0855, -0.0029,  0.0253,  ..., -0.0939,  0.0814, -0.0884],\n",
      "        [-0.0438, -0.0637,  0.0768,  ...,  0.0283, -0.0046, -0.0780],\n",
      "        [ 0.0952,  0.0853,  0.0952,  ...,  0.0460, -0.0425, -0.0407],\n",
      "        ...,\n",
      "        [-0.0177,  0.0946, -0.0075,  ...,  0.0183, -0.0209, -0.0941],\n",
      "        [-0.0125,  0.0704, -0.0408,  ..., -0.0120, -0.0403, -0.0317],\n",
      "        [-0.0626, -0.0268,  0.0822,  ...,  0.0988,  0.0931, -0.0844]],\n",
      "       requires_grad=True)\n",
      "Parameter containing:\n",
      "tensor([ 0.0095,  0.0579, -0.0209, -0.0884, -0.0072,  0.0194, -0.0611,  0.0473,\n",
      "         0.0997,  0.0332,  0.0259,  0.0493,  0.0011, -0.0729, -0.0281, -0.0833,\n",
      "        -0.0776, -0.0243, -0.0782,  0.0599,  0.0197,  0.0427, -0.0442,  0.0561,\n",
      "        -0.0421, -0.0073,  0.0692, -0.0505, -0.0792, -0.0881, -0.0836,  0.0817,\n",
      "         0.0642,  0.0215,  0.0180, -0.0297, -0.0347, -0.0398, -0.0873, -0.0992,\n",
      "         0.0101, -0.0970,  0.0118,  0.0814, -0.0680, -0.0316,  0.0044, -0.0768,\n",
      "         0.0121,  0.0316, -0.0010,  0.0812, -0.0839,  0.0229,  0.0998,  0.0421,\n",
      "         0.0653,  0.0886, -0.0126,  0.0361, -0.0942,  0.0310, -0.0477, -0.0315,\n",
      "        -0.0188,  0.0950,  0.0095,  0.0737,  0.0575,  0.0583,  0.0168, -0.0522,\n",
      "         0.0718, -0.0059,  0.0276,  0.0465, -0.0744, -0.0831, -0.0722, -0.0380,\n",
      "         0.0084,  0.0813,  0.0382, -0.0528,  0.0053, -0.0336,  0.0112,  0.0824,\n",
      "         0.0078,  0.0912,  0.0598, -0.0001, -0.0700, -0.0889, -0.0663, -0.0210,\n",
      "         0.0106, -0.0474,  0.0584,  0.0801,  0.0015, -0.0752,  0.0453, -0.0278,\n",
      "        -0.0095,  0.0229, -0.0646,  0.0505, -0.0395,  0.0717, -0.0892,  0.0932,\n",
      "        -0.0833, -0.0815, -0.0861,  0.0836, -0.0828, -0.0095,  0.0255,  0.0873,\n",
      "        -0.0141, -0.0506, -0.0430, -0.0330,  0.0345,  0.0880, -0.0331, -0.0297,\n",
      "        -0.0726,  0.0114, -0.0781, -0.0281, -0.0747,  0.0697,  0.0204,  0.0976,\n",
      "        -0.0995,  0.0373, -0.0945, -0.0198,  0.0293,  0.0865, -0.0982, -0.0848,\n",
      "         0.0736,  0.0354,  0.0270, -0.0885,  0.0394,  0.0653,  0.0135,  0.0581,\n",
      "        -0.0134, -0.0997,  0.0531,  0.0336,  0.0664,  0.0862, -0.0134,  0.0189,\n",
      "         0.0135, -0.0605, -0.0300, -0.0217, -0.0351,  0.0892,  0.0892, -0.0652,\n",
      "        -0.0997, -0.0771, -0.0256, -0.0334,  0.0249, -0.0554,  0.0358,  0.0697,\n",
      "         0.0808,  0.0932,  0.0475,  0.0552,  0.0294,  0.0002,  0.0601,  0.0688,\n",
      "        -0.0467,  0.0237, -0.0519,  0.0884, -0.0873,  0.0880, -0.0592,  0.0501,\n",
      "         0.0782, -0.0905, -0.0934, -0.0250, -0.0469,  0.0144, -0.0874,  0.0203],\n",
      "       requires_grad=True)\n",
      "\n",
      "\n",
      "parm layer 2\n",
      "Parameter containing:\n",
      "tensor([[ 0.0437,  0.0044,  0.0091,  ..., -0.0668,  0.0109,  0.0433],\n",
      "        [-0.0282, -0.0185,  0.0172,  ..., -0.0437, -0.0653, -0.0580],\n",
      "        [ 0.0489,  0.0176,  0.0059,  ...,  0.0212,  0.0138,  0.0216],\n",
      "        ...,\n",
      "        [ 0.0470, -0.0018,  0.0528,  ..., -0.0596,  0.0125,  0.0623],\n",
      "        [-0.0321,  0.0675, -0.0396,  ...,  0.0504,  0.0302, -0.0389],\n",
      "        [ 0.0304, -0.0276, -0.0581,  ...,  0.0374,  0.0622, -0.0039]],\n",
      "       requires_grad=True)\n",
      "Parameter containing:\n",
      "tensor([ 0.0110,  0.0511,  0.0226,  0.0273,  0.0046,  0.0411,  0.0508,  0.0336,\n",
      "        -0.0436,  0.0488], requires_grad=True)\n",
      "\n",
      "\n",
      " model params\n",
      "Parameter containing:\n",
      "tensor([[-0.0855, -0.0029,  0.0253,  ..., -0.0939,  0.0814, -0.0884],\n",
      "        [-0.0438, -0.0637,  0.0768,  ...,  0.0283, -0.0046, -0.0780],\n",
      "        [ 0.0952,  0.0853,  0.0952,  ...,  0.0460, -0.0425, -0.0407],\n",
      "        ...,\n",
      "        [-0.0177,  0.0946, -0.0075,  ...,  0.0183, -0.0209, -0.0941],\n",
      "        [-0.0125,  0.0704, -0.0408,  ..., -0.0120, -0.0403, -0.0317],\n",
      "        [-0.0626, -0.0268,  0.0822,  ...,  0.0988,  0.0931, -0.0844]],\n",
      "       requires_grad=True)\n",
      "Parameter containing:\n",
      "tensor([ 0.0095,  0.0579, -0.0209, -0.0884, -0.0072,  0.0194, -0.0611,  0.0473,\n",
      "         0.0997,  0.0332,  0.0259,  0.0493,  0.0011, -0.0729, -0.0281, -0.0833,\n",
      "        -0.0776, -0.0243, -0.0782,  0.0599,  0.0197,  0.0427, -0.0442,  0.0561,\n",
      "        -0.0421, -0.0073,  0.0692, -0.0505, -0.0792, -0.0881, -0.0836,  0.0817,\n",
      "         0.0642,  0.0215,  0.0180, -0.0297, -0.0347, -0.0398, -0.0873, -0.0992,\n",
      "         0.0101, -0.0970,  0.0118,  0.0814, -0.0680, -0.0316,  0.0044, -0.0768,\n",
      "         0.0121,  0.0316, -0.0010,  0.0812, -0.0839,  0.0229,  0.0998,  0.0421,\n",
      "         0.0653,  0.0886, -0.0126,  0.0361, -0.0942,  0.0310, -0.0477, -0.0315,\n",
      "        -0.0188,  0.0950,  0.0095,  0.0737,  0.0575,  0.0583,  0.0168, -0.0522,\n",
      "         0.0718, -0.0059,  0.0276,  0.0465, -0.0744, -0.0831, -0.0722, -0.0380,\n",
      "         0.0084,  0.0813,  0.0382, -0.0528,  0.0053, -0.0336,  0.0112,  0.0824,\n",
      "         0.0078,  0.0912,  0.0598, -0.0001, -0.0700, -0.0889, -0.0663, -0.0210,\n",
      "         0.0106, -0.0474,  0.0584,  0.0801,  0.0015, -0.0752,  0.0453, -0.0278,\n",
      "        -0.0095,  0.0229, -0.0646,  0.0505, -0.0395,  0.0717, -0.0892,  0.0932,\n",
      "        -0.0833, -0.0815, -0.0861,  0.0836, -0.0828, -0.0095,  0.0255,  0.0873,\n",
      "        -0.0141, -0.0506, -0.0430, -0.0330,  0.0345,  0.0880, -0.0331, -0.0297,\n",
      "        -0.0726,  0.0114, -0.0781, -0.0281, -0.0747,  0.0697,  0.0204,  0.0976,\n",
      "        -0.0995,  0.0373, -0.0945, -0.0198,  0.0293,  0.0865, -0.0982, -0.0848,\n",
      "         0.0736,  0.0354,  0.0270, -0.0885,  0.0394,  0.0653,  0.0135,  0.0581,\n",
      "        -0.0134, -0.0997,  0.0531,  0.0336,  0.0664,  0.0862, -0.0134,  0.0189,\n",
      "         0.0135, -0.0605, -0.0300, -0.0217, -0.0351,  0.0892,  0.0892, -0.0652,\n",
      "        -0.0997, -0.0771, -0.0256, -0.0334,  0.0249, -0.0554,  0.0358,  0.0697,\n",
      "         0.0808,  0.0932,  0.0475,  0.0552,  0.0294,  0.0002,  0.0601,  0.0688,\n",
      "        -0.0467,  0.0237, -0.0519,  0.0884, -0.0873,  0.0880, -0.0592,  0.0501,\n",
      "         0.0782, -0.0905, -0.0934, -0.0250, -0.0469,  0.0144, -0.0874,  0.0203],\n",
      "       requires_grad=True)\n",
      "Parameter containing:\n",
      "tensor([[ 0.0437,  0.0044,  0.0091,  ..., -0.0668,  0.0109,  0.0433],\n",
      "        [-0.0282, -0.0185,  0.0172,  ..., -0.0437, -0.0653, -0.0580],\n",
      "        [ 0.0489,  0.0176,  0.0059,  ...,  0.0212,  0.0138,  0.0216],\n",
      "        ...,\n",
      "        [ 0.0470, -0.0018,  0.0528,  ..., -0.0596,  0.0125,  0.0623],\n",
      "        [-0.0321,  0.0675, -0.0396,  ...,  0.0504,  0.0302, -0.0389],\n",
      "        [ 0.0304, -0.0276, -0.0581,  ...,  0.0374,  0.0622, -0.0039]],\n",
      "       requires_grad=True)\n",
      "Parameter containing:\n",
      "tensor([ 0.0110,  0.0511,  0.0226,  0.0273,  0.0046,  0.0411,  0.0508,  0.0336,\n",
      "        -0.0436,  0.0488], requires_grad=True)\n"
     ]
    }
   ],
   "source": [
    "import torch\n",
    "\n",
    "class TinayModel(torch.nn.Module):\n",
    "    def __init__(self):\n",
    "        super(TinayModel, self).__init__()\n",
    "        \n",
    "        self.linear1 = torch.nn.Linear(100,200)\n",
    "        self.activation = torch.nn.ReLU()\n",
    "        self.linear2 = torch.nn.Linear(200, 10)\n",
    "        self.softmax = torch.nn.Softmax()\n",
    "        \n",
    "    def forward(self, x):\n",
    "        x = self.linear1(x)\n",
    "        x = self.activation(x)\n",
    "        x = self.linear2(x)\n",
    "        x = self.softmax(x)\n",
    "        return x\n",
    "        \n",
    "tinaymodel = TinayModel()\n",
    "\n",
    "print(\"The model:\")\n",
    "print(tinaymodel)\n",
    "\n",
    "print('\\n\\n just one layer')\n",
    "print(tinaymodel.linear1)\n",
    "\n",
    "print('\\n\\nparam layer1')\n",
    "for param in tinaymodel.linear1.parameters():\n",
    "    print(param)\n",
    "\n",
    "\n",
    "print('\\n\\nparm layer 2')    \n",
    "for param in tinaymodel.linear2.parameters():\n",
    "    print(param)\n",
    "\n",
    "print('\\n\\n model params')\n",
    "for param in tinaymodel.parameters():\n",
    "    print(param)\n"
   ]
  },
  {
   "cell_type": "markdown",
   "metadata": {},
   "source": [
    "This shows the fundamental structure of a PyTorch model: there is an `__init__()` method that defines the layers and other components of a model, and a `forward()` method where the computation gets done. Note that we can print the model, or any of its submodules, to learn about its structure.\n",
    "\n",
    "## Common Layer Types\n",
    "\n",
    "### Linear Layers\n",
    "\n",
    "The most basic type of neural network layer is a *linear* or *fully connected* layer. This is a layer where every input influences every output of the layer to a degree specified by the layer's weights. If a model has *m* inputs and *n* outputs, the weights will be an *m * n* matrix. For example:"
   ]
  },
  {
   "cell_type": "code",
   "execution_count": 2,
   "metadata": {},
   "outputs": [
    {
     "name": "stdout",
     "output_type": "stream",
     "text": [
      "Input\n",
      "tensor([[0.5097, 0.1282, 0.9217]])\n",
      "Linear(in_features=3, out_features=2, bias=True)\n",
      "\n",
      "\n",
      "Weight & Bias parameters\n",
      "Parameter containing:\n",
      "tensor([[-0.3238, -0.0041,  0.5156],\n",
      "        [-0.2966, -0.5564, -0.4761]], requires_grad=True)\n",
      "Parameter containing:\n",
      "tensor([ 0.1653, -0.1886], requires_grad=True)\n",
      "\n",
      "\n",
      "No_Output\n",
      "tensor([[ 0.4750, -0.8500]], grad_fn=<AddmmBackward0>)\n"
     ]
    }
   ],
   "source": [
    "lin = torch.nn.Linear(3,2)\n",
    "x = torch.rand(1,3)\n",
    "print('Input')\n",
    "print(x)\n",
    "print(lin)\n",
    "\n",
    "print('\\n\\nWeight & Bias parameters')\n",
    "for param in lin.parameters():\n",
    "    print(param)\n",
    "\n",
    "\n",
    "y = lin(x)\n",
    "print('\\n\\nNo_Output')\n",
    "print(y)"
   ]
  },
  {
   "cell_type": "markdown",
   "metadata": {},
   "source": [
    "If you do the matrix multiplication of `x` by the linear layer's weights, and add the biases, you'll find that you get the output vector `y`.\n",
    "\n",
    "One other important feature to note: When we checked the weights of our layer with `lin.weight`, it reported itself as a `Parameter` (which is a subclass of `Tensor`), and let us know that it's tracking gradients with autograd. This is a default behavior for `Parameter` that differs from `Tensor`.\n",
    "\n",
    "Linear layers are used widely in deep learning models. One of the most common places you'll see them is in classifier models, which will usually have one or more linear layers at the end, where the last layer will have *n* outputs, where *n* is the number of classes the classifier addresses.\n",
    "\n",
    "### Convolutional Layers\n",
    "\n",
    "*Convolutional* layers are built to handle data with a high degree of spatial correlation. They are very commonly used in computer vision, where they detect close groupings of features which the compose into higher-level features. They pop up in other contexts too - for example, in NLP applications, where the a word's immediate context (that is, the other words nearby in the sequence) can affect the meaning of a sentence.\n",
    "\n",
    "We saw convolutional layers in action in LeNet5 in an earlier video:"
   ]
  },
  {
   "cell_type": "code",
   "execution_count": 3,
   "metadata": {},
   "outputs": [],
   "source": [
    "import torch.functional as F\n",
    "class LeNet(torch.nn.Module):\n",
    "    def __init__(self):\n",
    "        super(LeNet).__init__()\n",
    "        # 1 input image channel (black & white), 6 output channels, 3x3 square convolution\n",
    "        # kernel\n",
    "        self.conv1 = torch.nn.Conv2d(1, 6, 5)\n",
    "        self.conv2 = torch.nn.Conv2d(6, 16, 3)\n",
    "        # an affine operation: y = wx + b\n",
    "        self.fc1 = torch.nn.Linear(16, 6, 6, 120)\n",
    "        self.fc2 = torch.nn.Linear(120, 84)\n",
    "        self.fc3 = torch.nn.Linear(84, 10)\n",
    "\n",
    "    def forward(self, x):\n",
    "        # Max poling over (2, 2) window\n",
    "        x = F.max_pool2d(F.relu(self.conv1(x)), (2, 2))\n",
    "        # if the size is square you can only specify a single number only\n",
    "        x = F.max_pool2d(F.relu(self.conv2(x)), 2)\n",
    "        x = x.view(-1, self.num_flat_features(x))\n",
    "        x = F.relu(self.fc1(x))\n",
    "        x = F.relu(self.fc2(x))\n",
    "        x = self.fc3(x)\n",
    "        return x\n",
    "\n",
    "    def num_flat_features(self, x):\n",
    "        size = x.size()[1:] #all dimention except the batch dimention\n",
    "        num_feature = 1\n",
    "        for s in size:\n",
    "            num_feature *= s \n",
    "        return num_feature"
   ]
  },
  {
   "cell_type": "markdown",
   "metadata": {},
   "source": [
    "Let's break down what's happening in the convolutional layers of this model. Starting with `conv1`:\n",
    "\n",
    "* LeNet5 is meant to take in a 1x32x32 black & white image. **The first argument to a convolutional layer's constructor is the number of input channels.** Here, it is 1. If we were building this model to look at 3-color channels, it would be 3.\n",
    "* A convolutional layer is like a window that scans over the image, looking for a pattern it recognizes. These patterns are called *features,* and one of the parameters of a convolutional layer is the number of features we would like it to learn. **This is the second argument to the constructor is the number of output features.** Here, we're asking our layer to learn 6 features.\n",
    "* Just above, I likened the convolutional layer to a window - but how big is the window? **The third argument is the window or *kernel* size.** Here, the \"5\" means we've chosen a 5x5 kernel. (If you want a kernel with height different from width, you can specify a tuple for this argument - e.g., `(3, 5)` to get a 3x5 convolution kernel.)\n",
    "\n",
    "The output of a convolutional layer is an *activation map* - a spatial representation of the presence of features in the input tensor. `conv1` will give us an output tensor of 6x28x28; 6 is the number of features, and 28 is the height and width of our map. (The 28 comes from the fact that when scanning a 5-pixel window over a 32-pixel row, there are only 28 valid positions.)\n",
    "\n",
    "We then pass the output of the convolution through a ReLU activation function (more on activation functions later), then through a max pooling layer. The max pooling layer takes features near each other in the activation map and groups them together. It does this by reducing the tensor, merging every 2x2 group of cells in the output into a single cell, and assigning that cell the maximum value of the 4 cells that went into it. This gives us a lower-resolution version of the activation map, with dimensions 6x14x14.\n",
    "\n",
    "Our next convolutional layer, `conv2`, expects 6 input channels (corresponding to the 6 features sought by the first layer), has 16 output channels, and a 3x3 kernel. It puts out a 16x12x12 activation map, which is again reduced by a max pooling layer to 16x6x6. Prior to passing this output to the linear layers, it is reshaped to a 16 * 6 * 6 = 576-element vector for consumption by the next layer.\n",
    "\n",
    "There are convolutional layers for addressing 1D, 2D, and 3D tensors. There are also many more optional arguments for a conv layer constructor, including stride length(e.g., only scanning every second or every third position) in the input, padding (so you can scan out to the edges of the input), and more. See the [documentation](https://pytorch.org/docs/stable/nn.html#convolution-layers) for more information.\n",
    "\n",
    "### Recurrent Layers\n",
    "\n",
    "*Recurrent neural networks* (or *RNNs)* are used for sequential data - anything from time-series measurements from a scientific instrument to natural language sentences to DNA nucleotides. An RNN does this by maintaining a *hidden state* that acts as a sort of memory for what it has seen in the sequence so far.\n",
    "\n",
    "The internal structure of an RNN layer - or its variants, the LSTM (long short-term memory) and GRU (gated recurrent unit) - is moderately complex and beyond the scope of this video, but we'll show you what one looks like in action with an LSTM-based part-of-speech tagger (a type of classifier that tells you if a word is a noun, verb, etc.):"
   ]
  },
  {
   "cell_type": "code",
   "execution_count": 4,
   "metadata": {},
   "outputs": [],
   "source": [
    "class LSTMTagger(torch.nn.Module):\n",
    "    \n",
    "    def __init__(self, embedding_dim, hidden_dim, vocab_size, tagset_size):\n",
    "        super(self, LSTMTagger).__init__()\n",
    "        self.hidden_dim = hidden_dim\n",
    "        \n",
    "        self.word_embeddings = torch.nn.Embedding(vocab_size, embedding_dim)\n",
    "        \n",
    "        # The LSTM takes word embeddings as inputs, and outputs hidden states\n",
    "        # with dimensionality hidden_dim.\n",
    "        \n",
    "        self.lstm = torch.nn.LSTM(embedding_dim, hidden_dim)\n",
    "        \n",
    "        self.hidden2tag = torch.nn.Linear(hidden_dim, tagset_size)\n",
    "        \n",
    "        \n",
    "    def forward(self, sentence):\n",
    "        embeds = self.word_embeddings(sentence)\n",
    "        lstm_out, _ = self.lstm(embeds.view(len(sentence), 1, -1))\n",
    "        tag_space = self.hidden2tag(lstm_out.view(len(sentence), -1))\n",
    "        tag_scores = F.log_softmax(tag_space, dim=1)\n",
    "        return tag_scores\n",
    "\n"
   ]
  },
  {
   "cell_type": "markdown",
   "metadata": {},
   "source": [
    "The constructor has four arguments:\n",
    "\n",
    "* `vocab_size` is the number of words in the input vocabulary. Each word is a one-hot vector (or unit vector) in a `vocab_size`-dimensional space.\n",
    "* `tagset_size` is the number of tags in the output set.\n",
    "* `embedding_dim` is the size of the *embedding* space for the vocabulary. An embedding maps a vocabulary onto a low-dimensional space, where words with similar meanings are close together in the space.\n",
    "* `hidden_dim` is the size of the LSTM's memory.\n",
    "\n",
    "The input will be a sentence with the words represented as indices of of one-hot vectors. The embedding layer will then map these down to an `embedding_dim`-dimensional space. The LSTM takes this sequence of embeddings and iterates over it, fielding an output vector of length `hidden_dim`. The final linear layer acts as a classifier; applying `log_softmax()` to the output of the final layer converts the output into a normalized set of estimated probabilities that a given word maps to a given tag.\n",
    "\n",
    "If you'd like to see this network in action, check out the [Sequence Models and LSTM Networks](https://pytorch.org/tutorials/beginner/nlp/sequence_models_tutorial.html) tutorial on pytorch.org.\n",
    "\n",
    "### Transformers\n",
    "\n",
    "*Transformers* are multi-purpose networks that have taken over the state of the art in NLP with models like BERT. A discussion of transformer architecture is beyond the scope of this video, but PyTorch has a `Transformer` class that allows you to define the overall parameters of a transformer model - the number of attention heads, the number of encoder & decoder layers, dropout and activation functions, etc. (You can even build the BERT model from this single class, with the right parameters!) The `torch.nn.Transformer` class also has classes to encapsulate the individual components (`TransformerEncoder`, `TransformerDecoder`) and subcomponents (`TransformerEncoderLayer`, `TransformerDecoderLayer`). For details, check out the [documentation](https://pytorch.org/docs/stable/nn.html#transformer) on transformer classes, and the relevant [tutorial](https://pytorch.org/tutorials/beginner/transformer_tutorial.html) on pytorch.org.\n",
    "\n",
    "## Other Layers and Functions\n",
    "\n",
    "### Data Manipulation Layers\n",
    "\n",
    "There are other layer types that perform important functions in models, but don't participate in the learning process themselves.\n",
    "\n",
    "**Max pooling** (and its twin, min pooling) reduce a tensor by combining cells, and assigning the maximum value of the input cells to the output cell. (We saw this ) For example:"
   ]
  },
  {
   "cell_type": "code",
   "execution_count": 33,
   "metadata": {},
   "outputs": [
    {
     "name": "stdout",
     "output_type": "stream",
     "text": [
      "tensor([[[0.2892, 0.1665, 0.1140, 0.4794, 0.5628, 0.6632],\n",
      "         [0.6335, 0.1639, 0.5171, 0.1093, 0.1381, 0.6410],\n",
      "         [0.7454, 0.8607, 0.7926, 0.4205, 0.7282, 0.1070],\n",
      "         [0.0220, 0.3010, 0.9964, 0.8769, 0.9776, 0.7294],\n",
      "         [0.1694, 0.2115, 0.1313, 0.7107, 0.0401, 0.3821],\n",
      "         [0.0164, 0.4264, 0.9966, 0.9681, 0.8893, 0.7154]]])\n",
      "tensor([[[0.8607, 0.7282],\n",
      "         [0.9966, 0.9776]]])\n"
     ]
    }
   ],
   "source": [
    "my_tensor = torch.rand(1, 6, 6)\n",
    "print(my_tensor)\n",
    "\n",
    "maxpool_layer = torch.nn.MaxPool2d(3)\n",
    "print(maxpool_layer(my_tensor))"
   ]
  },
  {
   "cell_type": "markdown",
   "metadata": {},
   "source": [
    "If you look closely at the values above, you'll see that each of the values in the maxpooled output is the maximum value of each quadrant of the 6x6 input.\n",
    "\n",
    "**Normalization layers** re-center and normalize the output of one layer before feeding it to another. Centering the and scaling the intermediate tensors has a number of beneficial effects, such as letting you use higher learning rates without exploding/vanishing gradients."
   ]
  },
  {
   "cell_type": "code",
   "execution_count": 42,
   "metadata": {},
   "outputs": [
    {
     "name": "stdout",
     "output_type": "stream",
     "text": [
      "tensor([[[22.6937, 20.4666,  8.0378, 17.5481],\n",
      "         [ 5.6362, 22.6103, 15.1866, 23.5676],\n",
      "         [23.8977, 14.3748, 17.5450,  5.7225],\n",
      "         [15.9293, 22.0418, 21.1313,  9.7707]]])\n",
      "\n",
      " mean of tensor \n",
      " tensor(16.6350)\n",
      "\n",
      " Normalized layer\n",
      " BatchNorm1d(4, eps=1e-05, momentum=0.1, affine=True, track_running_stats=True)\n",
      "\n",
      " Normalized tensor mean\n",
      " tensor(-3.7253e-09, grad_fn=<MeanBackward0>)\n"
     ]
    }
   ],
   "source": [
    "my_tensor = torch.rand(1, 4, 4) *20 +5 \n",
    "print(my_tensor)\n",
    "\n",
    "print(\"\\n\\nmean of my_tensor\\n\",my_tensor.mean())\n",
    "\n",
    "norm_layer = torch.nn.BatchNorm1d(4)\n",
    "print(\"\\nNormalized Layer\\n\",norm_layer)\n",
    "normed_tensor = norm_layer(my_tensor)\n",
    "print(\"\\nNormalized_Tensor_mean\\n\", normed_tensor.mean())"
   ]
  },
  {
   "cell_type": "markdown",
   "metadata": {},
   "source": [
    "Running the cell above, we've added a large scaling factor and offset to an input tensor; you should see the input tensor's `mean()` somewhere in the neighborhood of 15. After running it through the normalization layer, you can see that the values are smaller, and grouped around zero - in fact, the mean should be very small (> 1e-8).\n",
    "\n",
    "This is beneficial because many activation functions (discussed below) have their strongest gradients near 0, but sometimes suffer from vanishing or exploding gradients for inputs that drive them far away from zero. Keeping the data centered around the area of steepest gradient will tend to mean faster, better learning and higher feasible learning rates.\n",
    "\n",
    "**Dropout layers** are a tool for encouraging *sparse representations* in your model - that is, pushing it to do inference with less data.\n",
    "\n",
    "Dropout layers work by randomly setting parts of the input tensor *during training* - dropout layers are always turned off for inference. This forces the model to learn against this masked or reduced dataset. For example:"
   ]
  },
  {
   "cell_type": "markdown",
   "metadata": {},
   "source": [
    "In simple word dropout layer is a regularization technique used in neural networks to prevent or reduce overfitting. During training, it randomly sets a fraction of input units to zero. This helps prevent neurons from becoming overly reliant on each other and improves the generalization capability of the model by encouraging the network to learn more robust features.(when training goes down and down and learn more from too much layer its creat overfitting in model then use DropOut layer to reduce them)."
   ]
  },
  {
   "cell_type": "code",
   "execution_count": 7,
   "metadata": {},
   "outputs": [
    {
     "name": "stdout",
     "output_type": "stream",
     "text": [
      "tensor([[[0.0000, 0.0000, 0.4410, 0.0000],\n",
      "         [1.1268, 0.0000, 0.0528, 0.0000],\n",
      "         [0.0000, 0.0000, 0.0000, 0.0000],\n",
      "         [0.0000, 0.0000, 0.0000, 0.0000]]])\n",
      "tensor([[[1.3410e+00, 0.0000e+00, 0.0000e+00, 0.0000e+00],\n",
      "         [1.1268e+00, 1.6332e+00, 5.2780e-02, 0.0000e+00],\n",
      "         [1.1669e-03, 1.5275e+00, 0.0000e+00, 3.1270e-02],\n",
      "         [1.2667e+00, 1.5255e+00, 1.0280e+00, 6.2125e-01]]])\n"
     ]
    }
   ],
   "source": [
    "my_tensor = torch.rand(1, 4, 4)\n",
    "\n",
    "dropout = torch.nn.Dropout(p=0.4)\n",
    "\n",
    "print(dropout(my_tensor))\n",
    "print(dropout(my_tensor))"
   ]
  },
  {
   "cell_type": "markdown",
   "metadata": {},
   "source": [
    "Above, you can see the effect of dropout on a sample tensor. You can use the optional `p` argument to set the probability of an individual weight dropping out; if you don't it defaults to 0.5.\n",
    "\n",
    "### Activation Functions\n",
    "\n",
    "Activation functions make deep learning possible. A neural network is really a program - with many parameters - that *simulates a mathematical function*. If all we did was multiple tensors by layer weights repeatedly, we could only simulate *linear functions;* further, there would be no point to having many layers, as the whole network would reduce could be reduced to a single matrix multiplication. Inserting *non-linear* activation functions between layers is what allows a deep learning model to simulate any function, rather than just linear ones.\n",
    "\n",
    "`torch.nn.Module` has objects encapsulating all of the major activation functions including ReLU and its many variants, Tanh, Hardtanh, sigmoid, and more. It also includes other functions, such as Softmax, that are most useful at the output stage of a model.\n",
    "\n",
    "### Loss Functions\n",
    "\n",
    "Loss functions tell us how far a model's prediction is from the correct answer. PyTorch contains a variety of loss functions, including common MSE (mean squared error = L2 norm), Cross Entropy Loss and Negative Likelihood Loss (useful for classifiers), and others."
   ]
  },
  {
   "cell_type": "markdown",
   "metadata": {},
   "source": [
    "## Advanced: Replacing Layers"
   ]
  },
  {
   "cell_type": "code",
   "execution_count": null,
   "metadata": {},
   "outputs": [],
   "source": []
  }
 ],
 "metadata": {
  "kernelspec": {
   "display_name": "Python 3.10.12 64-bit",
   "language": "python",
   "name": "python3"
  },
  "language_info": {
   "codemirror_mode": {
    "name": "ipython",
    "version": 3
   },
   "file_extension": ".py",
   "mimetype": "text/x-python",
   "name": "python",
   "nbconvert_exporter": "python",
   "pygments_lexer": "ipython3",
   "version": "3.10.12"
  },
  "orig_nbformat": 4,
  "vscode": {
   "interpreter": {
    "hash": "916dbcbb3f70747c44a77c7bcd40155683ae19c65e1c03b4aa3499c5328201f1"
   }
  }
 },
 "nbformat": 4,
 "nbformat_minor": 2
}
