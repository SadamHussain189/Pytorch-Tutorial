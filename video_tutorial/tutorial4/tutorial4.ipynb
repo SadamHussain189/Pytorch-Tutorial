{
 "cells": [
  {
   "cell_type": "markdown",
   "metadata": {},
   "source": [
    "# Building Models in PyTorch\n",
    "\n",
    "\n",
    "## `torch.nn.Module` and `torch.nn.Parameter`\n",
    "\n",
    "In this video, we'll be discussing some of the tools PyTorch makes available for building deep learning networks.\n",
    "\n",
    "Except for `Parameter`, the classes we discuss in this video are all subclasses of `torch.nn.Module`. This is the PyTorch base class meant to encapsulate behaviors specific to PyTorch Models and their components.\n",
    "\n",
    "One important behavior of `torch.nn.Module` is registering parameters. If a particular `Module` subclass has learning weights, these weights are expressed as instances of `torch.nn.Parameter`. The `Parameter` class is a subclass of `torch.Tensor`, with the special behavior that when they are assigned as attributes of a `Module`, they are added to the list of that modules parameters. These parameters may be accessed through the `parameters()` method on the `Module` class.\n",
    "\n",
    "As a simple example, here's a very simple model with two linear layers and an activation function. We'll create an instance of it and ask it to report on its parameters:"
   ]
  },
  {
   "cell_type": "code",
   "execution_count": 2,
   "metadata": {},
   "outputs": [
    {
     "name": "stdout",
     "output_type": "stream",
     "text": [
      "The model:\n",
      "TinayModel(\n",
      "  (linear1): Linear(in_features=100, out_features=200, bias=True)\n",
      "  (activation): ReLU()\n",
      "  (linear2): Linear(in_features=200, out_features=10, bias=True)\n",
      "  (softmax): Softmax(dim=None)\n",
      ")\n",
      "\n",
      "\n",
      " just one layer\n",
      "Linear(in_features=100, out_features=200, bias=True)\n",
      "\n",
      "\n",
      "param layer1\n",
      "Parameter containing:\n",
      "tensor([[-0.0005,  0.0329,  0.0892,  ...,  0.0624,  0.0428, -0.0364],\n",
      "        [-0.0596, -0.0298,  0.0443,  ...,  0.0806,  0.0482, -0.0863],\n",
      "        [-0.0087,  0.0188, -0.0237,  ..., -0.0613, -0.0414,  0.0011],\n",
      "        ...,\n",
      "        [ 0.0170, -0.0541, -0.0622,  ..., -0.0853,  0.0743, -0.0774],\n",
      "        [ 0.0964, -0.0146,  0.0747,  ..., -0.0589, -0.0119, -0.0707],\n",
      "        [ 0.0319,  0.0863, -0.0894,  ...,  0.0131,  0.0499, -0.0973]],\n",
      "       requires_grad=True)\n",
      "Parameter containing:\n",
      "tensor([-0.0880, -0.0786,  0.0753, -0.0438, -0.0985, -0.0398,  0.0061, -0.0676,\n",
      "        -0.0739, -0.0118,  0.0588,  0.0723,  0.0678,  0.0026,  0.0673,  0.0898,\n",
      "        -0.0431, -0.0212,  0.0740,  0.0893,  0.0118, -0.0645, -0.0163, -0.0459,\n",
      "         0.0888,  0.0427,  0.0617,  0.0589,  0.0996,  0.0450, -0.0191, -0.0590,\n",
      "         0.0166,  0.0359,  0.0022,  0.0764, -0.0763, -0.0223,  0.0321, -0.0968,\n",
      "        -0.0708, -0.0200, -0.0326,  0.0274, -0.0401,  0.0743,  0.0254,  0.0143,\n",
      "         0.0771,  0.0014,  0.0486,  0.0069, -0.0304,  0.0969,  0.0894,  0.0619,\n",
      "         0.0743,  0.0015,  0.0803, -0.0020, -0.0365, -0.0748, -0.0738,  0.0650,\n",
      "         0.0374,  0.0755, -0.0236, -0.0270, -0.0818,  0.0505,  0.0925, -0.0713,\n",
      "         0.0703, -0.0978,  0.0088, -0.0615, -0.0249, -0.0987,  0.0067, -0.0265,\n",
      "        -0.0743, -0.0081, -0.0562,  0.0914,  0.0890,  0.0957, -0.0918,  0.0097,\n",
      "         0.0715, -0.0590,  0.0514, -0.0442,  0.0691,  0.0107, -0.0977, -0.0603,\n",
      "        -0.0743, -0.0005, -0.0149, -0.0516,  0.0543, -0.0906, -0.0671,  0.0881,\n",
      "         0.0621,  0.0634, -0.0076,  0.0106,  0.0360,  0.0830,  0.0828, -0.0643,\n",
      "         0.0126, -0.0706,  0.0889,  0.0649, -0.0717,  0.0804, -0.0644,  0.0959,\n",
      "        -0.0834,  0.0033,  0.0200, -0.0662, -0.0644,  0.0594, -0.0493,  0.0452,\n",
      "         0.0164,  0.0107,  0.0412, -0.0199,  0.0569,  0.0325,  0.0887, -0.0010,\n",
      "         0.0131, -0.0828, -0.0116,  0.0032,  0.0920, -0.0959,  0.0977, -0.0389,\n",
      "         0.0641, -0.0308,  0.0941, -0.0867,  0.0918,  0.0892,  0.0123,  0.0111,\n",
      "         0.0851, -0.0042, -0.0764, -0.0483,  0.0748,  0.0090, -0.0842, -0.0219,\n",
      "        -0.0306, -0.0868,  0.0501,  0.0739,  0.0778, -0.0749, -0.0553, -0.0387,\n",
      "         0.0156, -0.0641, -0.0170,  0.0709,  0.0680,  0.0988,  0.0344,  0.0867,\n",
      "        -0.0919, -0.0083, -0.0180, -0.0133, -0.0604,  0.0980, -0.0943,  0.0514,\n",
      "        -0.0252, -0.0336,  0.0606,  0.0130, -0.0535,  0.0245,  0.0194, -0.0317,\n",
      "         0.0868,  0.0955, -0.0844, -0.0412, -0.0954, -0.0292, -0.0201, -0.0489],\n",
      "       requires_grad=True)\n",
      "\n",
      "\n",
      "parm layer 2\n",
      "Parameter containing:\n",
      "tensor([[ 0.0463,  0.0179,  0.0356,  ...,  0.0101,  0.0205,  0.0520],\n",
      "        [ 0.0244,  0.0203, -0.0097,  ...,  0.0290, -0.0707, -0.0423],\n",
      "        [ 0.0484,  0.0668,  0.0413,  ..., -0.0060, -0.0362, -0.0426],\n",
      "        ...,\n",
      "        [ 0.0661, -0.0378,  0.0564,  ..., -0.0681,  0.0355,  0.0140],\n",
      "        [ 0.0214, -0.0555, -0.0245,  ...,  0.0618, -0.0147,  0.0291],\n",
      "        [-0.0664, -0.0195,  0.0030,  ...,  0.0063, -0.0238,  0.0278]],\n",
      "       requires_grad=True)\n",
      "Parameter containing:\n",
      "tensor([ 0.0313,  0.0698,  0.0319, -0.0117, -0.0685, -0.0665, -0.0352,  0.0207,\n",
      "        -0.0213,  0.0549], requires_grad=True)\n",
      "\n",
      "\n",
      " model params\n",
      "Parameter containing:\n",
      "tensor([[-0.0005,  0.0329,  0.0892,  ...,  0.0624,  0.0428, -0.0364],\n",
      "        [-0.0596, -0.0298,  0.0443,  ...,  0.0806,  0.0482, -0.0863],\n",
      "        [-0.0087,  0.0188, -0.0237,  ..., -0.0613, -0.0414,  0.0011],\n",
      "        ...,\n",
      "        [ 0.0170, -0.0541, -0.0622,  ..., -0.0853,  0.0743, -0.0774],\n",
      "        [ 0.0964, -0.0146,  0.0747,  ..., -0.0589, -0.0119, -0.0707],\n",
      "        [ 0.0319,  0.0863, -0.0894,  ...,  0.0131,  0.0499, -0.0973]],\n",
      "       requires_grad=True)\n",
      "Parameter containing:\n",
      "tensor([-0.0880, -0.0786,  0.0753, -0.0438, -0.0985, -0.0398,  0.0061, -0.0676,\n",
      "        -0.0739, -0.0118,  0.0588,  0.0723,  0.0678,  0.0026,  0.0673,  0.0898,\n",
      "        -0.0431, -0.0212,  0.0740,  0.0893,  0.0118, -0.0645, -0.0163, -0.0459,\n",
      "         0.0888,  0.0427,  0.0617,  0.0589,  0.0996,  0.0450, -0.0191, -0.0590,\n",
      "         0.0166,  0.0359,  0.0022,  0.0764, -0.0763, -0.0223,  0.0321, -0.0968,\n",
      "        -0.0708, -0.0200, -0.0326,  0.0274, -0.0401,  0.0743,  0.0254,  0.0143,\n",
      "         0.0771,  0.0014,  0.0486,  0.0069, -0.0304,  0.0969,  0.0894,  0.0619,\n",
      "         0.0743,  0.0015,  0.0803, -0.0020, -0.0365, -0.0748, -0.0738,  0.0650,\n",
      "         0.0374,  0.0755, -0.0236, -0.0270, -0.0818,  0.0505,  0.0925, -0.0713,\n",
      "         0.0703, -0.0978,  0.0088, -0.0615, -0.0249, -0.0987,  0.0067, -0.0265,\n",
      "        -0.0743, -0.0081, -0.0562,  0.0914,  0.0890,  0.0957, -0.0918,  0.0097,\n",
      "         0.0715, -0.0590,  0.0514, -0.0442,  0.0691,  0.0107, -0.0977, -0.0603,\n",
      "        -0.0743, -0.0005, -0.0149, -0.0516,  0.0543, -0.0906, -0.0671,  0.0881,\n",
      "         0.0621,  0.0634, -0.0076,  0.0106,  0.0360,  0.0830,  0.0828, -0.0643,\n",
      "         0.0126, -0.0706,  0.0889,  0.0649, -0.0717,  0.0804, -0.0644,  0.0959,\n",
      "        -0.0834,  0.0033,  0.0200, -0.0662, -0.0644,  0.0594, -0.0493,  0.0452,\n",
      "         0.0164,  0.0107,  0.0412, -0.0199,  0.0569,  0.0325,  0.0887, -0.0010,\n",
      "         0.0131, -0.0828, -0.0116,  0.0032,  0.0920, -0.0959,  0.0977, -0.0389,\n",
      "         0.0641, -0.0308,  0.0941, -0.0867,  0.0918,  0.0892,  0.0123,  0.0111,\n",
      "         0.0851, -0.0042, -0.0764, -0.0483,  0.0748,  0.0090, -0.0842, -0.0219,\n",
      "        -0.0306, -0.0868,  0.0501,  0.0739,  0.0778, -0.0749, -0.0553, -0.0387,\n",
      "         0.0156, -0.0641, -0.0170,  0.0709,  0.0680,  0.0988,  0.0344,  0.0867,\n",
      "        -0.0919, -0.0083, -0.0180, -0.0133, -0.0604,  0.0980, -0.0943,  0.0514,\n",
      "        -0.0252, -0.0336,  0.0606,  0.0130, -0.0535,  0.0245,  0.0194, -0.0317,\n",
      "         0.0868,  0.0955, -0.0844, -0.0412, -0.0954, -0.0292, -0.0201, -0.0489],\n",
      "       requires_grad=True)\n",
      "Parameter containing:\n",
      "tensor([[ 0.0463,  0.0179,  0.0356,  ...,  0.0101,  0.0205,  0.0520],\n",
      "        [ 0.0244,  0.0203, -0.0097,  ...,  0.0290, -0.0707, -0.0423],\n",
      "        [ 0.0484,  0.0668,  0.0413,  ..., -0.0060, -0.0362, -0.0426],\n",
      "        ...,\n",
      "        [ 0.0661, -0.0378,  0.0564,  ..., -0.0681,  0.0355,  0.0140],\n",
      "        [ 0.0214, -0.0555, -0.0245,  ...,  0.0618, -0.0147,  0.0291],\n",
      "        [-0.0664, -0.0195,  0.0030,  ...,  0.0063, -0.0238,  0.0278]],\n",
      "       requires_grad=True)\n",
      "Parameter containing:\n",
      "tensor([ 0.0313,  0.0698,  0.0319, -0.0117, -0.0685, -0.0665, -0.0352,  0.0207,\n",
      "        -0.0213,  0.0549], requires_grad=True)\n"
     ]
    }
   ],
   "source": [
    "import torch\n",
    "\n",
    "class TinayModel(torch.nn.Module):\n",
    "    def __init__(self):\n",
    "        super(TinayModel, self).__init__()\n",
    "        \n",
    "        self.linear1 = torch.nn.Linear(100,200)\n",
    "        self.activation = torch.nn.ReLU()\n",
    "        self.linear2 = torch.nn.Linear(200, 10)\n",
    "        self.softmax = torch.nn.Softmax()\n",
    "        \n",
    "    def forward(self, x):\n",
    "        x = self.linear1(x)\n",
    "        x = self.activation(x)\n",
    "        x = self.linear2(x)\n",
    "        x = self.softmax(x)\n",
    "        return x\n",
    "        \n",
    "tinaymodel = TinayModel()\n",
    "\n",
    "print(\"The model:\")\n",
    "print(tinaymodel)\n",
    "\n",
    "print('\\n\\n just one layer')\n",
    "print(tinaymodel.linear1)\n",
    "\n",
    "print('\\n\\nparam layer1')\n",
    "for param in tinaymodel.linear1.parameters():\n",
    "    print(param)\n",
    "\n",
    "\n",
    "print('\\n\\nparm layer 2')    \n",
    "for param in tinaymodel.linear2.parameters():\n",
    "    print(param)\n",
    "\n",
    "print('\\n\\n model params')\n",
    "for param in tinaymodel.parameters():\n",
    "    print(param)\n"
   ]
  },
  {
   "cell_type": "markdown",
   "metadata": {},
   "source": [
    "This shows the fundamental structure of a PyTorch model: there is an `__init__()` method that defines the layers and other components of a model, and a `forward()` method where the computation gets done. Note that we can print the model, or any of its submodules, to learn about its structure.\n",
    "\n",
    "## Common Layer Types\n",
    "\n",
    "### Linear Layers\n",
    "\n",
    "The most basic type of neural network layer is a *linear* or *fully connected* layer. This is a layer where every input influences every output of the layer to a degree specified by the layer's weights. If a model has *m* inputs and *n* outputs, the weights will be an *m * n* matrix. For example:"
   ]
  },
  {
   "cell_type": "code",
   "execution_count": 5,
   "metadata": {},
   "outputs": [
    {
     "name": "stdout",
     "output_type": "stream",
     "text": [
      "Input\n",
      "tensor([[0.7866, 0.4444, 0.6020]])\n",
      "Linear(in_features=3, out_features=2, bias=True)\n",
      "\n",
      "\n",
      "Weight & Bias parameters\n",
      "Parameter containing:\n",
      "tensor([[ 0.3111,  0.3846, -0.0587],\n",
      "        [ 0.2535, -0.4069, -0.1445]], requires_grad=True)\n",
      "Parameter containing:\n",
      "tensor([ 0.5183, -0.0548], requires_grad=True)\n",
      "\n",
      "\n",
      "No_Output\n",
      "tensor([[ 0.8986, -0.1232]], grad_fn=<AddmmBackward0>)\n",
      "Input\n",
      "tensor([[0.4540, 0.9652, 0.1502]])\n",
      "Linear(in_features=3, out_features=2, bias=True)\n",
      "\n",
      "\n",
      " Weights & bias parameters\n",
      "Parameter containing:\n",
      "tensor([[ 0.3274,  0.1482, -0.3665],\n",
      "        [ 0.5592,  0.0347,  0.2450]], requires_grad=True)\n",
      "Parameter containing:\n",
      "tensor([-0.0727, -0.1678], requires_grad=True)\n"
     ]
    }
   ],
   "source": [
    "lin = torch.nn.Linear(3,2)\n",
    "x = torch.rand(1,3)\n",
    "print('Input')\n",
    "print(x)\n",
    "print(lin)\n",
    "\n",
    "print('\\n\\nWeight & Bias parameters')\n",
    "for param in lin.parameters():\n",
    "    print(param)\n",
    "\n",
    "\n",
    "y = lin(x)\n",
    "print('\\n\\nNo_Output')\n",
    "print(y)"
   ]
  },
  {
   "cell_type": "markdown",
   "metadata": {},
   "source": [
    "If you do the matrix multiplication of `x` by the linear layer's weights, and add the biases, you'll find that you get the output vector `y`.\n",
    "\n",
    "One other important feature to note: When we checked the weights of our layer with `lin.weight`, it reported itself as a `Parameter` (which is a subclass of `Tensor`), and let us know that it's tracking gradients with autograd. This is a default behavior for `Parameter` that differs from `Tensor`.\n",
    "\n",
    "Linear layers are used widely in deep learning models. One of the most common places you'll see them is in classifier models, which will usually have one or more linear layers at the end, where the last layer will have *n* outputs, where *n* is the number of classes the classifier addresses.\n",
    "\n",
    "### Convolutional Layers\n",
    "\n",
    "*Convolutional* layers are built to handle data with a high degree of spatial correlation. They are very commonly used in computer vision, where they detect close groupings of features which the compose into higher-level features. They pop up in other contexts too - for example, in NLP applications, where the a word's immediate context (that is, the other words nearby in the sequence) can affect the meaning of a sentence.\n",
    "\n",
    "We saw convolutional layers in action in LeNet5 in an earlier video:"
   ]
  },
  {
   "cell_type": "code",
   "execution_count": 12,
   "metadata": {},
   "outputs": [
    {
     "name": "stdout",
     "output_type": "stream",
     "text": [
      "Conv2d(1, 6, kernel_size=(5, 5), stride=(1, 1))\n",
      "Conv2d(6, 16, kernel_size=(3, 3), stride=(1, 1))\n"
     ]
    }
   ],
   "source": [
    "import torch.functional as F\n",
    "class LeNet(torch.nn.Module):\n",
    "    def __init__(self):\n",
    "        super(LeNet).__init__()\n",
    "        # 1 input image channel (black & white), 6 output channels, 3x3 square convolution\n",
    "        # kernel\n",
    "        self.conv1 = torch.nn.Conv2d(1, 6, 5)\n",
    "        self.conv2 = torch.nn.Conv2d(6, 16, 3)\n",
    "        # an affine operation: y = wx + b\n",
    "        self.fc1 = torch.nn.Linear(16, 6, 6, 120)\n",
    "        self.fc2 = torch.nn.Linear(120, 84)\n",
    "        self.fc3 = torch.nn.Linear(84, 10)\n",
    "\n",
    "    def forward(self, x):\n",
    "        # Max poling over (2, 2) window\n",
    "        x = F.max_pool2d(F.relu(self.conv1(x)), (2, 2))\n",
    "        # if the size is square you can only specify a single number only\n",
    "        x = F.max_pool2d(F.relu(self.conv2(x)), 2)\n",
    "        x = x.view(-1, self.num_flat_features(x))\n",
    "        x = F.relu(self.fc1(x))\n",
    "        x = F.relu(self.fc2(x))\n",
    "        x = self.fc3(x)\n",
    "        return x\n",
    "\n",
    "    def num_flat_features(self, x):\n",
    "        size = x.size()[1:] #all dimention except the batch dimention\n",
    "        num_feature = 1\n",
    "        for s in size:\n",
    "            num_feature *= s \n",
    "        return num_feature"
   ]
  },
  {
   "cell_type": "markdown",
   "metadata": {},
   "source": [
    "Let's break down what's happening in the convolutional layers of this model. Starting with `conv1`:\n",
    "\n",
    "* LeNet5 is meant to take in a 1x32x32 black & white image. **The first argument to a convolutional layer's constructor is the number of input channels.** Here, it is 1. If we were building this model to look at 3-color channels, it would be 3.\n",
    "* A convolutional layer is like a window that scans over the image, looking for a pattern it recognizes. These patterns are called *features,* and one of the parameters of a convolutional layer is the number of features we would like it to learn. **This is the second argument to the constructor is the number of output features.** Here, we're asking our layer to learn 6 features.\n",
    "* Just above, I likened the convolutional layer to a window - but how big is the window? **The third argument is the window or *kernel* size.** Here, the \"5\" means we've chosen a 5x5 kernel. (If you want a kernel with height different from width, you can specify a tuple for this argument - e.g., `(3, 5)` to get a 3x5 convolution kernel.)\n",
    "\n",
    "The output of a convolutional layer is an *activation map* - a spatial representation of the presence of features in the input tensor. `conv1` will give us an output tensor of 6x28x28; 6 is the number of features, and 28 is the height and width of our map. (The 28 comes from the fact that when scanning a 5-pixel window over a 32-pixel row, there are only 28 valid positions.)\n",
    "\n",
    "We then pass the output of the convolution through a ReLU activation function (more on activation functions later), then through a max pooling layer. The max pooling layer takes features near each other in the activation map and groups them together. It does this by reducing the tensor, merging every 2x2 group of cells in the output into a single cell, and assigning that cell the maximum value of the 4 cells that went into it. This gives us a lower-resolution version of the activation map, with dimensions 6x14x14.\n",
    "\n",
    "Our next convolutional layer, `conv2`, expects 6 input channels (corresponding to the 6 features sought by the first layer), has 16 output channels, and a 3x3 kernel. It puts out a 16x12x12 activation map, which is again reduced by a max pooling layer to 16x6x6. Prior to passing this output to the linear layers, it is reshaped to a 16 * 6 * 6 = 576-element vector for consumption by the next layer.\n",
    "\n",
    "There are convolutional layers for addressing 1D, 2D, and 3D tensors. There are also many more optional arguments for a conv layer constructor, including stride length(e.g., only scanning every second or every third position) in the input, padding (so you can scan out to the edges of the input), and more. See the [documentation](https://pytorch.org/docs/stable/nn.html#convolution-layers) for more information.\n",
    "\n",
    "### Recurrent Layers\n",
    "\n",
    "*Recurrent neural networks* (or *RNNs)* are used for sequential data - anything from time-series measurements from a scientific instrument to natural language sentences to DNA nucleotides. An RNN does this by maintaining a *hidden state* that acts as a sort of memory for what it has seen in the sequence so far.\n",
    "\n",
    "The internal structure of an RNN layer - or its variants, the LSTM (long short-term memory) and GRU (gated recurrent unit) - is moderately complex and beyond the scope of this video, but we'll show you what one looks like in action with an LSTM-based part-of-speech tagger (a type of classifier that tells you if a word is a noun, verb, etc.):"
   ]
  },
  {
   "cell_type": "code",
   "execution_count": 15,
   "metadata": {},
   "outputs": [],
   "source": [
    "class LSTMTagger(torch.nn.Module):\n",
    "    \n",
    "    def __init__(self, embedding_dim, hidden_dim, vocab_size, tagset_size):\n",
    "        super(self, LSTMTagger).__init__()\n",
    "        self.hidden_dim = hidden_dim\n",
    "        \n",
    "        self.word_embeddings = torch.nn.Embedding(vocab_size, embedding_dim)\n",
    "        \n",
    "        # The LSTM takes word embeddings as inputs, and outputs hidden states\n",
    "        # with dimensionality hidden_dim.\n",
    "        \n",
    "        self.lstm = torch.nn.LSTM(embedding_dim, hidden_dim)\n",
    "        \n",
    "        self.hidden2tag = torch.nn.Linear(hidden_dim, tagset_size)\n",
    "        \n",
    "        \n",
    "    def forward(self, sentence):\n",
    "        embeds = self.word_embeddings(sentence)\n",
    "        lstm_out, _ = self.lstm(embeds.view(len(sentence), 1, -1))\n",
    "        tag_space = self.hidden2tag(lstm_out.view(len(sentence), -1))\n",
    "        tag_scores = F.log_softmax(tag_space, dim=1)\n",
    "        return tag_scores\n",
    "\n"
   ]
  },
  {
   "cell_type": "markdown",
   "metadata": {},
   "source": [
    "The constructor has four arguments:\n",
    "\n",
    "* `vocab_size` is the number of words in the input vocabulary. Each word is a one-hot vector (or unit vector) in a `vocab_size`-dimensional space.\n",
    "* `tagset_size` is the number of tags in the output set.\n",
    "* `embedding_dim` is the size of the *embedding* space for the vocabulary. An embedding maps a vocabulary onto a low-dimensional space, where words with similar meanings are close together in the space.\n",
    "* `hidden_dim` is the size of the LSTM's memory.\n",
    "\n",
    "The input will be a sentence with the words represented as indices of of one-hot vectors. The embedding layer will then map these down to an `embedding_dim`-dimensional space. The LSTM takes this sequence of embeddings and iterates over it, fielding an output vector of length `hidden_dim`. The final linear layer acts as a classifier; applying `log_softmax()` to the output of the final layer converts the output into a normalized set of estimated probabilities that a given word maps to a given tag.\n",
    "\n",
    "If you'd like to see this network in action, check out the [Sequence Models and LSTM Networks](https://pytorch.org/tutorials/beginner/nlp/sequence_models_tutorial.html) tutorial on pytorch.org.\n",
    "\n",
    "### Transformers\n",
    "\n",
    "*Transformers* are multi-purpose networks that have taken over the state of the art in NLP with models like BERT. A discussion of transformer architecture is beyond the scope of this video, but PyTorch has a `Transformer` class that allows you to define the overall parameters of a transformer model - the number of attention heads, the number of encoder & decoder layers, dropout and activation functions, etc. (You can even build the BERT model from this single class, with the right parameters!) The `torch.nn.Transformer` class also has classes to encapsulate the individual components (`TransformerEncoder`, `TransformerDecoder`) and subcomponents (`TransformerEncoderLayer`, `TransformerDecoderLayer`). For details, check out the [documentation](https://pytorch.org/docs/stable/nn.html#transformer) on transformer classes, and the relevant [tutorial](https://pytorch.org/tutorials/beginner/transformer_tutorial.html) on pytorch.org.\n",
    "\n",
    "## Other Layers and Functions\n",
    "\n",
    "### Data Manipulation Layers\n",
    "\n",
    "There are other layer types that perform important functions in models, but don't participate in the learning process themselves.\n",
    "\n",
    "**Max pooling** (and its twin, min pooling) reduce a tensor by combining cells, and assigning the maximum value of the input cells to the output cell. (We saw this ) For example:"
   ]
  },
  {
   "cell_type": "code",
   "execution_count": 5,
   "metadata": {},
   "outputs": [
    {
     "name": "stdout",
     "output_type": "stream",
     "text": [
      "tensor([[[0.8149, 0.9944, 0.4449, 0.4133, 0.1459, 0.7516],\n",
      "         [0.0941, 0.2105, 0.3446, 0.7380, 0.8519, 0.6195],\n",
      "         [0.8375, 0.3462, 0.8066, 0.8259, 0.4632, 0.4179],\n",
      "         [0.8405, 0.2359, 0.9524, 0.2813, 0.2178, 0.4697],\n",
      "         [0.9711, 0.4643, 0.1273, 0.7460, 0.7844, 0.4992],\n",
      "         [0.5714, 0.0463, 0.5838, 0.6694, 0.9364, 0.4854]]])\n",
      "tensor([[[0.9944, 0.8519],\n",
      "         [0.9711, 0.9364]]])\n"
     ]
    }
   ],
   "source": [
    "my_tensor = torch.rand(1, 6, 6)\n",
    "print(my_tensor)\n",
    "\n",
    "maxpool_layer = torch.nn.MaxPool2d(3)\n",
    "print(maxpool_layer(my_tensor))"
   ]
  },
  {
   "cell_type": "markdown",
   "metadata": {},
   "source": [
    "If you look closely at the values above, you'll see that each of the values in the maxpooled output is the maximum value of each quadrant of the 6x6 input.\n",
    "\n",
    "**Normalization layers** re-center and normalize the output of one layer before feeding it to another. Centering the and scaling the intermediate tensors has a number of beneficial effects, such as letting you use higher learning rates without exploding/vanishing gradients."
   ]
  },
  {
   "cell_type": "code",
   "execution_count": 8,
   "metadata": {},
   "outputs": [
    {
     "name": "stdout",
     "output_type": "stream",
     "text": [
      "tensor([[[22.0678, 12.2881,  5.3417, 20.1668],\n",
      "         [16.8151, 15.4680,  7.8806,  5.8742],\n",
      "         [15.1511, 16.1127, 22.7172, 14.9652],\n",
      "         [ 6.8022,  5.6019, 21.4922, 14.3775]]])\n",
      "\n",
      "\n",
      "mean of my_tensor\n",
      " tensor(13.9451)\n",
      "\n",
      "Normalized Layer\n",
      " BatchNorm1d(4, eps=1e-05, momentum=0.1, affine=True, track_running_stats=True)\n",
      "\n",
      "Normalized_Tensor_mean\n",
      " tensor(2.9802e-08, grad_fn=<MeanBackward0>)\n"
     ]
    }
   ],
   "source": [
    "my_tensor = torch.rand(1, 4, 4) *20 +5 \n",
    "print(my_tensor)\n",
    "\n",
    "print(\"\\n\\nmean of my_tensor\\n\",my_tensor.mean())\n",
    "\n",
    "norm_layer = torch.nn.BatchNorm1d(4)\n",
    "print(\"\\nNormalized Layer\\n\",norm_layer)\n",
    "normed_tensor = norm_layer(my_tensor)\n",
    "print(\"\\nNormalized_Tensor_mean\\n\", normed_tensor.mean())"
   ]
  },
  {
   "cell_type": "markdown",
   "metadata": {},
   "source": [
    "Running the cell above, we've added a large scaling factor and offset to an input tensor; you should see the input tensor's `mean()` somewhere in the neighborhood of 15. After running it through the normalization layer, you can see that the values are smaller, and grouped around zero - in fact, the mean should be very small (> 1e-8).\n",
    "\n",
    "This is beneficial because many activation functions (discussed below) have their strongest gradients near 0, but sometimes suffer from vanishing or exploding gradients for inputs that drive them far away from zero. Keeping the data centered around the area of steepest gradient will tend to mean faster, better learning and higher feasible learning rates.\n",
    "\n",
    "**Dropout layers** are a tool for encouraging *sparse representations* in your model - that is, pushing it to do inference with less data.\n",
    "\n",
    "Dropout layers work by randomly setting parts of the input tensor *during training* - dropout layers are always turned off for inference. This forces the model to learn against this masked or reduced dataset. For example:"
   ]
  },
  {
   "cell_type": "code",
   "execution_count": 14,
   "metadata": {},
   "outputs": [
    {
     "name": "stdout",
     "output_type": "stream",
     "text": [
      "tensor([[[1.5100, 0.0000, 0.0741, 0.0000],\n",
      "         [0.0000, 0.7936, 0.1199, 1.3543],\n",
      "         [0.7774, 0.0000, 0.1328, 1.2640],\n",
      "         [0.0000, 0.5374, 0.8952, 1.3534]]])\n",
      "tensor([[[1.5100, 0.0000, 0.0741, 0.0000],\n",
      "         [0.8946, 0.7936, 0.1199, 1.3543],\n",
      "         [0.0000, 0.7345, 0.0000, 0.0000],\n",
      "         [0.8445, 0.5374, 0.0000, 1.3534]]])\n"
     ]
    }
   ],
   "source": [
    "my_tensor = torch.rand(1, 4, 4)\n",
    "\n",
    "dropout = torch.nn.Dropout(p=0.4)\n",
    "\n",
    "print(dropout(my_tensor))\n",
    "print(dropout(my_tensor))"
   ]
  },
  {
   "cell_type": "markdown",
   "metadata": {},
   "source": [
    "Above, you can see the effect of dropout on a sample tensor. You can use the optional `p` argument to set the probability of an individual weight dropping out; if you don't it defaults to 0.5.\n",
    "\n",
    "### Activation Functions\n",
    "\n",
    "Activation functions make deep learning possible. A neural network is really a program - with many parameters - that *simulates a mathematical function*. If all we did was multiple tensors by layer weights repeatedly, we could only simulate *linear functions;* further, there would be no point to having many layers, as the whole network would reduce could be reduced to a single matrix multiplication. Inserting *non-linear* activation functions between layers is what allows a deep learning model to simulate any function, rather than just linear ones.\n",
    "\n",
    "`torch.nn.Module` has objects encapsulating all of the major activation functions including ReLU and its many variants, Tanh, Hardtanh, sigmoid, and more. It also includes other functions, such as Softmax, that are most useful at the output stage of a model.\n",
    "\n",
    "### Loss Functions\n",
    "\n",
    "Loss functions tell us how far a model's prediction is from the correct answer. PyTorch contains a variety of loss functions, including common MSE (mean squared error = L2 norm), Cross Entropy Loss and Negative Likelihood Loss (useful for classifiers), and others."
   ]
  },
  {
   "cell_type": "markdown",
   "metadata": {},
   "source": [
    "## Advanced: Replacing Layers"
   ]
  },
  {
   "cell_type": "code",
   "execution_count": null,
   "metadata": {},
   "outputs": [],
   "source": []
  }
 ],
 "metadata": {
  "kernelspec": {
   "display_name": "Python 3.10.12 64-bit",
   "language": "python",
   "name": "python3"
  },
  "language_info": {
   "codemirror_mode": {
    "name": "ipython",
    "version": 3
   },
   "file_extension": ".py",
   "mimetype": "text/x-python",
   "name": "python",
   "nbconvert_exporter": "python",
   "pygments_lexer": "ipython3",
   "version": "3.10.12"
  },
  "orig_nbformat": 4,
  "vscode": {
   "interpreter": {
    "hash": "916dbcbb3f70747c44a77c7bcd40155683ae19c65e1c03b4aa3499c5328201f1"
   }
  }
 },
 "nbformat": 4,
 "nbformat_minor": 2
}
